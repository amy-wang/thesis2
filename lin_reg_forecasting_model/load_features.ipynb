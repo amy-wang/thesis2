{
 "cells": [
  {
   "cell_type": "code",
   "execution_count": 1,
   "metadata": {},
   "outputs": [],
   "source": [
    "import pandas as pd\n",
    "import numpy as np\n",
    "import seaborn as sns\n",
    "\n",
    "from datetime import datetime, timedelta\n",
    "from pandas.tseries.holiday import USFederalHolidayCalendar\n",
    "\n",
    "from sklearn.metrics import mean_squared_error, make_scorer\n",
    "from sklearn.preprocessing import StandardScaler\n",
    "import matplotlib.pyplot as plt\n",
    "from sklearn.linear_model import LinearRegression\n",
    "from scipy.stats import skew\n",
    "from scipy import stats\n",
    "from scipy.stats import norm\n",
    "from sklearn.model_selection import cross_val_score, train_test_split"
   ]
  },
  {
   "cell_type": "markdown",
   "metadata": {},
   "source": [
    "### Load Features"
   ]
  },
  {
   "cell_type": "markdown",
   "metadata": {},
   "source": [
    "##### Combine MEF data and temperature data into one dataframe"
   ]
  },
  {
   "cell_type": "code",
   "execution_count": 2,
   "metadata": {},
   "outputs": [
    {
     "name": "stdout",
     "output_type": "stream",
     "text": [
      "currently processing TRE\n",
      "currently processing MRO\n",
      "currently processing WECC\n",
      "currently processing SPP\n",
      "currently processing SERC\n",
      "currently processing RFC\n",
      "currently processing FRCC\n",
      "currently processing NPCC\n"
     ]
    }
   ],
   "source": [
    "# Clean data so I have MEF for each region in a file with the region name \n",
    "region_df = pd.DataFrame()\n",
    "nerc_regions = ['TRE', 'MRO', 'WECC', 'SPP', 'SERC', 'RFC', 'FRCC', 'NPCC']\n",
    "for region in nerc_regions:\n",
    "    print(\"currently processing \" + region)\n",
    "    region = 'TRE'\n",
    "    # Add MEF data to df \n",
    "    for year in range(2012, 2018): \n",
    "        df = pd.read_csv(\"data/simulated/dispatch_output_weekly_\" + region + \"_\" + str(year) + \"_0co2_v27_coal_vom_same.csv\")\n",
    "        df = df[['datetime', 'co2_marg', 'so2_marg', 'nox_marg']]\n",
    "        region_df = pd.concat((region_df, df))\n",
    "\n",
    "    # Add temperature data \n",
    "    region_df['date'] = pd.DatetimeIndex(region_df['datetime']).normalize()\n",
    "    temp_df = pd.read_csv(\"data/temperature/\" + region + \".csv\")\n",
    "    temp_df['date'] = pd.to_datetime(temp_df['date'])\n",
    "    \n",
    "    # Combine and save the df \n",
    "    result_df = pd.merge(temp_df, region_df)\n",
    "    result_df = result_df[['datetime', 'co2_marg', 'so2_marg', 'nox_marg', 'maxTemp', 'minTemp']]\n",
    "    result_df.to_csv(\"data/mefs/\" + region + \"_with_temp.csv\")"
   ]
  },
  {
   "cell_type": "markdown",
   "metadata": {},
   "source": [
    "##### Load Features for One Region\n",
    "\n",
    "Extract information from datetime column (is_weekend, is_holiday, month, hour)"
   ]
  },
  {
   "cell_type": "code",
   "execution_count": 3,
   "metadata": {},
   "outputs": [
    {
     "data": {
      "text/html": [
       "<div>\n",
       "<style scoped>\n",
       "    .dataframe tbody tr th:only-of-type {\n",
       "        vertical-align: middle;\n",
       "    }\n",
       "\n",
       "    .dataframe tbody tr th {\n",
       "        vertical-align: top;\n",
       "    }\n",
       "\n",
       "    .dataframe thead th {\n",
       "        text-align: right;\n",
       "    }\n",
       "</style>\n",
       "<table border=\"1\" class=\"dataframe\">\n",
       "  <thead>\n",
       "    <tr style=\"text-align: right;\">\n",
       "      <th></th>\n",
       "      <th>co2_marg</th>\n",
       "      <th>so2_marg</th>\n",
       "      <th>nox_marg</th>\n",
       "      <th>is_weekend</th>\n",
       "      <th>is_holiday</th>\n",
       "      <th>year</th>\n",
       "      <th>cos_month</th>\n",
       "      <th>sin_month</th>\n",
       "      <th>cos_hour</th>\n",
       "      <th>sin_hour</th>\n",
       "      <th>avg_temp</th>\n",
       "    </tr>\n",
       "  </thead>\n",
       "  <tbody>\n",
       "    <tr>\n",
       "      <th>0</th>\n",
       "      <td>369.328381</td>\n",
       "      <td>0.001866</td>\n",
       "      <td>0.102505</td>\n",
       "      <td>True</td>\n",
       "      <td>False</td>\n",
       "      <td>2012</td>\n",
       "      <td>0.866025</td>\n",
       "      <td>5.000000e-01</td>\n",
       "      <td>1.000000e+00</td>\n",
       "      <td>0.000000</td>\n",
       "      <td>43.43</td>\n",
       "    </tr>\n",
       "    <tr>\n",
       "      <th>1</th>\n",
       "      <td>380.870787</td>\n",
       "      <td>0.001924</td>\n",
       "      <td>0.035481</td>\n",
       "      <td>True</td>\n",
       "      <td>False</td>\n",
       "      <td>2012</td>\n",
       "      <td>0.866025</td>\n",
       "      <td>5.000000e-01</td>\n",
       "      <td>8.660254e-01</td>\n",
       "      <td>0.500000</td>\n",
       "      <td>43.43</td>\n",
       "    </tr>\n",
       "    <tr>\n",
       "      <th>2</th>\n",
       "      <td>985.614462</td>\n",
       "      <td>2.826002</td>\n",
       "      <td>0.663500</td>\n",
       "      <td>True</td>\n",
       "      <td>False</td>\n",
       "      <td>2012</td>\n",
       "      <td>0.866025</td>\n",
       "      <td>5.000000e-01</td>\n",
       "      <td>5.000000e-01</td>\n",
       "      <td>0.866025</td>\n",
       "      <td>43.43</td>\n",
       "    </tr>\n",
       "    <tr>\n",
       "      <th>3</th>\n",
       "      <td>380.870787</td>\n",
       "      <td>0.001924</td>\n",
       "      <td>0.035481</td>\n",
       "      <td>True</td>\n",
       "      <td>False</td>\n",
       "      <td>2012</td>\n",
       "      <td>0.866025</td>\n",
       "      <td>5.000000e-01</td>\n",
       "      <td>6.123234e-17</td>\n",
       "      <td>1.000000</td>\n",
       "      <td>43.43</td>\n",
       "    </tr>\n",
       "    <tr>\n",
       "      <th>4</th>\n",
       "      <td>369.015563</td>\n",
       "      <td>0.001864</td>\n",
       "      <td>0.099055</td>\n",
       "      <td>True</td>\n",
       "      <td>False</td>\n",
       "      <td>2012</td>\n",
       "      <td>0.866025</td>\n",
       "      <td>5.000000e-01</td>\n",
       "      <td>-5.000000e-01</td>\n",
       "      <td>0.866025</td>\n",
       "      <td>43.43</td>\n",
       "    </tr>\n",
       "    <tr>\n",
       "      <th>...</th>\n",
       "      <td>...</td>\n",
       "      <td>...</td>\n",
       "      <td>...</td>\n",
       "      <td>...</td>\n",
       "      <td>...</td>\n",
       "      <td>...</td>\n",
       "      <td>...</td>\n",
       "      <td>...</td>\n",
       "      <td>...</td>\n",
       "      <td>...</td>\n",
       "      <td>...</td>\n",
       "    </tr>\n",
       "    <tr>\n",
       "      <th>841723</th>\n",
       "      <td>394.666737</td>\n",
       "      <td>0.001994</td>\n",
       "      <td>0.081923</td>\n",
       "      <td>True</td>\n",
       "      <td>False</td>\n",
       "      <td>2017</td>\n",
       "      <td>1.000000</td>\n",
       "      <td>-2.449294e-16</td>\n",
       "      <td>-8.660254e-01</td>\n",
       "      <td>-0.500000</td>\n",
       "      <td>44.51</td>\n",
       "    </tr>\n",
       "    <tr>\n",
       "      <th>841724</th>\n",
       "      <td>1046.883693</td>\n",
       "      <td>3.660423</td>\n",
       "      <td>0.299980</td>\n",
       "      <td>True</td>\n",
       "      <td>False</td>\n",
       "      <td>2017</td>\n",
       "      <td>1.000000</td>\n",
       "      <td>-2.449294e-16</td>\n",
       "      <td>-5.000000e-01</td>\n",
       "      <td>-0.866025</td>\n",
       "      <td>44.51</td>\n",
       "    </tr>\n",
       "    <tr>\n",
       "      <th>841725</th>\n",
       "      <td>426.376950</td>\n",
       "      <td>0.002153</td>\n",
       "      <td>0.107935</td>\n",
       "      <td>True</td>\n",
       "      <td>False</td>\n",
       "      <td>2017</td>\n",
       "      <td>1.000000</td>\n",
       "      <td>-2.449294e-16</td>\n",
       "      <td>-4.286264e-16</td>\n",
       "      <td>-1.000000</td>\n",
       "      <td>44.51</td>\n",
       "    </tr>\n",
       "    <tr>\n",
       "      <th>841726</th>\n",
       "      <td>975.438518</td>\n",
       "      <td>5.927592</td>\n",
       "      <td>0.707773</td>\n",
       "      <td>True</td>\n",
       "      <td>False</td>\n",
       "      <td>2017</td>\n",
       "      <td>1.000000</td>\n",
       "      <td>-2.449294e-16</td>\n",
       "      <td>5.000000e-01</td>\n",
       "      <td>-0.866025</td>\n",
       "      <td>44.51</td>\n",
       "    </tr>\n",
       "    <tr>\n",
       "      <th>841727</th>\n",
       "      <td>975.438518</td>\n",
       "      <td>5.927592</td>\n",
       "      <td>0.707773</td>\n",
       "      <td>True</td>\n",
       "      <td>False</td>\n",
       "      <td>2017</td>\n",
       "      <td>1.000000</td>\n",
       "      <td>-2.449294e-16</td>\n",
       "      <td>8.660254e-01</td>\n",
       "      <td>-0.500000</td>\n",
       "      <td>44.51</td>\n",
       "    </tr>\n",
       "  </tbody>\n",
       "</table>\n",
       "<p>841728 rows × 11 columns</p>\n",
       "</div>"
      ],
      "text/plain": [
       "           co2_marg  so2_marg  nox_marg  is_weekend  is_holiday  year  \\\n",
       "0        369.328381  0.001866  0.102505        True       False  2012   \n",
       "1        380.870787  0.001924  0.035481        True       False  2012   \n",
       "2        985.614462  2.826002  0.663500        True       False  2012   \n",
       "3        380.870787  0.001924  0.035481        True       False  2012   \n",
       "4        369.015563  0.001864  0.099055        True       False  2012   \n",
       "...             ...       ...       ...         ...         ...   ...   \n",
       "841723   394.666737  0.001994  0.081923        True       False  2017   \n",
       "841724  1046.883693  3.660423  0.299980        True       False  2017   \n",
       "841725   426.376950  0.002153  0.107935        True       False  2017   \n",
       "841726   975.438518  5.927592  0.707773        True       False  2017   \n",
       "841727   975.438518  5.927592  0.707773        True       False  2017   \n",
       "\n",
       "        cos_month     sin_month      cos_hour  sin_hour  avg_temp  \n",
       "0        0.866025  5.000000e-01  1.000000e+00  0.000000     43.43  \n",
       "1        0.866025  5.000000e-01  8.660254e-01  0.500000     43.43  \n",
       "2        0.866025  5.000000e-01  5.000000e-01  0.866025     43.43  \n",
       "3        0.866025  5.000000e-01  6.123234e-17  1.000000     43.43  \n",
       "4        0.866025  5.000000e-01 -5.000000e-01  0.866025     43.43  \n",
       "...           ...           ...           ...       ...       ...  \n",
       "841723   1.000000 -2.449294e-16 -8.660254e-01 -0.500000     44.51  \n",
       "841724   1.000000 -2.449294e-16 -5.000000e-01 -0.866025     44.51  \n",
       "841725   1.000000 -2.449294e-16 -4.286264e-16 -1.000000     44.51  \n",
       "841726   1.000000 -2.449294e-16  5.000000e-01 -0.866025     44.51  \n",
       "841727   1.000000 -2.449294e-16  8.660254e-01 -0.500000     44.51  \n",
       "\n",
       "[841728 rows x 11 columns]"
      ]
     },
     "execution_count": 3,
     "metadata": {},
     "output_type": "execute_result"
    }
   ],
   "source": [
    "# Add columns: is_weekend, is_holiday, month, hour\n",
    "# Start with TRE as an example\n",
    "\n",
    "region = \"TRE\"\n",
    "df = pd.read_csv(\"data/mefs/\" + region + \"_with_temp.csv\", index_col=0)\n",
    "df['datetime'] = pd.to_datetime(df['datetime'])\n",
    "\n",
    "# Create column indicating if date is a weekend \n",
    "df['is_weekend'] = df['datetime'].apply(lambda x: x.weekday() >= 5)\n",
    "\n",
    "# Create column indicating if date is a holiday \n",
    "holidays = USFederalHolidayCalendar().holidays(start='2012-1-31', end='2017-12-31')\n",
    "df['is_holiday'] = df['datetime'].isin(holidays)\n",
    "\n",
    "# Create column with month, and hour \n",
    "month_to_season = ['winter'] * 3 + ['trans'] + ['summer'] * 5 + ['trans'] + ['winter'] * 2\n",
    "df['month'] = pd.DatetimeIndex(df.datetime).month \n",
    "df['hour'] = pd.DatetimeIndex(df.datetime).hour\n",
    "df['year'] = pd.DatetimeIndex(df.datetime).year\n",
    "\n",
    "# sin/cos correct of month and hour \n",
    "df['cos_month'] = np.cos((df.month)*(2*np.pi/12))\n",
    "df['sin_month'] = np.sin((df.month)*(2*np.pi/12))\n",
    "df['cos_hour'] = np.cos((df.hour)*(2*np.pi/12))\n",
    "df['sin_hour'] = np.sin((df.hour)*(2*np.pi/12))\n",
    "\n",
    "# Find average temperature between max and min \n",
    "df['avg_temp'] = df[['maxTemp', 'minTemp']].mean(axis=1)\n",
    "\n",
    "df = df.drop(['month', 'hour', 'maxTemp', 'minTemp', 'datetime'], axis=1)\n",
    "\n",
    "df"
   ]
  },
  {
   "cell_type": "markdown",
   "metadata": {},
   "source": [
    "###  Data Exploration"
   ]
  },
  {
   "cell_type": "markdown",
   "metadata": {},
   "source": [
    "##### Graph the dependent variables "
   ]
  },
  {
   "cell_type": "code",
   "execution_count": 5,
   "metadata": {},
   "outputs": [
    {
     "data": {
      "text/plain": [
       "<matplotlib.axes._subplots.AxesSubplot at 0x7fa416859a90>"
      ]
     },
     "execution_count": 5,
     "metadata": {},
     "output_type": "execute_result"
    },
    {
     "data": {
      "image/png": "[encoded data removed]",
      "text/plain": [
       "<Figure size 432x288 with 1 Axes>"
      ]
     },
     "metadata": {
      "needs_background": "light"
     },
     "output_type": "display_data"
    }
   ],
   "source": [
    "sns.distplot(df['co2_marg'])"
   ]
  },
  {
   "cell_type": "code",
   "execution_count": 6,
   "metadata": {},
   "outputs": [
    {
     "data": {
      "text/plain": [
       "<matplotlib.axes._subplots.AxesSubplot at 0x7fa40f2b1518>"
      ]
     },
     "execution_count": 6,
     "metadata": {},
     "output_type": "execute_result"
    },
    {
     "data": {
      "image/png": "[encoded data removed]",
      "text/plain": [
       "<Figure size 432x288 with 1 Axes>"
      ]
     },
     "metadata": {
      "needs_background": "light"
     },
     "output_type": "display_data"
    }
   ],
   "source": [
    "sns.distplot(df['so2_marg'])"
   ]
  },
  {
   "cell_type": "code",
   "execution_count": 7,
   "metadata": {},
   "outputs": [
    {
     "data": {
      "text/plain": [
       "<matplotlib.axes._subplots.AxesSubplot at 0x7fa40f2184e0>"
      ]
     },
     "execution_count": 7,
     "metadata": {},
     "output_type": "execute_result"
    },
    {
     "data": {
      "image/png": "[encoded data removed]",
      "text/plain": [
       "<Figure size 432x288 with 1 Axes>"
      ]
     },
     "metadata": {
      "needs_background": "light"
     },
     "output_type": "display_data"
    }
   ],
   "source": [
    "sns.distplot(df['nox_marg'])"
   ]
  },
  {
   "cell_type": "markdown",
   "metadata": {},
   "source": [
    "##### Correlation Matrix"
   ]
  },
  {
   "cell_type": "code",
   "execution_count": 8,
   "metadata": {},
   "outputs": [
    {
     "data": {
      "image/png": "[encoded data removed]",
      "text/plain": [
       "<Figure size 864x648 with 2 Axes>"
      ]
     },
     "metadata": {
      "needs_background": "light"
     },
     "output_type": "display_data"
    }
   ],
   "source": [
    "corrmat = df.corr()\n",
    "f, ax = plt.subplots(figsize=(12, 9))\n",
    "sns.heatmap(corrmat, vmax=.8, square=True);"
   ]
  },
  {
   "cell_type": "code",
   "execution_count": 4,
   "metadata": {},
   "outputs": [
    {
     "name": "stdout",
     "output_type": "stream",
     "text": [
      "co2_marg      1.000000\n",
      "so2_marg      0.647587\n",
      "nox_marg      0.645533\n",
      "cos_month     0.058944\n",
      "year          0.053094\n",
      "is_weekend    0.018881\n",
      "sin_hour      0.015791\n",
      "cos_hour      0.013842\n",
      "is_holiday    0.010741\n",
      "avg_temp     -0.006678\n",
      "sin_month    -0.014373\n",
      "Name: co2_marg, dtype: float64\n"
     ]
    }
   ],
   "source": [
    "corr = df.corr()\n",
    "corr.sort_values([\"co2_marg\"], ascending = False, inplace = True)\n",
    "print(corr.co2_marg)"
   ]
  },
  {
   "cell_type": "markdown",
   "metadata": {},
   "source": [
    "### Regression"
   ]
  },
  {
   "cell_type": "code",
   "execution_count": 5,
   "metadata": {},
   "outputs": [],
   "source": [
    "x = df.iloc[:,3:11]\n",
    "y = df.iloc[:,0:3]\n",
    "\n",
    "X_train,X_test,y_train,y_test = train_test_split(x,y,test_size = 0.2,random_state = 100) "
   ]
  },
  {
   "cell_type": "code",
   "execution_count": 6,
   "metadata": {},
   "outputs": [
    {
     "name": "stderr",
     "output_type": "stream",
     "text": [
      "/home/amy/.local/lib/python3.6/site-packages/pandas/core/indexing.py:965: SettingWithCopyWarning: \n",
      "A value is trying to be set on a copy of a slice from a DataFrame.\n",
      "Try using .loc[row_indexer,col_indexer] = value instead\n",
      "\n",
      "See the caveats in the documentation: https://pandas.pydata.org/pandas-docs/stable/user_guide/indexing.html#returning-a-view-versus-a-copy\n",
      "  self.obj[item] = s\n",
      "/home/amy/.local/lib/python3.6/site-packages/pandas/core/indexing.py:965: SettingWithCopyWarning: \n",
      "A value is trying to be set on a copy of a slice from a DataFrame.\n",
      "Try using .loc[row_indexer,col_indexer] = value instead\n",
      "\n",
      "See the caveats in the documentation: https://pandas.pydata.org/pandas-docs/stable/user_guide/indexing.html#returning-a-view-versus-a-copy\n",
      "  self.obj[item] = s\n"
     ]
    }
   ],
   "source": [
    "# Standardize numerical features\n",
    "numerical_features = X_train.select_dtypes(exclude = [\"object\"]).columns\n",
    "\n",
    "stdSc = StandardScaler()\n",
    "X_train.loc[:, numerical_features] = stdSc.fit_transform(X_train.loc[:, numerical_features])\n",
    "X_test.loc[:, numerical_features] = stdSc.transform(X_test.loc[:, numerical_features])"
   ]
  },
  {
   "cell_type": "markdown",
   "metadata": {},
   "source": [
    "##### Linear Regression "
   ]
  },
  {
   "cell_type": "code",
   "execution_count": 23,
   "metadata": {},
   "outputs": [],
   "source": [
    "# Define error measure for official scoring : RMSE\n",
    "scorer = make_scorer(mean_squared_error, greater_is_better = False)\n",
    "\n",
    "def rmse_cv_train(model, col):\n",
    "    rmse= np.sqrt(-cross_val_score(model, X_train, y_train[col], scoring = scorer, cv = 10))\n",
    "    return(rmse)\n",
    "\n",
    "def rmse_cv_test(model, col):\n",
    "    rmse= np.sqrt(-cross_val_score(model, X_test, y_test[col], scoring = scorer, cv = 10))\n",
    "    return(rmse)"
   ]
  },
  {
   "cell_type": "code",
   "execution_count": 25,
   "metadata": {},
   "outputs": [
    {
     "name": "stdout",
     "output_type": "stream",
     "text": [
      "RMSE on Training set\n",
      "\n",
      "CO2: 230.0233941168463\n",
      "SO2: 1.2585068046516816\n",
      "NOX: 0.2953409922321949\n",
      "RMSE on Test set\n",
      "\n",
      "CO2: 230.15653301298053\n",
      "SO2: 1.266118627571635\n",
      "NOX: 0.2949691377008302\n"
     ]
    }
   ],
   "source": [
    "lr = LinearRegression()\n",
    "lr.fit(X_train, y_train)\n",
    "\n",
    "# Look at predictions on training and validation set\n",
    "print(\"RMSE on Training set\\n\")\n",
    "print(\"CO2:\", rmse_cv_train(lr, \"co2_marg\").mean())\n",
    "print(\"SO2:\", rmse_cv_train(lr, \"so2_marg\").mean())\n",
    "print(\"NOX:\", rmse_cv_train(lr, \"nox_marg\").mean())\n",
    "print(\"RMSE on Test set\\n\")\n",
    "print(\"CO2:\", rmse_cv_test(lr, \"co2_marg\").mean())\n",
    "print(\"SO2:\", rmse_cv_test(lr, \"so2_marg\").mean())\n",
    "print(\"NOX:\", rmse_cv_test(lr, \"nox_marg\").mean())"
   ]
  },
  {
   "cell_type": "code",
   "execution_count": 19,
   "metadata": {},
   "outputs": [
    {
     "data": {
      "text/plain": [
       "co2_marg   -16.222794\n",
       "so2_marg    -0.473606\n",
       "nox_marg    -0.034993\n",
       "dtype: float64"
      ]
     },
     "execution_count": 19,
     "metadata": {},
     "output_type": "execute_result"
    }
   ],
   "source": [
    "y_pred = lr.predict(X_test)\n",
    "y_error = y_test - y_pred\n",
    "y_error.median()"
   ]
  }
 ],
 "metadata": {
  "kernelspec": {
   "display_name": "Python 3",
   "language": "python",
   "name": "python3"
  },
  "language_info": {
   "codemirror_mode": {
    "name": "ipython",
    "version": 3
   },
   "file_extension": ".py",
   "mimetype": "text/x-python",
   "name": "python",
   "nbconvert_exporter": "python",
   "pygments_lexer": "ipython3",
   "version": "3.6.9"
  }
 },
 "nbformat": 4,
 "nbformat_minor": 2
}
