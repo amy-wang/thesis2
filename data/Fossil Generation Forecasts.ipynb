{
 "cells": [
  {
   "cell_type": "code",
   "execution_count": 428,
   "metadata": {},
   "outputs": [],
   "source": [
    "import pandas as pd\n",
    "import numpy as np\n",
    "import matplotlib.pyplot as plt"
   ]
  },
  {
   "cell_type": "code",
   "execution_count": 349,
   "metadata": {},
   "outputs": [],
   "source": [
    "def extract_date(df, date_col):\n",
    "    df.copy(deep=True)\n",
    "    df['hour'] = df[date_col].dt.hour\n",
    "    df['week'] = df[date_col].dt.week\n",
    "    df['month'] = df[date_col].dt.month\n",
    "    df['year'] = df[date_col].dt.year\n",
    "    df['day'] = df[date_col].dt.dayofyear\n",
    "    return df "
   ]
  },
  {
   "cell_type": "markdown",
   "metadata": {},
   "source": [
    "### PJM Historical Load Forecasts\n",
    "From https://dataminer2.pjm.com/feed/load_frcstd_hist"
   ]
  },
  {
   "cell_type": "code",
   "execution_count": 429,
   "metadata": {},
   "outputs": [],
   "source": [
    "# PJM Load Forecasts\n",
    "pjm_df = pd.concat(map(pd.read_csv, ['load_forecasts/pjm/2016.csv', 'load_forecasts/pjm/2017.csv','load_forecasts/pjm/2018.csv']))\n",
    "pjm_df = pjm_df.drop(['evaluated_at_utc', 'evaluated_at_ept', 'forecast_hour_beginning_ept'], axis = 1)\n",
    "pjm_df.columns = ['Date', 'area', 'PJM']"
   ]
  },
  {
   "cell_type": "code",
   "execution_count": 430,
   "metadata": {},
   "outputs": [],
   "source": [
    "# RTO columns represent the load forecast for all of PJM\n",
    "pjm_df = pjm_df.loc[pjm_df['area'] == 'RTO']"
   ]
  },
  {
   "cell_type": "code",
   "execution_count": 431,
   "metadata": {},
   "outputs": [],
   "source": [
    "# There are multiple forecasts provided per hour so start by averaging them  \n",
    "pjm_df = pjm_df.groupby( ['Date'] ).mean().reset_index()"
   ]
  },
  {
   "cell_type": "code",
   "execution_count": 432,
   "metadata": {},
   "outputs": [],
   "source": [
    "pjm_df['Date'] = pd.to_datetime(pjm_df['Date'])\n",
    "pjm_df = extract_date(pjm_df, 'Date') \n",
    "\n",
    "pjm_df = pjm_df.sort_values(by=['year', 'month', 'day', 'hour'])\n",
    "pjm_df = pjm_df.set_index(['year', 'month', 'day', 'hour'])\n",
    "\n",
    "pjm_df = pjm_df.drop(['Date'], axis = 1)"
   ]
  },
  {
   "cell_type": "markdown",
   "metadata": {},
   "source": [
    "### Get Predictions: Hydro, Nuclear, Solar, and Wind"
   ]
  },
  {
   "cell_type": "code",
   "execution_count": 433,
   "metadata": {},
   "outputs": [],
   "source": [
    "# Load predictions into a DF\n",
    "hydro_pred = pd.read_csv('Predictions/hydro_pred.csv', index_col = 0)\n",
    "nuclear = pd.read_csv('Predictions/nuclear_weekly_average.csv', index_col = 0)\n",
    "solar_pred = pd.read_csv('Predictions/solar_pred.csv', index_col = 0)\n",
    "wind_pred = pd.read_csv('Predictions/wind_pred.csv', index_col = 0)"
   ]
  },
  {
   "cell_type": "code",
   "execution_count": 434,
   "metadata": {},
   "outputs": [],
   "source": [
    "# Ensure column names are the same, set date time information as index \n",
    "hydro_pred.columns = ['year', 'month', 'day', 'hour', 'hydro']\n",
    "solar_pred.columns = ['year', 'month', 'day', 'hour', 'solar']\n",
    "wind_pred.columns = ['year', 'month', 'day', 'hour', 'wind']\n",
    "\n",
    "hydro_pred = hydro_pred.set_index(['year', 'month', 'day', 'hour'])\n",
    "solar_pred = solar_pred.set_index(['year', 'month', 'day', 'hour'])\n",
    "wind_pred = wind_pred.set_index(['year', 'month', 'day', 'hour'])"
   ]
  },
  {
   "cell_type": "code",
   "execution_count": 435,
   "metadata": {},
   "outputs": [],
   "source": [
    "# Combine solar, wind, hydro predictions \n",
    "combined = hydro_pred.merge(solar_pred, how='inner', left_index=True, right_index=True)\n",
    "combined = combined.merge(wind_pred, how='inner', left_index=True, right_index=True)"
   ]
  },
  {
   "cell_type": "code",
   "execution_count": 436,
   "metadata": {},
   "outputs": [],
   "source": [
    "# Add a week column to merge with nuclear values \n",
    "combined = combined.reset_index()\n",
    "combined['datetime'] = pd.to_datetime(combined['year'] * 1000 + combined['day'], format='%Y%j')\n",
    "\n",
    "combined['week'] = combined['datetime'].dt.week"
   ]
  },
  {
   "cell_type": "code",
   "execution_count": 437,
   "metadata": {},
   "outputs": [],
   "source": [
    "nuclear.columns = ['year', 'week', 'nuclear']"
   ]
  },
  {
   "cell_type": "code",
   "execution_count": 438,
   "metadata": {},
   "outputs": [],
   "source": [
    "combined = combined.merge(nuclear, how='inner', on=['year', 'week'])"
   ]
  },
  {
   "cell_type": "code",
   "execution_count": 439,
   "metadata": {},
   "outputs": [],
   "source": [
    "combined = combined.drop(['datetime', 'week'], axis = 1)\n",
    "combined = combined.sort_values(by=['year', 'month', 'day', 'hour'])\n",
    "combined =combined.set_index(['year', 'month', 'day', 'hour'])"
   ]
  },
  {
   "cell_type": "code",
   "execution_count": 440,
   "metadata": {},
   "outputs": [
    {
     "data": {
      "text/html": [
       "<div>\n",
       "<style scoped>\n",
       "    .dataframe tbody tr th:only-of-type {\n",
       "        vertical-align: middle;\n",
       "    }\n",
       "\n",
       "    .dataframe tbody tr th {\n",
       "        vertical-align: top;\n",
       "    }\n",
       "\n",
       "    .dataframe thead th {\n",
       "        text-align: right;\n",
       "    }\n",
       "</style>\n",
       "<table border=\"1\" class=\"dataframe\">\n",
       "  <thead>\n",
       "    <tr style=\"text-align: right;\">\n",
       "      <th></th>\n",
       "      <th></th>\n",
       "      <th></th>\n",
       "      <th></th>\n",
       "      <th>hydro</th>\n",
       "      <th>solar</th>\n",
       "      <th>wind</th>\n",
       "      <th>nuclear</th>\n",
       "    </tr>\n",
       "    <tr>\n",
       "      <th>year</th>\n",
       "      <th>month</th>\n",
       "      <th>day</th>\n",
       "      <th>hour</th>\n",
       "      <th></th>\n",
       "      <th></th>\n",
       "      <th></th>\n",
       "      <th></th>\n",
       "    </tr>\n",
       "  </thead>\n",
       "  <tbody>\n",
       "    <tr>\n",
       "      <th rowspan=\"11\" valign=\"top\">2017</th>\n",
       "      <th rowspan=\"5\" valign=\"top\">8</th>\n",
       "      <th rowspan=\"5\" valign=\"top\">221</th>\n",
       "      <th>0</th>\n",
       "      <td>1533.07920</td>\n",
       "      <td>0.288575</td>\n",
       "      <td>427.97510</td>\n",
       "      <td>33203.947024</td>\n",
       "    </tr>\n",
       "    <tr>\n",
       "      <th>1</th>\n",
       "      <td>1022.36163</td>\n",
       "      <td>-1.158340</td>\n",
       "      <td>393.80902</td>\n",
       "      <td>33203.947024</td>\n",
       "    </tr>\n",
       "    <tr>\n",
       "      <th>2</th>\n",
       "      <td>501.96463</td>\n",
       "      <td>-1.458225</td>\n",
       "      <td>548.25256</td>\n",
       "      <td>33203.947024</td>\n",
       "    </tr>\n",
       "    <tr>\n",
       "      <th>3</th>\n",
       "      <td>469.56433</td>\n",
       "      <td>-1.203336</td>\n",
       "      <td>545.13824</td>\n",
       "      <td>33203.947024</td>\n",
       "    </tr>\n",
       "    <tr>\n",
       "      <th>4</th>\n",
       "      <td>486.13455</td>\n",
       "      <td>-0.896589</td>\n",
       "      <td>605.94700</td>\n",
       "      <td>33203.947024</td>\n",
       "    </tr>\n",
       "    <tr>\n",
       "      <th>...</th>\n",
       "      <th>...</th>\n",
       "      <th>...</th>\n",
       "      <td>...</td>\n",
       "      <td>...</td>\n",
       "      <td>...</td>\n",
       "      <td>...</td>\n",
       "    </tr>\n",
       "    <tr>\n",
       "      <th rowspan=\"5\" valign=\"top\">12</th>\n",
       "      <th rowspan=\"5\" valign=\"top\">364</th>\n",
       "      <th>19</th>\n",
       "      <td>1603.29910</td>\n",
       "      <td>257.476440</td>\n",
       "      <td>3219.41750</td>\n",
       "      <td>35374.167456</td>\n",
       "    </tr>\n",
       "    <tr>\n",
       "      <th>20</th>\n",
       "      <td>1307.56980</td>\n",
       "      <td>217.048030</td>\n",
       "      <td>3037.98410</td>\n",
       "      <td>35374.167456</td>\n",
       "    </tr>\n",
       "    <tr>\n",
       "      <th>21</th>\n",
       "      <td>1466.46770</td>\n",
       "      <td>103.606540</td>\n",
       "      <td>2949.86600</td>\n",
       "      <td>35374.167456</td>\n",
       "    </tr>\n",
       "    <tr>\n",
       "      <th>22</th>\n",
       "      <td>4063.69070</td>\n",
       "      <td>39.545753</td>\n",
       "      <td>2923.30520</td>\n",
       "      <td>35374.167456</td>\n",
       "    </tr>\n",
       "    <tr>\n",
       "      <th>23</th>\n",
       "      <td>3897.44240</td>\n",
       "      <td>-5.528568</td>\n",
       "      <td>3326.43650</td>\n",
       "      <td>35374.167456</td>\n",
       "    </tr>\n",
       "  </tbody>\n",
       "</table>\n",
       "<p>3456 rows × 4 columns</p>\n",
       "</div>"
      ],
      "text/plain": [
       "                          hydro       solar        wind       nuclear\n",
       "year month day hour                                                  \n",
       "2017 8     221 0     1533.07920    0.288575   427.97510  33203.947024\n",
       "               1     1022.36163   -1.158340   393.80902  33203.947024\n",
       "               2      501.96463   -1.458225   548.25256  33203.947024\n",
       "               3      469.56433   -1.203336   545.13824  33203.947024\n",
       "               4      486.13455   -0.896589   605.94700  33203.947024\n",
       "...                         ...         ...         ...           ...\n",
       "     12    364 19    1603.29910  257.476440  3219.41750  35374.167456\n",
       "               20    1307.56980  217.048030  3037.98410  35374.167456\n",
       "               21    1466.46770  103.606540  2949.86600  35374.167456\n",
       "               22    4063.69070   39.545753  2923.30520  35374.167456\n",
       "               23    3897.44240   -5.528568  3326.43650  35374.167456\n",
       "\n",
       "[3456 rows x 4 columns]"
      ]
     },
     "execution_count": 440,
     "metadata": {},
     "output_type": "execute_result"
    }
   ],
   "source": [
    "combined"
   ]
  },
  {
   "cell_type": "markdown",
   "metadata": {},
   "source": [
    "### Get Fossil Forecasts\n",
    "Fossil Forecast = Load Forecast - Hydro - Nuclear - Wind - Solar"
   ]
  },
  {
   "cell_type": "code",
   "execution_count": 441,
   "metadata": {},
   "outputs": [],
   "source": [
    "fossil_gen = combined.merge(pjm_df, how='inner', left_index=True, right_index=True)"
   ]
  },
  {
   "cell_type": "code",
   "execution_count": 443,
   "metadata": {},
   "outputs": [],
   "source": [
    "# Add net import with PJM \n",
    "fossil_gen['fossil gen'] = fossil_gen['PJM'] - fossil_gen['hydro'] - fossil_gen['solar'] - fossil_gen['wind'] - fossil_gen['nuclear'] \n"
   ]
  },
  {
   "cell_type": "code",
   "execution_count": 444,
   "metadata": {},
   "outputs": [
    {
     "data": {
      "text/html": [
       "<div>\n",
       "<style scoped>\n",
       "    .dataframe tbody tr th:only-of-type {\n",
       "        vertical-align: middle;\n",
       "    }\n",
       "\n",
       "    .dataframe tbody tr th {\n",
       "        vertical-align: top;\n",
       "    }\n",
       "\n",
       "    .dataframe thead th {\n",
       "        text-align: right;\n",
       "    }\n",
       "</style>\n",
       "<table border=\"1\" class=\"dataframe\">\n",
       "  <thead>\n",
       "    <tr style=\"text-align: right;\">\n",
       "      <th></th>\n",
       "      <th></th>\n",
       "      <th></th>\n",
       "      <th></th>\n",
       "      <th>hydro</th>\n",
       "      <th>solar</th>\n",
       "      <th>wind</th>\n",
       "      <th>nuclear</th>\n",
       "      <th>PJM</th>\n",
       "      <th>week</th>\n",
       "      <th>fossil gen</th>\n",
       "    </tr>\n",
       "    <tr>\n",
       "      <th>year</th>\n",
       "      <th>month</th>\n",
       "      <th>day</th>\n",
       "      <th>hour</th>\n",
       "      <th></th>\n",
       "      <th></th>\n",
       "      <th></th>\n",
       "      <th></th>\n",
       "      <th></th>\n",
       "      <th></th>\n",
       "      <th></th>\n",
       "    </tr>\n",
       "  </thead>\n",
       "  <tbody>\n",
       "    <tr>\n",
       "      <th rowspan=\"11\" valign=\"top\">2017</th>\n",
       "      <th rowspan=\"5\" valign=\"top\">8</th>\n",
       "      <th rowspan=\"5\" valign=\"top\">221</th>\n",
       "      <th>0</th>\n",
       "      <td>1533.07920</td>\n",
       "      <td>0.288575</td>\n",
       "      <td>427.97510</td>\n",
       "      <td>33203.947024</td>\n",
       "      <td>101594.1</td>\n",
       "      <td>32</td>\n",
       "      <td>66428.810101</td>\n",
       "    </tr>\n",
       "    <tr>\n",
       "      <th>1</th>\n",
       "      <td>1022.36163</td>\n",
       "      <td>-1.158340</td>\n",
       "      <td>393.80902</td>\n",
       "      <td>33203.947024</td>\n",
       "      <td>98697.6</td>\n",
       "      <td>32</td>\n",
       "      <td>64078.640666</td>\n",
       "    </tr>\n",
       "    <tr>\n",
       "      <th>2</th>\n",
       "      <td>501.96463</td>\n",
       "      <td>-1.458225</td>\n",
       "      <td>548.25256</td>\n",
       "      <td>33203.947024</td>\n",
       "      <td>91817.4</td>\n",
       "      <td>32</td>\n",
       "      <td>57564.694011</td>\n",
       "    </tr>\n",
       "    <tr>\n",
       "      <th>3</th>\n",
       "      <td>469.56433</td>\n",
       "      <td>-1.203336</td>\n",
       "      <td>545.13824</td>\n",
       "      <td>33203.947024</td>\n",
       "      <td>83951.2</td>\n",
       "      <td>32</td>\n",
       "      <td>49733.753742</td>\n",
       "    </tr>\n",
       "    <tr>\n",
       "      <th>4</th>\n",
       "      <td>486.13455</td>\n",
       "      <td>-0.896589</td>\n",
       "      <td>605.94700</td>\n",
       "      <td>33203.947024</td>\n",
       "      <td>77740.0</td>\n",
       "      <td>32</td>\n",
       "      <td>43444.868015</td>\n",
       "    </tr>\n",
       "    <tr>\n",
       "      <th>...</th>\n",
       "      <th>...</th>\n",
       "      <th>...</th>\n",
       "      <td>...</td>\n",
       "      <td>...</td>\n",
       "      <td>...</td>\n",
       "      <td>...</td>\n",
       "      <td>...</td>\n",
       "      <td>...</td>\n",
       "      <td>...</td>\n",
       "    </tr>\n",
       "    <tr>\n",
       "      <th rowspan=\"5\" valign=\"top\">12</th>\n",
       "      <th rowspan=\"5\" valign=\"top\">364</th>\n",
       "      <th>19</th>\n",
       "      <td>1603.29910</td>\n",
       "      <td>257.476440</td>\n",
       "      <td>3219.41750</td>\n",
       "      <td>35374.167456</td>\n",
       "      <td>102898.7</td>\n",
       "      <td>52</td>\n",
       "      <td>62444.339504</td>\n",
       "    </tr>\n",
       "    <tr>\n",
       "      <th>20</th>\n",
       "      <td>1307.56980</td>\n",
       "      <td>217.048030</td>\n",
       "      <td>3037.98410</td>\n",
       "      <td>35374.167456</td>\n",
       "      <td>102956.9</td>\n",
       "      <td>52</td>\n",
       "      <td>63020.130614</td>\n",
       "    </tr>\n",
       "    <tr>\n",
       "      <th>21</th>\n",
       "      <td>1466.46770</td>\n",
       "      <td>103.606540</td>\n",
       "      <td>2949.86600</td>\n",
       "      <td>35374.167456</td>\n",
       "      <td>105561.9</td>\n",
       "      <td>52</td>\n",
       "      <td>65667.792304</td>\n",
       "    </tr>\n",
       "    <tr>\n",
       "      <th>22</th>\n",
       "      <td>4063.69070</td>\n",
       "      <td>39.545753</td>\n",
       "      <td>2923.30520</td>\n",
       "      <td>35374.167456</td>\n",
       "      <td>111177.3</td>\n",
       "      <td>52</td>\n",
       "      <td>68776.590891</td>\n",
       "    </tr>\n",
       "    <tr>\n",
       "      <th>23</th>\n",
       "      <td>3897.44240</td>\n",
       "      <td>-5.528568</td>\n",
       "      <td>3326.43650</td>\n",
       "      <td>35374.167456</td>\n",
       "      <td>113618.1</td>\n",
       "      <td>52</td>\n",
       "      <td>71025.582213</td>\n",
       "    </tr>\n",
       "  </tbody>\n",
       "</table>\n",
       "<p>3456 rows × 7 columns</p>\n",
       "</div>"
      ],
      "text/plain": [
       "                          hydro       solar        wind       nuclear  \\\n",
       "year month day hour                                                     \n",
       "2017 8     221 0     1533.07920    0.288575   427.97510  33203.947024   \n",
       "               1     1022.36163   -1.158340   393.80902  33203.947024   \n",
       "               2      501.96463   -1.458225   548.25256  33203.947024   \n",
       "               3      469.56433   -1.203336   545.13824  33203.947024   \n",
       "               4      486.13455   -0.896589   605.94700  33203.947024   \n",
       "...                         ...         ...         ...           ...   \n",
       "     12    364 19    1603.29910  257.476440  3219.41750  35374.167456   \n",
       "               20    1307.56980  217.048030  3037.98410  35374.167456   \n",
       "               21    1466.46770  103.606540  2949.86600  35374.167456   \n",
       "               22    4063.69070   39.545753  2923.30520  35374.167456   \n",
       "               23    3897.44240   -5.528568  3326.43650  35374.167456   \n",
       "\n",
       "                          PJM  week    fossil gen  \n",
       "year month day hour                                \n",
       "2017 8     221 0     101594.1    32  66428.810101  \n",
       "               1      98697.6    32  64078.640666  \n",
       "               2      91817.4    32  57564.694011  \n",
       "               3      83951.2    32  49733.753742  \n",
       "               4      77740.0    32  43444.868015  \n",
       "...                       ...   ...           ...  \n",
       "     12    364 19    102898.7    52  62444.339504  \n",
       "               20    102956.9    52  63020.130614  \n",
       "               21    105561.9    52  65667.792304  \n",
       "               22    111177.3    52  68776.590891  \n",
       "               23    113618.1    52  71025.582213  \n",
       "\n",
       "[3456 rows x 7 columns]"
      ]
     },
     "execution_count": 444,
     "metadata": {},
     "output_type": "execute_result"
    }
   ],
   "source": [
    "fossil_gen"
   ]
  },
  {
   "cell_type": "markdown",
   "metadata": {},
   "source": [
    "### Compare to Fossil Generation (Coal, Gas, Multiple Fuels, Oil)"
   ]
  },
  {
   "cell_type": "code",
   "execution_count": 465,
   "metadata": {},
   "outputs": [],
   "source": [
    "actual_gen = pd.read_csv('actual_gen.csv')"
   ]
  },
  {
   "cell_type": "code",
   "execution_count": 466,
   "metadata": {},
   "outputs": [],
   "source": [
    "fossil_fuel_type = ['Coal', 'Gas', 'Multiple Fuels', 'Oil']\n",
    "actual_gen = actual_gen.loc[actual_gen['fuel_type'].isin(fossil_fuel_type)]"
   ]
  },
  {
   "cell_type": "code",
   "execution_count": 467,
   "metadata": {},
   "outputs": [],
   "source": [
    "actual_gen = actual_gen.drop(['datetime_beginning_ept', 'fuel_type', 'fuel_percentage_of_total', 'is_renewable'], axis = 1)\n",
    "actual_gen = actual_gen.groupby( ['datetime_beginning_utc'] ).sum().reset_index()\n",
    "actual_gen['datetime_beginning_utc'] = pd.to_datetime(actual_gen['datetime_beginning_utc'])\n"
   ]
  },
  {
   "cell_type": "code",
   "execution_count": 468,
   "metadata": {},
   "outputs": [],
   "source": [
    "actual_gen = extract_date(actual_gen, 'datetime_beginning_utc')\n",
    "actual_gen = actual_gen.drop(['datetime_beginning_utc'], axis=1)\n",
    "actual_gen = actual_gen.sort_values(by=['year', 'month', 'day', 'hour'])\n"
   ]
  },
  {
   "cell_type": "code",
   "execution_count": 469,
   "metadata": {},
   "outputs": [],
   "source": [
    "actual_gen = actual_gen.set_index(['year', 'month', 'day', 'hour'])"
   ]
  },
  {
   "cell_type": "code",
   "execution_count": 472,
   "metadata": {},
   "outputs": [],
   "source": [
    "actual_gen = actual_gen.drop('week', axis = 1)"
   ]
  },
  {
   "cell_type": "code",
   "execution_count": 473,
   "metadata": {},
   "outputs": [],
   "source": [
    "merged = actual_gen.merge(fossil_gen, how='inner', left_index=True, right_index=True)\n"
   ]
  },
  {
   "cell_type": "code",
   "execution_count": 475,
   "metadata": {},
   "outputs": [
    {
     "name": "stderr",
     "output_type": "stream",
     "text": [
      "/home/amy/.local/lib/python3.6/site-packages/ipykernel_launcher.py:4: SettingWithCopyWarning: \n",
      "A value is trying to be set on a copy of a slice from a DataFrame.\n",
      "Try using .loc[row_indexer,col_indexer] = value instead\n",
      "\n",
      "See the caveats in the documentation: https://pandas.pydata.org/pandas-docs/stable/user_guide/indexing.html#returning-a-view-versus-a-copy\n",
      "  after removing the cwd from sys.path.\n",
      "/home/amy/.local/lib/python3.6/site-packages/ipykernel_launcher.py:5: SettingWithCopyWarning: \n",
      "A value is trying to be set on a copy of a slice from a DataFrame.\n",
      "Try using .loc[row_indexer,col_indexer] = value instead\n",
      "\n",
      "See the caveats in the documentation: https://pandas.pydata.org/pandas-docs/stable/user_guide/indexing.html#returning-a-view-versus-a-copy\n",
      "  \"\"\"\n"
     ]
    }
   ],
   "source": [
    "actual = merged[['mw']]\n",
    "predicted = merged[['fossil gen']]\n",
    "\n",
    "actual['count'] = np.arange(len(actual))\n",
    "predicted['count'] = np.arange(len(predicted))\n",
    "\n",
    "actual_100 = actual.head(300)\n",
    "predicted_100 = predicted.head(300)"
   ]
  },
  {
   "cell_type": "code",
   "execution_count": 476,
   "metadata": {},
   "outputs": [
    {
     "name": "stdout",
     "output_type": "stream",
     "text": [
      "RMSE: 4102.26489465148\n"
     ]
    }
   ],
   "source": [
    "print(\"RMSE: \" + str(((predicted['fossil gen'] - actual.mw) ** 2).mean() ** .5))"
   ]
  },
  {
   "cell_type": "code",
   "execution_count": 477,
   "metadata": {
    "scrolled": true
   },
   "outputs": [
    {
     "data": {
      "text/plain": [
       "<matplotlib.legend.Legend at 0x7f6fa27178d0>"
      ]
     },
     "execution_count": 477,
     "metadata": {},
     "output_type": "execute_result"
    },
    {
     "data": {
      "image/png": "[encoded data removed]",
      "text/plain": [
       "<Figure size 432x288 with 1 Axes>"
      ]
     },
     "metadata": {
      "needs_background": "light"
     },
     "output_type": "display_data"
    }
   ],
   "source": [
    "plt.suptitle('Prediction vs Actual', fontsize=15)\n",
    "plt.plot(actual_100['count'], actual_100['mw'], label='Actual')\n",
    "plt.plot(predicted_100['count'], predicted_100['fossil gen'], label='Predicted')\n",
    "plt.legend()"
   ]
  },
  {
   "cell_type": "markdown",
   "metadata": {},
   "source": [
    "### Compare Weekly, Monthly, and Hourly Average"
   ]
  },
  {
   "cell_type": "code",
   "execution_count": 478,
   "metadata": {},
   "outputs": [],
   "source": [
    "predicted = predicted.reset_index()\n",
    "actual = actual.reset_index()"
   ]
  },
  {
   "cell_type": "code",
   "execution_count": 479,
   "metadata": {},
   "outputs": [],
   "source": [
    "predicted.to_csv('Predictions/fossil_gen.csv')"
   ]
  },
  {
   "cell_type": "code",
   "execution_count": 480,
   "metadata": {},
   "outputs": [
    {
     "data": {
      "text/plain": [
       "<matplotlib.legend.Legend at 0x7f6fb553a0f0>"
      ]
     },
     "execution_count": 480,
     "metadata": {},
     "output_type": "execute_result"
    },
    {
     "data": {
      "image/png": "[encoded data removed]",
      "text/plain": [
       "<Figure size 432x288 with 1 Axes>"
      ]
     },
     "metadata": {
      "needs_background": "light"
     },
     "output_type": "display_data"
    }
   ],
   "source": [
    "# Find hourly average \n",
    "predicted_hourly = predicted.groupby( ['hour'] ).mean().reset_index()\n",
    "actual_hourly = actual.groupby(['hour']).mean().reset_index()\n",
    "\n",
    "plt.suptitle('Prediction vs Actual - By Hour of Day', fontsize=15)\n",
    "plt.plot(actual_hourly['mw'], label='Actual')\n",
    "plt.plot(predicted_hourly['fossil gen'], label='Predicted')\n",
    "plt.legend()"
   ]
  },
  {
   "cell_type": "code",
   "execution_count": 481,
   "metadata": {},
   "outputs": [
    {
     "data": {
      "text/plain": [
       "<matplotlib.legend.Legend at 0x7f6faf6ce400>"
      ]
     },
     "execution_count": 481,
     "metadata": {},
     "output_type": "execute_result"
    },
    {
     "data": {
      "image/png": "[encoded data removed]",
      "text/plain": [
       "<Figure size 432x288 with 1 Axes>"
      ]
     },
     "metadata": {
      "needs_background": "light"
     },
     "output_type": "display_data"
    }
   ],
   "source": [
    "# Find monthly average \n",
    "predicted_hourly = predicted.groupby( ['month'] ).mean().reset_index()\n",
    "actual_hourly = actual.groupby(['month']).mean().reset_index()\n",
    "\n",
    "plt.suptitle('Prediction vs Actual - By Month of Year', fontsize=15)\n",
    "plt.plot(actual_hourly['mw'], label='Actual')\n",
    "plt.plot(predicted_hourly['fossil gen'], label='Predicted')\n",
    "plt.legend()"
   ]
  },
  {
   "cell_type": "code",
   "execution_count": 482,
   "metadata": {},
   "outputs": [],
   "source": [
    "predicted['datetime'] = pd.to_datetime(predicted['year'] * 1000 + predicted['day'], format='%Y%j')\n",
    "predicted['week'] = predicted['datetime'].dt.week"
   ]
  },
  {
   "cell_type": "code",
   "execution_count": 483,
   "metadata": {},
   "outputs": [],
   "source": [
    "actual['datetime'] = pd.to_datetime(actual['year'] * 1000 + actual['day'], format='%Y%j')\n",
    "actual['week'] = actual['datetime'].dt.week"
   ]
  },
  {
   "cell_type": "code",
   "execution_count": 484,
   "metadata": {},
   "outputs": [
    {
     "data": {
      "text/plain": [
       "<matplotlib.legend.Legend at 0x7f6faf503048>"
      ]
     },
     "execution_count": 484,
     "metadata": {},
     "output_type": "execute_result"
    },
    {
     "data": {
      "image/png": "[encoded data removed]",
      "text/plain": [
       "<Figure size 432x288 with 1 Axes>"
      ]
     },
     "metadata": {
      "needs_background": "light"
     },
     "output_type": "display_data"
    }
   ],
   "source": [
    "# Find weekly average \n",
    "predicted_hourly = predicted.groupby( ['week'] ).mean().reset_index()\n",
    "actual_hourly = actual.groupby(['week']).mean().reset_index()\n",
    "\n",
    "plt.suptitle('Prediction vs Actual - By Week', fontsize=15)\n",
    "plt.plot(actual_hourly['mw'], label='Actual')\n",
    "plt.plot(predicted_hourly['fossil gen'], label='Predicted')\n",
    "plt.legend()"
   ]
  }
 ],
 "metadata": {
  "kernelspec": {
   "display_name": "Python 3",
   "language": "python",
   "name": "python3"
  },
  "language_info": {
   "codemirror_mode": {
    "name": "ipython",
    "version": 3
   },
   "file_extension": ".py",
   "mimetype": "text/x-python",
   "name": "python",
   "nbconvert_exporter": "python",
   "pygments_lexer": "ipython3",
   "version": "3.6.9"
  }
 },
 "nbformat": 4,
 "nbformat_minor": 4
}
