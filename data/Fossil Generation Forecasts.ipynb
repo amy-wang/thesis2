{
 "cells": [
  {
   "cell_type": "code",
   "execution_count": 450,
   "metadata": {},
   "outputs": [],
   "source": [
    "import pandas as pd\n",
    "import numpy as np\n",
    "import matplotlib.pyplot as plt\n",
    "\n",
    "from sklearn.preprocessing import StandardScaler"
   ]
  },
  {
   "cell_type": "code",
   "execution_count": 534,
   "metadata": {},
   "outputs": [],
   "source": [
    "def extract_date(df, date_col):\n",
    "    df.copy(deep=True)\n",
    "    df['hour'] = df[date_col].dt.hour\n",
    "    df['month'] = df[date_col].dt.month\n",
    "    df['year'] = df[date_col].dt.year\n",
    "    df['day'] = df[date_col].dt.dayofyear\n",
    "    return df "
   ]
  },
  {
   "cell_type": "markdown",
   "metadata": {},
   "source": [
    "### PJM Historical Load Forecasts\n",
    "From https://dataminer2.pjm.com/feed/load_frcstd_hist"
   ]
  },
  {
   "cell_type": "code",
   "execution_count": 457,
   "metadata": {},
   "outputs": [],
   "source": [
    "# PJM Load Forecasts\n",
    "pjm_df = pd.concat(map(pd.read_csv, ['load_forecasts/pjm/2016.csv', 'load_forecasts/pjm/2017.csv','load_forecasts/pjm/2018.csv']))\n",
    "pjm_df = pjm_df.drop(['evaluated_at_utc', 'evaluated_at_ept', 'forecast_hour_beginning_ept'], axis = 1)\n",
    "pjm_df.columns = ['Date', 'area', 'PJM']"
   ]
  },
  {
   "cell_type": "code",
   "execution_count": 458,
   "metadata": {},
   "outputs": [],
   "source": [
    "# RTO columns represent the load forecast for all of PJM\n",
    "pjm_df = pjm_df.loc[pjm_df['area'] == 'RTO']"
   ]
  },
  {
   "cell_type": "code",
   "execution_count": 459,
   "metadata": {},
   "outputs": [],
   "source": [
    "# There are multiple forecasts provided per hour so start by averaging them  \n",
    "pjm_df = pjm_df.groupby( ['Date'] ).mean().reset_index()"
   ]
  },
  {
   "cell_type": "code",
   "execution_count": 460,
   "metadata": {},
   "outputs": [],
   "source": [
    "pjm_df['Date'] = pd.to_datetime(pjm_df['Date'])\n",
    "pjm_df = extract_date(pjm_df, 'Date') \n",
    "\n",
    "pjm_df = pjm_df.sort_values(by=['year', 'month', 'day', 'hour'])\n",
    "pjm_df = pjm_df.set_index(['year', 'month', 'day', 'hour'])\n",
    "\n",
    "pjm_df = pjm_df.drop(['Date'], axis = 1)"
   ]
  },
  {
   "cell_type": "code",
   "execution_count": 461,
   "metadata": {},
   "outputs": [
    {
     "data": {
      "text/html": [
       "<div>\n",
       "<style scoped>\n",
       "    .dataframe tbody tr th:only-of-type {\n",
       "        vertical-align: middle;\n",
       "    }\n",
       "\n",
       "    .dataframe tbody tr th {\n",
       "        vertical-align: top;\n",
       "    }\n",
       "\n",
       "    .dataframe thead th {\n",
       "        text-align: right;\n",
       "    }\n",
       "</style>\n",
       "<table border=\"1\" class=\"dataframe\">\n",
       "  <thead>\n",
       "    <tr style=\"text-align: right;\">\n",
       "      <th></th>\n",
       "      <th></th>\n",
       "      <th></th>\n",
       "      <th></th>\n",
       "      <th>PJM</th>\n",
       "      <th>week</th>\n",
       "    </tr>\n",
       "    <tr>\n",
       "      <th>year</th>\n",
       "      <th>month</th>\n",
       "      <th>day</th>\n",
       "      <th>hour</th>\n",
       "      <th></th>\n",
       "      <th></th>\n",
       "    </tr>\n",
       "  </thead>\n",
       "  <tbody>\n",
       "    <tr>\n",
       "      <th rowspan=\"5\" valign=\"top\">2016</th>\n",
       "      <th rowspan=\"5\" valign=\"top\">1</th>\n",
       "      <th rowspan=\"5\" valign=\"top\">1</th>\n",
       "      <th>5</th>\n",
       "      <td>77462.666667</td>\n",
       "      <td>53</td>\n",
       "    </tr>\n",
       "    <tr>\n",
       "      <th>6</th>\n",
       "      <td>75407.000000</td>\n",
       "      <td>53</td>\n",
       "    </tr>\n",
       "    <tr>\n",
       "      <th>7</th>\n",
       "      <td>73819.666667</td>\n",
       "      <td>53</td>\n",
       "    </tr>\n",
       "    <tr>\n",
       "      <th>8</th>\n",
       "      <td>73057.000000</td>\n",
       "      <td>53</td>\n",
       "    </tr>\n",
       "    <tr>\n",
       "      <th>9</th>\n",
       "      <td>73425.333333</td>\n",
       "      <td>53</td>\n",
       "    </tr>\n",
       "    <tr>\n",
       "      <th>...</th>\n",
       "      <th>...</th>\n",
       "      <th>...</th>\n",
       "      <th>...</th>\n",
       "      <td>...</td>\n",
       "      <td>...</td>\n",
       "    </tr>\n",
       "    <tr>\n",
       "      <th rowspan=\"5\" valign=\"top\">2019</th>\n",
       "      <th rowspan=\"5\" valign=\"top\">1</th>\n",
       "      <th rowspan=\"5\" valign=\"top\">1</th>\n",
       "      <th>0</th>\n",
       "      <td>98990.444444</td>\n",
       "      <td>1</td>\n",
       "    </tr>\n",
       "    <tr>\n",
       "      <th>1</th>\n",
       "      <td>96469.555556</td>\n",
       "      <td>1</td>\n",
       "    </tr>\n",
       "    <tr>\n",
       "      <th>2</th>\n",
       "      <td>92798.666667</td>\n",
       "      <td>1</td>\n",
       "    </tr>\n",
       "    <tr>\n",
       "      <th>3</th>\n",
       "      <td>86938.700000</td>\n",
       "      <td>1</td>\n",
       "    </tr>\n",
       "    <tr>\n",
       "      <th>4</th>\n",
       "      <td>81641.900000</td>\n",
       "      <td>1</td>\n",
       "    </tr>\n",
       "  </tbody>\n",
       "</table>\n",
       "<p>26304 rows × 2 columns</p>\n",
       "</div>"
      ],
      "text/plain": [
       "                              PJM  week\n",
       "year month day hour                    \n",
       "2016 1     1   5     77462.666667    53\n",
       "               6     75407.000000    53\n",
       "               7     73819.666667    53\n",
       "               8     73057.000000    53\n",
       "               9     73425.333333    53\n",
       "...                           ...   ...\n",
       "2019 1     1   0     98990.444444     1\n",
       "               1     96469.555556     1\n",
       "               2     92798.666667     1\n",
       "               3     86938.700000     1\n",
       "               4     81641.900000     1\n",
       "\n",
       "[26304 rows x 2 columns]"
      ]
     },
     "execution_count": 461,
     "metadata": {},
     "output_type": "execute_result"
    }
   ],
   "source": [
    "# Get solar, wind, hydro together \n",
    "pjm_df"
   ]
  },
  {
   "cell_type": "markdown",
   "metadata": {},
   "source": [
    "### Get Predictions: Hydro, Nuclear, Solar, and Wind"
   ]
  },
  {
   "cell_type": "code",
   "execution_count": 484,
   "metadata": {},
   "outputs": [],
   "source": [
    "# Load predictions into a DF\n",
    "solar_wind_hydro_forecast = pd.read_csv('solar_wind_hydro_forecast.csv')"
   ]
  },
  {
   "cell_type": "code",
   "execution_count": 485,
   "metadata": {},
   "outputs": [],
   "source": [
    "solar_wind_hydro_forecast = solar_wind_hydro_forecast.melt(id_vars=['year', 'month', 'day'], var_name='hour', value_name=\"mw\") \n"
   ]
  },
  {
   "cell_type": "code",
   "execution_count": 486,
   "metadata": {},
   "outputs": [],
   "source": [
    "combined = solar_wind_hydro_forecast.set_index(['year', 'month', 'day', 'hour'])"
   ]
  },
  {
   "cell_type": "code",
   "execution_count": 487,
   "metadata": {},
   "outputs": [],
   "source": [
    "# Add a week column to merge with nuclear values \n",
    "combined = combined.reset_index()\n",
    "combined['datetime'] = pd.to_datetime(combined['year'] * 1000 + combined['day'], format='%Y%j')\n",
    "\n",
    "combined['week'] = combined['datetime'].dt.week"
   ]
  },
  {
   "cell_type": "code",
   "execution_count": 493,
   "metadata": {},
   "outputs": [],
   "source": [
    "nuclear = pd.read_csv('Predictions/nuclear_weekly_average.csv', usecols=[1, 2, 3])"
   ]
  },
  {
   "cell_type": "code",
   "execution_count": 494,
   "metadata": {},
   "outputs": [],
   "source": [
    "nuclear.columns = ['year', 'week', 'nuclear']"
   ]
  },
  {
   "cell_type": "code",
   "execution_count": 496,
   "metadata": {},
   "outputs": [],
   "source": [
    "combined = combined.merge(nuclear, how='inner', on=['year', 'week'])"
   ]
  },
  {
   "cell_type": "code",
   "execution_count": 497,
   "metadata": {},
   "outputs": [],
   "source": [
    "combined = combined.drop(['datetime', 'week'], axis = 1)\n",
    "combined = combined.sort_values(by=['year', 'month', 'day', 'hour'])\n",
    "combined = combined.set_index(['year', 'month', 'day', 'hour'])"
   ]
  },
  {
   "cell_type": "markdown",
   "metadata": {},
   "source": [
    "### Get Fossil Forecasts\n",
    "Fossil Forecast = Load Forecast - Hydro & Wind & Solar - Nuclear"
   ]
  },
  {
   "cell_type": "code",
   "execution_count": 512,
   "metadata": {},
   "outputs": [],
   "source": [
    "combined.reset_index(inplace=True)\n",
    "combined['hour'] = combined['hour'].astype(np.int64)\n",
    "combined.set_index(['year', 'month', 'day', 'hour'], inplace=True)"
   ]
  },
  {
   "cell_type": "code",
   "execution_count": 518,
   "metadata": {},
   "outputs": [],
   "source": [
    "fossil_gen = combined.merge(pjm_df, how='inner', left_index=True, right_index=True)"
   ]
  },
  {
   "cell_type": "code",
   "execution_count": 519,
   "metadata": {},
   "outputs": [
    {
     "data": {
      "text/html": [
       "<div>\n",
       "<style scoped>\n",
       "    .dataframe tbody tr th:only-of-type {\n",
       "        vertical-align: middle;\n",
       "    }\n",
       "\n",
       "    .dataframe tbody tr th {\n",
       "        vertical-align: top;\n",
       "    }\n",
       "\n",
       "    .dataframe thead th {\n",
       "        text-align: right;\n",
       "    }\n",
       "</style>\n",
       "<table border=\"1\" class=\"dataframe\">\n",
       "  <thead>\n",
       "    <tr style=\"text-align: right;\">\n",
       "      <th></th>\n",
       "      <th></th>\n",
       "      <th></th>\n",
       "      <th></th>\n",
       "      <th>mw</th>\n",
       "      <th>nuclear</th>\n",
       "      <th>PJM</th>\n",
       "      <th>week</th>\n",
       "    </tr>\n",
       "    <tr>\n",
       "      <th>year</th>\n",
       "      <th>month</th>\n",
       "      <th>day</th>\n",
       "      <th>hour</th>\n",
       "      <th></th>\n",
       "      <th></th>\n",
       "      <th></th>\n",
       "      <th></th>\n",
       "    </tr>\n",
       "  </thead>\n",
       "  <tbody>\n",
       "    <tr>\n",
       "      <th rowspan=\"11\" valign=\"top\">2017</th>\n",
       "      <th>10</th>\n",
       "      <th>281</th>\n",
       "      <th>9</th>\n",
       "      <td>2595.5127</td>\n",
       "      <td>30367.610714</td>\n",
       "      <td>67308.3</td>\n",
       "      <td>40</td>\n",
       "    </tr>\n",
       "    <tr>\n",
       "      <th rowspan=\"2\" valign=\"top\">9</th>\n",
       "      <th>244</th>\n",
       "      <th>15</th>\n",
       "      <td>3927.8190</td>\n",
       "      <td>33988.070833</td>\n",
       "      <td>88874.3</td>\n",
       "      <td>35</td>\n",
       "    </tr>\n",
       "    <tr>\n",
       "      <th>256</th>\n",
       "      <th>2</th>\n",
       "      <td>1981.7397</td>\n",
       "      <td>32130.327381</td>\n",
       "      <td>81589.1</td>\n",
       "      <td>37</td>\n",
       "    </tr>\n",
       "    <tr>\n",
       "      <th>10</th>\n",
       "      <th>294</th>\n",
       "      <th>6</th>\n",
       "      <td>3339.2075</td>\n",
       "      <td>30492.617857</td>\n",
       "      <td>61645.6</td>\n",
       "      <td>42</td>\n",
       "    </tr>\n",
       "    <tr>\n",
       "      <th>9</th>\n",
       "      <th>248</th>\n",
       "      <th>6</th>\n",
       "      <td>2773.2424</td>\n",
       "      <td>34071.026786</td>\n",
       "      <td>69392.4</td>\n",
       "      <td>36</td>\n",
       "    </tr>\n",
       "    <tr>\n",
       "      <th>...</th>\n",
       "      <th>...</th>\n",
       "      <th>...</th>\n",
       "      <td>...</td>\n",
       "      <td>...</td>\n",
       "      <td>...</td>\n",
       "      <td>...</td>\n",
       "    </tr>\n",
       "    <tr>\n",
       "      <th>10</th>\n",
       "      <th>276</th>\n",
       "      <th>22</th>\n",
       "      <td>6210.9287</td>\n",
       "      <td>30367.610714</td>\n",
       "      <td>93360.6</td>\n",
       "      <td>40</td>\n",
       "    </tr>\n",
       "    <tr>\n",
       "      <th>11</th>\n",
       "      <th>308</th>\n",
       "      <th>3</th>\n",
       "      <td>3179.5830</td>\n",
       "      <td>30796.228571</td>\n",
       "      <td>72103.4</td>\n",
       "      <td>44</td>\n",
       "    </tr>\n",
       "    <tr>\n",
       "      <th>12</th>\n",
       "      <th>343</th>\n",
       "      <th>20</th>\n",
       "      <td>4181.5420</td>\n",
       "      <td>35360.439881</td>\n",
       "      <td>95444.5</td>\n",
       "      <td>49</td>\n",
       "    </tr>\n",
       "    <tr>\n",
       "      <th>11</th>\n",
       "      <th>323</th>\n",
       "      <th>5</th>\n",
       "      <td>6087.1310</td>\n",
       "      <td>33320.060714</td>\n",
       "      <td>71236.3</td>\n",
       "      <td>46</td>\n",
       "    </tr>\n",
       "    <tr>\n",
       "      <th>12</th>\n",
       "      <th>339</th>\n",
       "      <th>3</th>\n",
       "      <td>7748.7725</td>\n",
       "      <td>35360.439881</td>\n",
       "      <td>86800.6</td>\n",
       "      <td>49</td>\n",
       "    </tr>\n",
       "  </tbody>\n",
       "</table>\n",
       "<p>2904 rows × 4 columns</p>\n",
       "</div>"
      ],
      "text/plain": [
       "                            mw       nuclear      PJM  week\n",
       "year month day hour                                        \n",
       "2017 10    281 9     2595.5127  30367.610714  67308.3    40\n",
       "     9     244 15    3927.8190  33988.070833  88874.3    35\n",
       "           256 2     1981.7397  32130.327381  81589.1    37\n",
       "     10    294 6     3339.2075  30492.617857  61645.6    42\n",
       "     9     248 6     2773.2424  34071.026786  69392.4    36\n",
       "...                        ...           ...      ...   ...\n",
       "     10    276 22    6210.9287  30367.610714  93360.6    40\n",
       "     11    308 3     3179.5830  30796.228571  72103.4    44\n",
       "     12    343 20    4181.5420  35360.439881  95444.5    49\n",
       "     11    323 5     6087.1310  33320.060714  71236.3    46\n",
       "     12    339 3     7748.7725  35360.439881  86800.6    49\n",
       "\n",
       "[2904 rows x 4 columns]"
      ]
     },
     "execution_count": 519,
     "metadata": {},
     "output_type": "execute_result"
    }
   ],
   "source": [
    "fossil_gen"
   ]
  },
  {
   "cell_type": "code",
   "execution_count": 520,
   "metadata": {},
   "outputs": [],
   "source": [
    "# Add net import with PJM \n",
    "fossil_gen['fossil gen'] = fossil_gen['PJM'] - fossil_gen['mw'] - fossil_gen['nuclear'] \n"
   ]
  },
  {
   "cell_type": "code",
   "execution_count": 546,
   "metadata": {},
   "outputs": [],
   "source": [
    "fossil_gen.to_csv('fossil_gen_for_simple_dispatch_v2.csv')"
   ]
  },
  {
   "cell_type": "markdown",
   "metadata": {},
   "source": [
    "### Compare Weekly, Monthly, and Hourly Average"
   ]
  },
  {
   "cell_type": "markdown",
   "metadata": {},
   "source": [
    "### Compare to Fossil Generation (Coal, Gas, Multiple Fuels, Oil)"
   ]
  },
  {
   "cell_type": "code",
   "execution_count": 540,
   "metadata": {},
   "outputs": [],
   "source": [
    "actual_gen = pd.concat(map(pd.read_csv, ['actual_gen2016.csv', 'actual_gen2017.csv']))"
   ]
  },
  {
   "cell_type": "code",
   "execution_count": 541,
   "metadata": {},
   "outputs": [],
   "source": [
    "fossil_fuel_type = ['Coal', 'Gas', 'Multiple Fuels', 'Oil']\n",
    "actual_gen = actual_gen.loc[actual_gen['fuel_type'].isin(fossil_fuel_type)]"
   ]
  },
  {
   "cell_type": "code",
   "execution_count": 542,
   "metadata": {},
   "outputs": [],
   "source": [
    "actual_gen = actual_gen.drop(['datetime_beginning_ept', 'fuel_type', 'fuel_percentage_of_total', 'is_renewable'], axis = 1)\n",
    "actual_gen = actual_gen.groupby( ['datetime_beginning_utc'] ).sum().reset_index()\n",
    "actual_gen['datetime_beginning_utc'] = pd.to_datetime(actual_gen['datetime_beginning_utc'])"
   ]
  },
  {
   "cell_type": "code",
   "execution_count": 543,
   "metadata": {},
   "outputs": [],
   "source": [
    "actual_gen = extract_date(actual_gen, 'datetime_beginning_utc')\n",
    "actual_gen = actual_gen.drop(['datetime_beginning_utc'], axis=1)\n",
    "actual_gen = actual_gen.sort_values(by=['year', 'month','day', 'hour'])\n"
   ]
  },
  {
   "cell_type": "code",
   "execution_count": 544,
   "metadata": {},
   "outputs": [],
   "source": [
    "actual_gen = actual_gen.set_index(['year', 'month', 'day', 'hour'])"
   ]
  },
  {
   "cell_type": "code",
   "execution_count": 545,
   "metadata": {},
   "outputs": [
    {
     "data": {
      "text/html": [
       "<div>\n",
       "<style scoped>\n",
       "    .dataframe tbody tr th:only-of-type {\n",
       "        vertical-align: middle;\n",
       "    }\n",
       "\n",
       "    .dataframe tbody tr th {\n",
       "        vertical-align: top;\n",
       "    }\n",
       "\n",
       "    .dataframe thead th {\n",
       "        text-align: right;\n",
       "    }\n",
       "</style>\n",
       "<table border=\"1\" class=\"dataframe\">\n",
       "  <thead>\n",
       "    <tr style=\"text-align: right;\">\n",
       "      <th></th>\n",
       "      <th></th>\n",
       "      <th></th>\n",
       "      <th></th>\n",
       "      <th>mw</th>\n",
       "    </tr>\n",
       "    <tr>\n",
       "      <th>year</th>\n",
       "      <th>month</th>\n",
       "      <th>day</th>\n",
       "      <th>hour</th>\n",
       "      <th></th>\n",
       "    </tr>\n",
       "  </thead>\n",
       "  <tbody>\n",
       "    <tr>\n",
       "      <th rowspan=\"5\" valign=\"top\">2016</th>\n",
       "      <th rowspan=\"5\" valign=\"top\">1</th>\n",
       "      <th rowspan=\"5\" valign=\"top\">1</th>\n",
       "      <th>5</th>\n",
       "      <td>19872.0</td>\n",
       "    </tr>\n",
       "    <tr>\n",
       "      <th>6</th>\n",
       "      <td>19411.6</td>\n",
       "    </tr>\n",
       "    <tr>\n",
       "      <th>7</th>\n",
       "      <td>19168.0</td>\n",
       "    </tr>\n",
       "    <tr>\n",
       "      <th>8</th>\n",
       "      <td>18772.4</td>\n",
       "    </tr>\n",
       "    <tr>\n",
       "      <th>9</th>\n",
       "      <td>18692.7</td>\n",
       "    </tr>\n",
       "    <tr>\n",
       "      <th>...</th>\n",
       "      <th>...</th>\n",
       "      <th>...</th>\n",
       "      <th>...</th>\n",
       "      <td>...</td>\n",
       "    </tr>\n",
       "    <tr>\n",
       "      <th rowspan=\"5\" valign=\"top\">2018</th>\n",
       "      <th rowspan=\"5\" valign=\"top\">1</th>\n",
       "      <th rowspan=\"5\" valign=\"top\">1</th>\n",
       "      <th>1</th>\n",
       "      <td>78532.5</td>\n",
       "    </tr>\n",
       "    <tr>\n",
       "      <th>2</th>\n",
       "      <td>77007.9</td>\n",
       "    </tr>\n",
       "    <tr>\n",
       "      <th>3</th>\n",
       "      <td>75789.2</td>\n",
       "    </tr>\n",
       "    <tr>\n",
       "      <th>4</th>\n",
       "      <td>74259.3</td>\n",
       "    </tr>\n",
       "    <tr>\n",
       "      <th>5</th>\n",
       "      <td>73466.6</td>\n",
       "    </tr>\n",
       "  </tbody>\n",
       "</table>\n",
       "<p>17395 rows × 1 columns</p>\n",
       "</div>"
      ],
      "text/plain": [
       "                          mw\n",
       "year month day hour         \n",
       "2016 1     1   5     19872.0\n",
       "               6     19411.6\n",
       "               7     19168.0\n",
       "               8     18772.4\n",
       "               9     18692.7\n",
       "...                      ...\n",
       "2018 1     1   1     78532.5\n",
       "               2     77007.9\n",
       "               3     75789.2\n",
       "               4     74259.3\n",
       "               5     73466.6\n",
       "\n",
       "[17395 rows x 1 columns]"
      ]
     },
     "execution_count": 545,
     "metadata": {},
     "output_type": "execute_result"
    }
   ],
   "source": [
    "actual_gen"
   ]
  },
  {
   "cell_type": "code",
   "execution_count": 548,
   "metadata": {},
   "outputs": [],
   "source": [
    "fossil_gen = fossil_gen[['fossil gen']]"
   ]
  },
  {
   "cell_type": "code",
   "execution_count": 550,
   "metadata": {},
   "outputs": [],
   "source": [
    "compare = fossil_gen.merge(actual_gen, how='inner', left_index=True, right_index=True)\n"
   ]
  },
  {
   "cell_type": "code",
   "execution_count": 555,
   "metadata": {},
   "outputs": [
    {
     "data": {
      "text/plain": [
       "<matplotlib.axes._subplots.AxesSubplot at 0x7fe12b0ca470>"
      ]
     },
     "execution_count": 555,
     "metadata": {},
     "output_type": "execute_result"
    },
    {
     "data": {
      "image/png": "[encoded data removed]",
      "text/plain": [
       "<Figure size 432x288 with 1 Axes>"
      ]
     },
     "metadata": {
      "needs_background": "light"
     },
     "output_type": "display_data"
    }
   ],
   "source": [
    "compare.head(70).plot()"
   ]
  },
  {
   "cell_type": "code",
   "execution_count": 556,
   "metadata": {},
   "outputs": [
    {
     "data": {
      "text/html": [
       "<div>\n",
       "<style scoped>\n",
       "    .dataframe tbody tr th:only-of-type {\n",
       "        vertical-align: middle;\n",
       "    }\n",
       "\n",
       "    .dataframe tbody tr th {\n",
       "        vertical-align: top;\n",
       "    }\n",
       "\n",
       "    .dataframe thead th {\n",
       "        text-align: right;\n",
       "    }\n",
       "</style>\n",
       "<table border=\"1\" class=\"dataframe\">\n",
       "  <thead>\n",
       "    <tr style=\"text-align: right;\">\n",
       "      <th></th>\n",
       "      <th></th>\n",
       "      <th></th>\n",
       "      <th></th>\n",
       "      <th>fossil gen</th>\n",
       "      <th>mw</th>\n",
       "    </tr>\n",
       "    <tr>\n",
       "      <th>year</th>\n",
       "      <th>month</th>\n",
       "      <th>day</th>\n",
       "      <th>hour</th>\n",
       "      <th></th>\n",
       "      <th></th>\n",
       "    </tr>\n",
       "  </thead>\n",
       "  <tbody>\n",
       "    <tr>\n",
       "      <th rowspan=\"11\" valign=\"top\">2017</th>\n",
       "      <th>9</th>\n",
       "      <th>244</th>\n",
       "      <th>15</th>\n",
       "      <td>50958.410167</td>\n",
       "      <td>49356.5</td>\n",
       "    </tr>\n",
       "    <tr>\n",
       "      <th>10</th>\n",
       "      <th>281</th>\n",
       "      <th>9</th>\n",
       "      <td>34345.176586</td>\n",
       "      <td>41554.5</td>\n",
       "    </tr>\n",
       "    <tr>\n",
       "      <th>9</th>\n",
       "      <th>256</th>\n",
       "      <th>2</th>\n",
       "      <td>47477.032919</td>\n",
       "      <td>50696.4</td>\n",
       "    </tr>\n",
       "    <tr>\n",
       "      <th>10</th>\n",
       "      <th>294</th>\n",
       "      <th>6</th>\n",
       "      <td>27813.774643</td>\n",
       "      <td>33532.9</td>\n",
       "    </tr>\n",
       "    <tr>\n",
       "      <th>9</th>\n",
       "      <th>248</th>\n",
       "      <th>6</th>\n",
       "      <td>32548.130814</td>\n",
       "      <td>40952.8</td>\n",
       "    </tr>\n",
       "    <tr>\n",
       "      <th>...</th>\n",
       "      <th>...</th>\n",
       "      <th>...</th>\n",
       "      <td>...</td>\n",
       "      <td>...</td>\n",
       "    </tr>\n",
       "    <tr>\n",
       "      <th>10</th>\n",
       "      <th>276</th>\n",
       "      <th>22</th>\n",
       "      <td>56782.060586</td>\n",
       "      <td>58647.9</td>\n",
       "    </tr>\n",
       "    <tr>\n",
       "      <th>11</th>\n",
       "      <th>308</th>\n",
       "      <th>3</th>\n",
       "      <td>38127.588429</td>\n",
       "      <td>40773.7</td>\n",
       "    </tr>\n",
       "    <tr>\n",
       "      <th>12</th>\n",
       "      <th>343</th>\n",
       "      <th>20</th>\n",
       "      <td>55902.518119</td>\n",
       "      <td>61410.8</td>\n",
       "    </tr>\n",
       "    <tr>\n",
       "      <th>11</th>\n",
       "      <th>323</th>\n",
       "      <th>5</th>\n",
       "      <td>31829.108286</td>\n",
       "      <td>36096.5</td>\n",
       "    </tr>\n",
       "    <tr>\n",
       "      <th>12</th>\n",
       "      <th>339</th>\n",
       "      <th>3</th>\n",
       "      <td>43691.387619</td>\n",
       "      <td>46251.5</td>\n",
       "    </tr>\n",
       "  </tbody>\n",
       "</table>\n",
       "<p>2904 rows × 2 columns</p>\n",
       "</div>"
      ],
      "text/plain": [
       "                       fossil gen       mw\n",
       "year month day hour                       \n",
       "2017 9     244 15    50958.410167  49356.5\n",
       "     10    281 9     34345.176586  41554.5\n",
       "     9     256 2     47477.032919  50696.4\n",
       "     10    294 6     27813.774643  33532.9\n",
       "     9     248 6     32548.130814  40952.8\n",
       "...                           ...      ...\n",
       "     10    276 22    56782.060586  58647.9\n",
       "     11    308 3     38127.588429  40773.7\n",
       "     12    343 20    55902.518119  61410.8\n",
       "     11    323 5     31829.108286  36096.5\n",
       "     12    339 3     43691.387619  46251.5\n",
       "\n",
       "[2904 rows x 2 columns]"
      ]
     },
     "execution_count": 556,
     "metadata": {},
     "output_type": "execute_result"
    }
   ],
   "source": [
    "compare"
   ]
  },
  {
   "cell_type": "code",
   "execution_count": 557,
   "metadata": {},
   "outputs": [
    {
     "data": {
      "text/plain": [
       "<matplotlib.legend.Legend at 0x7fe12affe908>"
      ]
     },
     "execution_count": 557,
     "metadata": {},
     "output_type": "execute_result"
    },
    {
     "data": {
      "image/png": "[encoded data removed]",
      "text/plain": [
       "<Figure size 432x288 with 1 Axes>"
      ]
     },
     "metadata": {
      "needs_background": "light"
     },
     "output_type": "display_data"
    }
   ],
   "source": [
    "# Find hourly average \n",
    "predicted_hourly = compare['fossil gen'].groupby( ['hour'] ).mean().reset_index()\n",
    "actual_hourly = compare['mw'].groupby(['hour']).mean().reset_index()\n",
    "\n",
    "plt.suptitle('Prediction vs Actual - By Hour of Day', fontsize=15)\n",
    "plt.plot(actual_hourly['mw'], label='Actual')\n",
    "plt.plot(predicted_hourly['fossil gen'], label='Predicted')\n",
    "plt.legend()"
   ]
  },
  {
   "cell_type": "code",
   "execution_count": 559,
   "metadata": {},
   "outputs": [
    {
     "data": {
      "text/plain": [
       "<matplotlib.legend.Legend at 0x7fe12aee01d0>"
      ]
     },
     "execution_count": 559,
     "metadata": {},
     "output_type": "execute_result"
    },
    {
     "data": {
      "image/png": "[encoded data removed]",
      "text/plain": [
       "<Figure size 432x288 with 1 Axes>"
      ]
     },
     "metadata": {
      "needs_background": "light"
     },
     "output_type": "display_data"
    }
   ],
   "source": [
    "# Find monthly average \n",
    "predicted_monthly = compare['fossil gen'].groupby( ['month'] ).mean().reset_index()\n",
    "actual_monthly = compare['mw'].groupby(['month']).mean().reset_index()\n",
    "\n",
    "plt.suptitle('Prediction vs Actual - By Month of Year', fontsize=15)\n",
    "plt.plot(actual_monthly['mw'], label='Actual')\n",
    "plt.plot(predicted_monthly['fossil gen'], label='Predicted')\n",
    "plt.legend()"
   ]
  }
 ],
 "metadata": {
  "kernelspec": {
   "display_name": "Python 3",
   "language": "python",
   "name": "python3"
  },
  "language_info": {
   "codemirror_mode": {
    "name": "ipython",
    "version": 3
   },
   "file_extension": ".py",
   "mimetype": "text/x-python",
   "name": "python",
   "nbconvert_exporter": "python",
   "pygments_lexer": "ipython3",
   "version": "3.6.9"
  }
 },
 "nbformat": 4,
 "nbformat_minor": 4
}
