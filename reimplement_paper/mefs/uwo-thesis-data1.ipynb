{
 "cells": [
  {
   "cell_type": "code",
   "execution_count": 22,
   "metadata": {},
   "outputs": [],
   "source": [
    "import pandas as pd\n",
    "import numpy as np\n",
    "import seaborn as sns\n",
    "\n",
    "from datetime import datetime, timedelta\n",
    "from pandas.tseries.holiday import USFederalHolidayCalendar\n",
    "\n",
    "from sklearn.metrics import mean_squared_error, make_scorer\n",
    "from sklearn.preprocessing import normalize, minmax_scale\n",
    "import matplotlib.pyplot as plt\n",
    "from sklearn.linear_model import Lasso\n",
    "from sklearn.linear_model import LinearRegression\n",
    "from scipy.stats import skew\n",
    "from scipy import stats\n",
    "from sklearn.model_selection import cross_val_score, train_test_split\n"
   ]
  },
  {
   "cell_type": "markdown",
   "metadata": {},
   "source": [
    "### Load data provided by PJM \n",
    "From: https://www.pjm.com/-/media/library/reports-notices/special-reports/2018/2018-emissions-report.ashx?la=en "
   ]
  },
  {
   "cell_type": "code",
   "execution_count": 43,
   "metadata": {},
   "outputs": [
    {
     "data": {
      "text/html": [
       "<div>\n",
       "<style scoped>\n",
       "    .dataframe tbody tr th:only-of-type {\n",
       "        vertical-align: middle;\n",
       "    }\n",
       "\n",
       "    .dataframe tbody tr th {\n",
       "        vertical-align: top;\n",
       "    }\n",
       "\n",
       "    .dataframe thead th {\n",
       "        text-align: right;\n",
       "    }\n",
       "</style>\n",
       "<table border=\"1\" class=\"dataframe\">\n",
       "  <thead>\n",
       "    <tr style=\"text-align: right;\">\n",
       "      <th></th>\n",
       "      <th>year</th>\n",
       "      <th>month</th>\n",
       "      <th>mef</th>\n",
       "    </tr>\n",
       "  </thead>\n",
       "  <tbody>\n",
       "    <tr>\n",
       "      <th>0</th>\n",
       "      <td>2014</td>\n",
       "      <td>1</td>\n",
       "      <td>1194</td>\n",
       "    </tr>\n",
       "    <tr>\n",
       "      <th>1</th>\n",
       "      <td>2014</td>\n",
       "      <td>2</td>\n",
       "      <td>1212</td>\n",
       "    </tr>\n",
       "    <tr>\n",
       "      <th>2</th>\n",
       "      <td>2014</td>\n",
       "      <td>3</td>\n",
       "      <td>1187</td>\n",
       "    </tr>\n",
       "    <tr>\n",
       "      <th>3</th>\n",
       "      <td>2014</td>\n",
       "      <td>4</td>\n",
       "      <td>1088</td>\n",
       "    </tr>\n",
       "    <tr>\n",
       "      <th>4</th>\n",
       "      <td>2014</td>\n",
       "      <td>5</td>\n",
       "      <td>1049</td>\n",
       "    </tr>\n",
       "  </tbody>\n",
       "</table>\n",
       "</div>"
      ],
      "text/plain": [
       "   year  month   mef\n",
       "0  2014      1  1194\n",
       "1  2014      2  1212\n",
       "2  2014      3  1187\n",
       "3  2014      4  1088\n",
       "4  2014      5  1049"
      ]
     },
     "execution_count": 43,
     "metadata": {},
     "output_type": "execute_result"
    }
   ],
   "source": [
    "calc = pd.read_csv(\"pjm-mefs.csv\")\n",
    "calc.head()"
   ]
  },
  {
   "cell_type": "markdown",
   "metadata": {},
   "source": [
    "### Updated Regression with More Data"
   ]
  },
  {
   "cell_type": "code",
   "execution_count": 44,
   "metadata": {},
   "outputs": [],
   "source": [
    "# Label the df with the year, month, hour, and season \n",
    "def label_year_month(df):\n",
    "    df = df.copy()\n",
    "    df['year'] = df.index.year\n",
    "    df['month'] = df.index.month\n",
    "    return df"
   ]
  },
  {
   "cell_type": "code",
   "execution_count": 45,
   "metadata": {},
   "outputs": [],
   "source": [
    "# Load ISO/RTO data, focus on PJM \n",
    "isorto_data1 = pd.read_csv(\"../data/formatted_data/cems_diffs_isorto.csv\", index_col=0, parse_dates=[0])\n",
    "\n",
    "isorto_data1 = isorto_data1.loc[isorto_data1['isorto'] == 'PJM']\n",
    "isorto_data1 = label_year_month(isorto_data1)"
   ]
  },
  {
   "cell_type": "code",
   "execution_count": 46,
   "metadata": {},
   "outputs": [
    {
     "data": {
      "text/html": [
       "<div>\n",
       "<style scoped>\n",
       "    .dataframe tbody tr th:only-of-type {\n",
       "        vertical-align: middle;\n",
       "    }\n",
       "\n",
       "    .dataframe tbody tr th {\n",
       "        vertical-align: top;\n",
       "    }\n",
       "\n",
       "    .dataframe thead th {\n",
       "        text-align: right;\n",
       "    }\n",
       "</style>\n",
       "<table border=\"1\" class=\"dataframe\">\n",
       "  <thead>\n",
       "    <tr style=\"text-align: right;\">\n",
       "      <th></th>\n",
       "      <th>year</th>\n",
       "      <th>month</th>\n",
       "      <th>co2_kg</th>\n",
       "      <th>so2_kg</th>\n",
       "      <th>nox_kg</th>\n",
       "      <th>pm25_kg</th>\n",
       "      <th>gload_mwh</th>\n",
       "      <th>prev_co2_mef</th>\n",
       "      <th>mef</th>\n",
       "    </tr>\n",
       "  </thead>\n",
       "  <tbody>\n",
       "    <tr>\n",
       "      <th>97</th>\n",
       "      <td>2014</td>\n",
       "      <td>2</td>\n",
       "      <td>4.267650e+06</td>\n",
       "      <td>10323.889090</td>\n",
       "      <td>-466.319792</td>\n",
       "      <td>924.240078</td>\n",
       "      <td>5647.59</td>\n",
       "      <td>1194.0</td>\n",
       "      <td>1212.0</td>\n",
       "    </tr>\n",
       "    <tr>\n",
       "      <th>98</th>\n",
       "      <td>2014</td>\n",
       "      <td>3</td>\n",
       "      <td>-2.411806e+07</td>\n",
       "      <td>-70378.294180</td>\n",
       "      <td>-20399.731396</td>\n",
       "      <td>-3803.826705</td>\n",
       "      <td>-32157.09</td>\n",
       "      <td>1212.0</td>\n",
       "      <td>1187.0</td>\n",
       "    </tr>\n",
       "    <tr>\n",
       "      <th>99</th>\n",
       "      <td>2014</td>\n",
       "      <td>4</td>\n",
       "      <td>1.897115e+06</td>\n",
       "      <td>-4906.113668</td>\n",
       "      <td>-642.892271</td>\n",
       "      <td>539.593638</td>\n",
       "      <td>2646.89</td>\n",
       "      <td>1187.0</td>\n",
       "      <td>1088.0</td>\n",
       "    </tr>\n",
       "    <tr>\n",
       "      <th>100</th>\n",
       "      <td>2014</td>\n",
       "      <td>5</td>\n",
       "      <td>-1.322843e+06</td>\n",
       "      <td>3731.214226</td>\n",
       "      <td>-3248.661738</td>\n",
       "      <td>-410.591931</td>\n",
       "      <td>-1343.98</td>\n",
       "      <td>1088.0</td>\n",
       "      <td>1049.0</td>\n",
       "    </tr>\n",
       "    <tr>\n",
       "      <th>101</th>\n",
       "      <td>2014</td>\n",
       "      <td>6</td>\n",
       "      <td>1.905340e+07</td>\n",
       "      <td>38175.641724</td>\n",
       "      <td>17567.597748</td>\n",
       "      <td>2801.205843</td>\n",
       "      <td>24450.74</td>\n",
       "      <td>1049.0</td>\n",
       "      <td>1116.0</td>\n",
       "    </tr>\n",
       "  </tbody>\n",
       "</table>\n",
       "</div>"
      ],
      "text/plain": [
       "     year  month        co2_kg        so2_kg        nox_kg      pm25_kg  \\\n",
       "97   2014      2  4.267650e+06  10323.889090   -466.319792   924.240078   \n",
       "98   2014      3 -2.411806e+07 -70378.294180 -20399.731396 -3803.826705   \n",
       "99   2014      4  1.897115e+06  -4906.113668   -642.892271   539.593638   \n",
       "100  2014      5 -1.322843e+06   3731.214226  -3248.661738  -410.591931   \n",
       "101  2014      6  1.905340e+07  38175.641724  17567.597748  2801.205843   \n",
       "\n",
       "     gload_mwh  prev_co2_mef     mef  \n",
       "97     5647.59        1194.0  1212.0  \n",
       "98   -32157.09        1212.0  1187.0  \n",
       "99     2646.89        1187.0  1088.0  \n",
       "100   -1343.98        1088.0  1049.0  \n",
       "101   24450.74        1049.0  1116.0  "
      ]
     },
     "execution_count": 46,
     "metadata": {},
     "output_type": "execute_result"
    }
   ],
   "source": [
    "# Group by year and month\n",
    "data = isorto_data1.copy()\n",
    "data = data.groupby(['year', 'month']).sum()\n",
    "data = data.reset_index()\n",
    "\n",
    "# Get MEF from PJM then find the MEF from the last hour\n",
    "df = pd.merge(data, calc, how='left', on=['year', 'month'])\n",
    "df['prev_co2_mef'] = df.mef.shift(1)\n",
    "df = df.dropna()\n",
    "df = df.drop_duplicates(subset=['year', 'month'], keep='first')\n",
    "df = df[['year', 'month', 'co2_kg', 'so2_kg', 'nox_kg', 'pm25_kg', 'gload_mwh', 'prev_co2_mef', 'mef']]\n",
    "\n",
    "df.head()"
   ]
  },
  {
   "cell_type": "code",
   "execution_count": 47,
   "metadata": {},
   "outputs": [],
   "source": [
    "# sin / cosine correction for month \n",
    "df['cos_month'] = np.cos((df.month)*(2*np.pi/12))\n",
    "df['sin_month'] = np.sin((df.month)*(2*np.pi/12))"
   ]
  },
  {
   "cell_type": "code",
   "execution_count": 48,
   "metadata": {},
   "outputs": [],
   "source": [
    "# Start with CO2 Calculations\n",
    "x = df[['year', 'sin_month', 'cos_month', 'co2_kg', 'so2_kg', 'nox_kg', 'pm25_kg', 'gload_mwh', 'prev_co2_mef']]\n",
    "y = df[['mef']]\n",
    "\n",
    "# Normalize x \n",
    "# x = (x-x.min())/(x.max()-x.min())\n",
    "# x.head()"
   ]
  },
  {
   "cell_type": "markdown",
   "metadata": {},
   "source": [
    "### Visualize Data"
   ]
  },
  {
   "cell_type": "code",
   "execution_count": 49,
   "metadata": {},
   "outputs": [
    {
     "data": {
      "text/plain": [
       "<matplotlib.axes._subplots.AxesSubplot at 0x7f642b205128>"
      ]
     },
     "execution_count": 49,
     "metadata": {},
     "output_type": "execute_result"
    },
    {
     "data": {
      "image/png": "[encoded data removed]",
      "text/plain": [
       "<Figure size 864x648 with 2 Axes>"
      ]
     },
     "metadata": {
      "needs_background": "light"
     },
     "output_type": "display_data"
    }
   ],
   "source": [
    "corrmat = df.corr()\n",
    "f, ax = plt.subplots(figsize=(12, 9))\n",
    "sns.heatmap(corrmat, vmax=.8, square=True)"
   ]
  },
  {
   "cell_type": "code",
   "execution_count": 59,
   "metadata": {},
   "outputs": [
    {
     "data": {
      "image/png": "[encoded data removed]",
      "text/plain": [
       "<Figure size 432x288 with 1 Axes>"
      ]
     },
     "metadata": {
      "needs_background": "light"
     },
     "output_type": "display_data"
    }
   ],
   "source": [
    "sns.lineplot(x=\"month\", y=\"mef\", hue=\"year\", data=df)\n",
    "\n",
    "plt.title(\"CO2 MEF Based on Month\")\n",
    "plt.show()"
   ]
  },
  {
   "cell_type": "code",
   "execution_count": 64,
   "metadata": {},
   "outputs": [
    {
     "data": {
      "image/png": "[encoded data removed]",
      "text/plain": [
       "<Figure size 432x288 with 1 Axes>"
      ]
     },
     "metadata": {
      "needs_background": "light"
     },
     "output_type": "display_data"
    }
   ],
   "source": [
    "df.plot(x='gload_mwh', y='mef', style='o')  \n",
    "plt.title('Energy Demand vs MEF')  \n",
    "\n",
    "plt.show()"
   ]
  },
  {
   "cell_type": "code",
   "execution_count": 65,
   "metadata": {},
   "outputs": [
    {
     "data": {
      "image/png": "[encoded data removed]",
      "text/plain": [
       "<Figure size 432x288 with 1 Axes>"
      ]
     },
     "metadata": {
      "needs_background": "light"
     },
     "output_type": "display_data"
    }
   ],
   "source": [
    "df.plot(x='co2_kg', y='mef', style='o')  \n",
    "plt.title('Emissions vs MEF')  \n",
    "\n",
    "plt.show()"
   ]
  },
  {
   "cell_type": "code",
   "execution_count": 66,
   "metadata": {},
   "outputs": [
    {
     "data": {
      "image/png": "[encoded data removed]",
      "text/plain": [
       "<Figure size 432x288 with 1 Axes>"
      ]
     },
     "metadata": {
      "needs_background": "light"
     },
     "output_type": "display_data"
    }
   ],
   "source": [
    "df.plot(x='prev_co2_mef', y='mef', style='o')  \n",
    "plt.title('Previous Month Value vs MEF')  \n",
    "\n",
    "plt.show()"
   ]
  },
  {
   "cell_type": "markdown",
   "metadata": {},
   "source": [
    "### Implement Linear Regression"
   ]
  },
  {
   "cell_type": "code",
   "execution_count": 50,
   "metadata": {},
   "outputs": [
    {
     "data": {
      "text/plain": [
       "LinearRegression(copy_X=True, fit_intercept=True, n_jobs=None, normalize=False)"
      ]
     },
     "execution_count": 50,
     "metadata": {},
     "output_type": "execute_result"
    }
   ],
   "source": [
    "X_train,X_test,y_train,y_test = train_test_split(x,y,test_size = 0.2,random_state = 100) \n",
    "lr = LinearRegression()\n",
    "lr.fit(X_train, y_train)"
   ]
  },
  {
   "cell_type": "code",
   "execution_count": 51,
   "metadata": {},
   "outputs": [],
   "source": [
    "# Make predictions using the testing set\n",
    "results = pd.DataFrame(index = x.index)\n",
    "results['mef_predicted'] = lr.predict(x)\n",
    "results['mef_actual'] = y['mef']\n",
    "\n",
    "results.index = range(35)"
   ]
  },
  {
   "cell_type": "code",
   "execution_count": 52,
   "metadata": {},
   "outputs": [
    {
     "name": "stdout",
     "output_type": "stream",
     "text": [
      "Test and training error: 0.0015457679754302355\n",
      "Test error: 0.00035114944438770955\n",
      "Test error: 0.0011946185310425259\n"
     ]
    }
   ],
   "source": [
    "# Calculate error: sum of (y - y(hat)) / y(hat)^2 \n",
    "temp = pd.DataFrame()\n",
    "temp['diff'] = abs(results['mef_actual'] - results['mef_predicted'])\n",
    "temp['error'] = temp['diff'] / (results['mef_predicted']**2)\n",
    "print(\"Test and training error: \" + str(temp['error'].sum()))\n",
    "\n",
    "# Test data \n",
    "test = pd.DataFrame(index = X_test.index)\n",
    "test['mef_predicted'] = lr.predict(X_test)\n",
    "test['mef_actual'] = y_test['mef']\n",
    "test['diff'] = abs(test['mef_actual'] - test['mef_predicted'])\n",
    "test['error'] = test['diff'] / (test['mef_predicted']**2)\n",
    "print(\"Test error: \" + str(test['error'].sum()))\n",
    "\n",
    "# Training data \n",
    "train = pd.DataFrame(index = X_train.index)\n",
    "train['mef_predicted'] = lr.predict(X_train)\n",
    "train['mef_actual'] = y_train['mef']\n",
    "train['diff'] = abs(train['mef_actual'] - train['mef_predicted'])\n",
    "train['error'] = train['diff'] / (train['mef_predicted']**2)\n",
    "print(\"Test error: \" + str(train['error'].sum()))"
   ]
  },
  {
   "cell_type": "markdown",
   "metadata": {},
   "source": [
    "### Compare with univariate regression model\n",
    "Results of this paper: https://pubs.acs.org/doi/10.1021/acs.est.8b06586"
   ]
  },
  {
   "cell_type": "code",
   "execution_count": 53,
   "metadata": {},
   "outputs": [],
   "source": [
    "df_compare = pd.read_csv(\"mef-regression.csv\", index_col=0)\n",
    "df_compare = df_compare.loc[df_compare['pollutant'] == 'co2']\n",
    "\n",
    "df_compare = df_compare[['year', 'month', 'factor']]\n",
    "df_compare = df_compare[df_compare['year'].isin(['2014', '2015', '2016'])]\n",
    "\n",
    "df_compare.columns = ['year', 'month', 'mef_paper']\n",
    "df_compare.index = range(35)"
   ]
  },
  {
   "cell_type": "code",
   "execution_count": 54,
   "metadata": {},
   "outputs": [
    {
     "data": {
      "text/html": [
       "<div>\n",
       "<style scoped>\n",
       "    .dataframe tbody tr th:only-of-type {\n",
       "        vertical-align: middle;\n",
       "    }\n",
       "\n",
       "    .dataframe tbody tr th {\n",
       "        vertical-align: top;\n",
       "    }\n",
       "\n",
       "    .dataframe thead th {\n",
       "        text-align: right;\n",
       "    }\n",
       "</style>\n",
       "<table border=\"1\" class=\"dataframe\">\n",
       "  <thead>\n",
       "    <tr style=\"text-align: right;\">\n",
       "      <th></th>\n",
       "      <th>year</th>\n",
       "      <th>month</th>\n",
       "      <th>mef_paper</th>\n",
       "      <th>mef_predicted</th>\n",
       "      <th>mef_actual</th>\n",
       "    </tr>\n",
       "  </thead>\n",
       "  <tbody>\n",
       "    <tr>\n",
       "      <th>0</th>\n",
       "      <td>2014</td>\n",
       "      <td>2</td>\n",
       "      <td>600.735353</td>\n",
       "      <td>1148.694369</td>\n",
       "      <td>1212.0</td>\n",
       "    </tr>\n",
       "    <tr>\n",
       "      <th>1</th>\n",
       "      <td>2014</td>\n",
       "      <td>3</td>\n",
       "      <td>653.488770</td>\n",
       "      <td>1096.949188</td>\n",
       "      <td>1187.0</td>\n",
       "    </tr>\n",
       "    <tr>\n",
       "      <th>2</th>\n",
       "      <td>2014</td>\n",
       "      <td>4</td>\n",
       "      <td>674.639737</td>\n",
       "      <td>1159.892561</td>\n",
       "      <td>1088.0</td>\n",
       "    </tr>\n",
       "    <tr>\n",
       "      <th>3</th>\n",
       "      <td>2014</td>\n",
       "      <td>5</td>\n",
       "      <td>671.333305</td>\n",
       "      <td>1008.552413</td>\n",
       "      <td>1049.0</td>\n",
       "    </tr>\n",
       "    <tr>\n",
       "      <th>4</th>\n",
       "      <td>2014</td>\n",
       "      <td>6</td>\n",
       "      <td>686.015935</td>\n",
       "      <td>1128.868364</td>\n",
       "      <td>1116.0</td>\n",
       "    </tr>\n",
       "    <tr>\n",
       "      <th>5</th>\n",
       "      <td>2014</td>\n",
       "      <td>7</td>\n",
       "      <td>689.249095</td>\n",
       "      <td>1042.153337</td>\n",
       "      <td>1121.0</td>\n",
       "    </tr>\n",
       "    <tr>\n",
       "      <th>6</th>\n",
       "      <td>2014</td>\n",
       "      <td>8</td>\n",
       "      <td>708.448409</td>\n",
       "      <td>1122.403697</td>\n",
       "      <td>1092.0</td>\n",
       "    </tr>\n",
       "    <tr>\n",
       "      <th>7</th>\n",
       "      <td>2014</td>\n",
       "      <td>9</td>\n",
       "      <td>696.836722</td>\n",
       "      <td>1013.598144</td>\n",
       "      <td>1059.0</td>\n",
       "    </tr>\n",
       "    <tr>\n",
       "      <th>8</th>\n",
       "      <td>2014</td>\n",
       "      <td>10</td>\n",
       "      <td>703.063725</td>\n",
       "      <td>1048.921463</td>\n",
       "      <td>1017.0</td>\n",
       "    </tr>\n",
       "    <tr>\n",
       "      <th>9</th>\n",
       "      <td>2014</td>\n",
       "      <td>11</td>\n",
       "      <td>672.504285</td>\n",
       "      <td>1021.467609</td>\n",
       "      <td>1077.0</td>\n",
       "    </tr>\n",
       "    <tr>\n",
       "      <th>10</th>\n",
       "      <td>2014</td>\n",
       "      <td>12</td>\n",
       "      <td>673.314912</td>\n",
       "      <td>1031.231584</td>\n",
       "      <td>1036.0</td>\n",
       "    </tr>\n",
       "    <tr>\n",
       "      <th>11</th>\n",
       "      <td>2015</td>\n",
       "      <td>1</td>\n",
       "      <td>674.831724</td>\n",
       "      <td>1092.407881</td>\n",
       "      <td>1096.0</td>\n",
       "    </tr>\n",
       "    <tr>\n",
       "      <th>12</th>\n",
       "      <td>2015</td>\n",
       "      <td>2</td>\n",
       "      <td>665.758652</td>\n",
       "      <td>1125.711429</td>\n",
       "      <td>1184.0</td>\n",
       "    </tr>\n",
       "    <tr>\n",
       "      <th>13</th>\n",
       "      <td>2015</td>\n",
       "      <td>3</td>\n",
       "      <td>696.818668</td>\n",
       "      <td>1023.038965</td>\n",
       "      <td>1044.0</td>\n",
       "    </tr>\n",
       "    <tr>\n",
       "      <th>14</th>\n",
       "      <td>2015</td>\n",
       "      <td>4</td>\n",
       "      <td>700.869647</td>\n",
       "      <td>970.995765</td>\n",
       "      <td>942.0</td>\n",
       "    </tr>\n",
       "    <tr>\n",
       "      <th>15</th>\n",
       "      <td>2015</td>\n",
       "      <td>5</td>\n",
       "      <td>682.864459</td>\n",
       "      <td>999.488070</td>\n",
       "      <td>997.0</td>\n",
       "    </tr>\n",
       "    <tr>\n",
       "      <th>16</th>\n",
       "      <td>2015</td>\n",
       "      <td>6</td>\n",
       "      <td>687.392550</td>\n",
       "      <td>1006.861812</td>\n",
       "      <td>1023.0</td>\n",
       "    </tr>\n",
       "    <tr>\n",
       "      <th>17</th>\n",
       "      <td>2015</td>\n",
       "      <td>7</td>\n",
       "      <td>698.165817</td>\n",
       "      <td>1090.852697</td>\n",
       "      <td>1073.0</td>\n",
       "    </tr>\n",
       "    <tr>\n",
       "      <th>18</th>\n",
       "      <td>2015</td>\n",
       "      <td>8</td>\n",
       "      <td>708.852697</td>\n",
       "      <td>1116.938863</td>\n",
       "      <td>1057.0</td>\n",
       "    </tr>\n",
       "    <tr>\n",
       "      <th>19</th>\n",
       "      <td>2015</td>\n",
       "      <td>9</td>\n",
       "      <td>713.435407</td>\n",
       "      <td>1017.605041</td>\n",
       "      <td>1034.0</td>\n",
       "    </tr>\n",
       "    <tr>\n",
       "      <th>20</th>\n",
       "      <td>2015</td>\n",
       "      <td>10</td>\n",
       "      <td>686.859973</td>\n",
       "      <td>1014.804588</td>\n",
       "      <td>898.0</td>\n",
       "    </tr>\n",
       "    <tr>\n",
       "      <th>21</th>\n",
       "      <td>2015</td>\n",
       "      <td>11</td>\n",
       "      <td>674.808168</td>\n",
       "      <td>941.196041</td>\n",
       "      <td>899.0</td>\n",
       "    </tr>\n",
       "    <tr>\n",
       "      <th>22</th>\n",
       "      <td>2015</td>\n",
       "      <td>12</td>\n",
       "      <td>661.351886</td>\n",
       "      <td>841.816268</td>\n",
       "      <td>831.0</td>\n",
       "    </tr>\n",
       "    <tr>\n",
       "      <th>23</th>\n",
       "      <td>2016</td>\n",
       "      <td>1</td>\n",
       "      <td>683.572181</td>\n",
       "      <td>854.500363</td>\n",
       "      <td>962.0</td>\n",
       "    </tr>\n",
       "    <tr>\n",
       "      <th>24</th>\n",
       "      <td>2016</td>\n",
       "      <td>2</td>\n",
       "      <td>676.923883</td>\n",
       "      <td>963.984469</td>\n",
       "      <td>947.0</td>\n",
       "    </tr>\n",
       "    <tr>\n",
       "      <th>25</th>\n",
       "      <td>2016</td>\n",
       "      <td>3</td>\n",
       "      <td>655.457557</td>\n",
       "      <td>905.994027</td>\n",
       "      <td>842.0</td>\n",
       "    </tr>\n",
       "    <tr>\n",
       "      <th>26</th>\n",
       "      <td>2016</td>\n",
       "      <td>4</td>\n",
       "      <td>691.584761</td>\n",
       "      <td>1007.420118</td>\n",
       "      <td>937.0</td>\n",
       "    </tr>\n",
       "    <tr>\n",
       "      <th>27</th>\n",
       "      <td>2016</td>\n",
       "      <td>5</td>\n",
       "      <td>662.858041</td>\n",
       "      <td>899.992357</td>\n",
       "      <td>873.0</td>\n",
       "    </tr>\n",
       "    <tr>\n",
       "      <th>28</th>\n",
       "      <td>2016</td>\n",
       "      <td>6</td>\n",
       "      <td>672.798010</td>\n",
       "      <td>984.981013</td>\n",
       "      <td>1047.0</td>\n",
       "    </tr>\n",
       "    <tr>\n",
       "      <th>29</th>\n",
       "      <td>2016</td>\n",
       "      <td>7</td>\n",
       "      <td>678.964027</td>\n",
       "      <td>1049.692025</td>\n",
       "      <td>1123.0</td>\n",
       "    </tr>\n",
       "    <tr>\n",
       "      <th>30</th>\n",
       "      <td>2016</td>\n",
       "      <td>8</td>\n",
       "      <td>684.829939</td>\n",
       "      <td>1052.337285</td>\n",
       "      <td>1109.0</td>\n",
       "    </tr>\n",
       "    <tr>\n",
       "      <th>31</th>\n",
       "      <td>2016</td>\n",
       "      <td>9</td>\n",
       "      <td>678.837027</td>\n",
       "      <td>978.750163</td>\n",
       "      <td>1047.0</td>\n",
       "    </tr>\n",
       "    <tr>\n",
       "      <th>32</th>\n",
       "      <td>2016</td>\n",
       "      <td>10</td>\n",
       "      <td>688.588366</td>\n",
       "      <td>1031.728547</td>\n",
       "      <td>973.0</td>\n",
       "    </tr>\n",
       "    <tr>\n",
       "      <th>33</th>\n",
       "      <td>2016</td>\n",
       "      <td>11</td>\n",
       "      <td>693.754265</td>\n",
       "      <td>937.938451</td>\n",
       "      <td>895.0</td>\n",
       "    </tr>\n",
       "    <tr>\n",
       "      <th>34</th>\n",
       "      <td>2016</td>\n",
       "      <td>12</td>\n",
       "      <td>620.953207</td>\n",
       "      <td>1014.942226</td>\n",
       "      <td>1031.0</td>\n",
       "    </tr>\n",
       "  </tbody>\n",
       "</table>\n",
       "</div>"
      ],
      "text/plain": [
       "    year  month   mef_paper  mef_predicted  mef_actual\n",
       "0   2014      2  600.735353    1148.694369      1212.0\n",
       "1   2014      3  653.488770    1096.949188      1187.0\n",
       "2   2014      4  674.639737    1159.892561      1088.0\n",
       "3   2014      5  671.333305    1008.552413      1049.0\n",
       "4   2014      6  686.015935    1128.868364      1116.0\n",
       "5   2014      7  689.249095    1042.153337      1121.0\n",
       "6   2014      8  708.448409    1122.403697      1092.0\n",
       "7   2014      9  696.836722    1013.598144      1059.0\n",
       "8   2014     10  703.063725    1048.921463      1017.0\n",
       "9   2014     11  672.504285    1021.467609      1077.0\n",
       "10  2014     12  673.314912    1031.231584      1036.0\n",
       "11  2015      1  674.831724    1092.407881      1096.0\n",
       "12  2015      2  665.758652    1125.711429      1184.0\n",
       "13  2015      3  696.818668    1023.038965      1044.0\n",
       "14  2015      4  700.869647     970.995765       942.0\n",
       "15  2015      5  682.864459     999.488070       997.0\n",
       "16  2015      6  687.392550    1006.861812      1023.0\n",
       "17  2015      7  698.165817    1090.852697      1073.0\n",
       "18  2015      8  708.852697    1116.938863      1057.0\n",
       "19  2015      9  713.435407    1017.605041      1034.0\n",
       "20  2015     10  686.859973    1014.804588       898.0\n",
       "21  2015     11  674.808168     941.196041       899.0\n",
       "22  2015     12  661.351886     841.816268       831.0\n",
       "23  2016      1  683.572181     854.500363       962.0\n",
       "24  2016      2  676.923883     963.984469       947.0\n",
       "25  2016      3  655.457557     905.994027       842.0\n",
       "26  2016      4  691.584761    1007.420118       937.0\n",
       "27  2016      5  662.858041     899.992357       873.0\n",
       "28  2016      6  672.798010     984.981013      1047.0\n",
       "29  2016      7  678.964027    1049.692025      1123.0\n",
       "30  2016      8  684.829939    1052.337285      1109.0\n",
       "31  2016      9  678.837027     978.750163      1047.0\n",
       "32  2016     10  688.588366    1031.728547       973.0\n",
       "33  2016     11  693.754265     937.938451       895.0\n",
       "34  2016     12  620.953207    1014.942226      1031.0"
      ]
     },
     "execution_count": 54,
     "metadata": {},
     "output_type": "execute_result"
    }
   ],
   "source": [
    "df_compare = df_compare.join(results)\n",
    "df_compare"
   ]
  },
  {
   "cell_type": "code",
   "execution_count": 55,
   "metadata": {},
   "outputs": [
    {
     "data": {
      "text/html": [
       "<div>\n",
       "<style scoped>\n",
       "    .dataframe tbody tr th:only-of-type {\n",
       "        vertical-align: middle;\n",
       "    }\n",
       "\n",
       "    .dataframe tbody tr th {\n",
       "        vertical-align: top;\n",
       "    }\n",
       "\n",
       "    .dataframe thead th {\n",
       "        text-align: right;\n",
       "    }\n",
       "</style>\n",
       "<table border=\"1\" class=\"dataframe\">\n",
       "  <thead>\n",
       "    <tr style=\"text-align: right;\">\n",
       "      <th></th>\n",
       "      <th>year</th>\n",
       "      <th>month</th>\n",
       "      <th>Type</th>\n",
       "      <th>mef</th>\n",
       "      <th>date</th>\n",
       "    </tr>\n",
       "  </thead>\n",
       "  <tbody>\n",
       "    <tr>\n",
       "      <th>0</th>\n",
       "      <td>2014</td>\n",
       "      <td>2</td>\n",
       "      <td>mef_paper</td>\n",
       "      <td>600.735353</td>\n",
       "      <td>2014-02-01</td>\n",
       "    </tr>\n",
       "    <tr>\n",
       "      <th>1</th>\n",
       "      <td>2014</td>\n",
       "      <td>3</td>\n",
       "      <td>mef_paper</td>\n",
       "      <td>653.488770</td>\n",
       "      <td>2014-03-01</td>\n",
       "    </tr>\n",
       "    <tr>\n",
       "      <th>2</th>\n",
       "      <td>2014</td>\n",
       "      <td>4</td>\n",
       "      <td>mef_paper</td>\n",
       "      <td>674.639737</td>\n",
       "      <td>2014-04-01</td>\n",
       "    </tr>\n",
       "    <tr>\n",
       "      <th>3</th>\n",
       "      <td>2014</td>\n",
       "      <td>5</td>\n",
       "      <td>mef_paper</td>\n",
       "      <td>671.333305</td>\n",
       "      <td>2014-05-01</td>\n",
       "    </tr>\n",
       "    <tr>\n",
       "      <th>4</th>\n",
       "      <td>2014</td>\n",
       "      <td>6</td>\n",
       "      <td>mef_paper</td>\n",
       "      <td>686.015935</td>\n",
       "      <td>2014-06-01</td>\n",
       "    </tr>\n",
       "    <tr>\n",
       "      <th>...</th>\n",
       "      <td>...</td>\n",
       "      <td>...</td>\n",
       "      <td>...</td>\n",
       "      <td>...</td>\n",
       "      <td>...</td>\n",
       "    </tr>\n",
       "    <tr>\n",
       "      <th>100</th>\n",
       "      <td>2016</td>\n",
       "      <td>8</td>\n",
       "      <td>mef_actual</td>\n",
       "      <td>1109.000000</td>\n",
       "      <td>2016-08-01</td>\n",
       "    </tr>\n",
       "    <tr>\n",
       "      <th>101</th>\n",
       "      <td>2016</td>\n",
       "      <td>9</td>\n",
       "      <td>mef_actual</td>\n",
       "      <td>1047.000000</td>\n",
       "      <td>2016-09-01</td>\n",
       "    </tr>\n",
       "    <tr>\n",
       "      <th>102</th>\n",
       "      <td>2016</td>\n",
       "      <td>10</td>\n",
       "      <td>mef_actual</td>\n",
       "      <td>973.000000</td>\n",
       "      <td>2016-10-01</td>\n",
       "    </tr>\n",
       "    <tr>\n",
       "      <th>103</th>\n",
       "      <td>2016</td>\n",
       "      <td>11</td>\n",
       "      <td>mef_actual</td>\n",
       "      <td>895.000000</td>\n",
       "      <td>2016-11-01</td>\n",
       "    </tr>\n",
       "    <tr>\n",
       "      <th>104</th>\n",
       "      <td>2016</td>\n",
       "      <td>12</td>\n",
       "      <td>mef_actual</td>\n",
       "      <td>1031.000000</td>\n",
       "      <td>2016-12-01</td>\n",
       "    </tr>\n",
       "  </tbody>\n",
       "</table>\n",
       "<p>105 rows × 5 columns</p>\n",
       "</div>"
      ],
      "text/plain": [
       "     year  month        Type          mef       date\n",
       "0    2014      2   mef_paper   600.735353 2014-02-01\n",
       "1    2014      3   mef_paper   653.488770 2014-03-01\n",
       "2    2014      4   mef_paper   674.639737 2014-04-01\n",
       "3    2014      5   mef_paper   671.333305 2014-05-01\n",
       "4    2014      6   mef_paper   686.015935 2014-06-01\n",
       "..    ...    ...         ...          ...        ...\n",
       "100  2016      8  mef_actual  1109.000000 2016-08-01\n",
       "101  2016      9  mef_actual  1047.000000 2016-09-01\n",
       "102  2016     10  mef_actual   973.000000 2016-10-01\n",
       "103  2016     11  mef_actual   895.000000 2016-11-01\n",
       "104  2016     12  mef_actual  1031.000000 2016-12-01\n",
       "\n",
       "[105 rows x 5 columns]"
      ]
     },
     "execution_count": 55,
     "metadata": {},
     "output_type": "execute_result"
    }
   ],
   "source": [
    "df_graph = df_compare.melt(id_vars=[\"year\", \"month\"], \n",
    "        var_name=\"Type\", \n",
    "        value_name=\"mef\")\n",
    "\n",
    "df_graph['date'] = df_graph[\"year\"].astype(str) + \"-\" + df_graph[\"month\"].astype(str)\n",
    "df_graph['date'] = pd.to_datetime(df_graph['date'])\n",
    "df_graph"
   ]
  },
  {
   "cell_type": "code",
   "execution_count": 56,
   "metadata": {},
   "outputs": [
    {
     "data": {
      "image/png": "[encoded data removed]",
      "text/plain": [
       "<Figure size 432x288 with 1 Axes>"
      ]
     },
     "metadata": {
      "needs_background": "light"
     },
     "output_type": "display_data"
    }
   ],
   "source": [
    "sns.lineplot(x='date', y=\"mef\", hue=\"Type\", data=df_graph)\n",
    "\n",
    "plt.title(\"Comparing Results\")\n",
    "plt.show()"
   ]
  },
  {
   "cell_type": "code",
   "execution_count": 57,
   "metadata": {},
   "outputs": [
    {
     "data": {
      "text/plain": [
       "0.02664012203405804"
      ]
     },
     "execution_count": 57,
     "metadata": {},
     "output_type": "execute_result"
    }
   ],
   "source": [
    "# Error from the paper compared to the real value \n",
    "temp = pd.DataFrame()\n",
    "temp['diff'] = abs(df_compare['mef_actual'] - df_compare['mef_paper'])\n",
    "temp['error'] = temp['diff'] / (df_compare['mef_paper']**2)\n",
    "temp['error'].sum()"
   ]
  },
  {
   "cell_type": "markdown",
   "metadata": {},
   "source": [
    "### Lasso"
   ]
  },
  {
   "cell_type": "code",
   "execution_count": 58,
   "metadata": {},
   "outputs": [
    {
     "name": "stdout",
     "output_type": "stream",
     "text": [
      "training score: 0.7054056266044556\n",
      "test score:  0.4982915223461032\n",
      "number of features:  9\n",
      "number of features used:  9\n"
     ]
    },
    {
     "name": "stderr",
     "output_type": "stream",
     "text": [
      "/home/amy/.local/lib/python3.6/site-packages/sklearn/linear_model/_coordinate_descent.py:476: ConvergenceWarning: Objective did not converge. You might want to increase the number of iterations. Duality gap: 37374.78485810407, tolerance: 25.963142857142856\n",
      "  positive)\n"
     ]
    }
   ],
   "source": [
    "lasso = Lasso()\n",
    "lasso.fit(X_train,y_train)\n",
    "train_score=lasso.score(X_train,y_train)\n",
    "test_score=lasso.score(X_test,y_test)\n",
    "coeff_used = np.sum(lasso.coef_!=0)\n",
    "print(\"training score:\", train_score )\n",
    "print(\"test score: \", test_score)\n",
    "print(\"number of features: \", len(X_train.columns))\n",
    "print(\"number of features used: \", coeff_used)"
   ]
  }
 ],
 "metadata": {
  "kernelspec": {
   "display_name": "Python 3",
   "language": "python",
   "name": "python3"
  },
  "language_info": {
   "codemirror_mode": {
    "name": "ipython",
    "version": 3
   },
   "file_extension": ".py",
   "mimetype": "text/x-python",
   "name": "python",
   "nbconvert_exporter": "python",
   "pygments_lexer": "ipython3",
   "version": "3.6.9"
  }
 },
 "nbformat": 4,
 "nbformat_minor": 2
}
