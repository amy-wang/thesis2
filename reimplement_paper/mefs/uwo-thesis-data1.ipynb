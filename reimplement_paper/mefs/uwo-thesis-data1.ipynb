{
 "cells": [
  {
   "cell_type": "code",
   "execution_count": 1,
   "metadata": {},
   "outputs": [],
   "source": [
    "import pandas as pd\n",
    "import numpy as np\n",
    "import seaborn as sns\n",
    "\n",
    "from datetime import datetime, timedelta\n",
    "from pandas.tseries.holiday import USFederalHolidayCalendar\n",
    "\n",
    "from sklearn.metrics import mean_squared_error, make_scorer\n",
    "from sklearn.preprocessing import normalize, minmax_scale\n",
    "import matplotlib.pyplot as plt\n",
    "from sklearn.linear_model import Lasso\n",
    "from sklearn.linear_model import LinearRegression\n",
    "from scipy.stats import skew\n",
    "from scipy import stats\n",
    "from sklearn.model_selection import cross_val_score, train_test_split\n"
   ]
  },
  {
   "cell_type": "markdown",
   "metadata": {},
   "source": [
    "### Load data provided by PJM \n",
    "From: https://www.pjm.com/-/media/library/reports-notices/special-reports/2018/2018-emissions-report.ashx?la=en "
   ]
  },
  {
   "cell_type": "code",
   "execution_count": 2,
   "metadata": {},
   "outputs": [],
   "source": [
    "calc = pd.read_csv(\"pjm-mefs.csv\")"
   ]
  },
  {
   "cell_type": "markdown",
   "metadata": {},
   "source": [
    "### Updated Regression with More Data"
   ]
  },
  {
   "cell_type": "code",
   "execution_count": 3,
   "metadata": {},
   "outputs": [],
   "source": [
    "# Label the df with the year, month, hour, and season \n",
    "def label_year_month(df):\n",
    "    df = df.copy()\n",
    "    df['year'] = df.index.year\n",
    "    df['month'] = df.index.month\n",
    "    return df"
   ]
  },
  {
   "cell_type": "code",
   "execution_count": 4,
   "metadata": {},
   "outputs": [],
   "source": [
    "# Load ISO/RTO data, focus on PJM \n",
    "isorto_data1 = pd.read_csv(\"../data/formatted_data/cems_isorto.csv\", index_col=0, parse_dates=[0])\n",
    "\n",
    "isorto_data1 = isorto_data1.loc[isorto_data1['isorto'] == 'PJM']\n",
    "isorto_data1 = label_year_month(isorto_data1)"
   ]
  },
  {
   "cell_type": "code",
   "execution_count": 5,
   "metadata": {},
   "outputs": [
    {
     "data": {
      "text/html": [
       "<div>\n",
       "<style scoped>\n",
       "    .dataframe tbody tr th:only-of-type {\n",
       "        vertical-align: middle;\n",
       "    }\n",
       "\n",
       "    .dataframe tbody tr th {\n",
       "        vertical-align: top;\n",
       "    }\n",
       "\n",
       "    .dataframe thead th {\n",
       "        text-align: right;\n",
       "    }\n",
       "</style>\n",
       "<table border=\"1\" class=\"dataframe\">\n",
       "  <thead>\n",
       "    <tr style=\"text-align: right;\">\n",
       "      <th></th>\n",
       "      <th>year</th>\n",
       "      <th>month</th>\n",
       "      <th>co2_kg</th>\n",
       "      <th>so2_kg</th>\n",
       "      <th>nox_kg</th>\n",
       "      <th>pm25_kg</th>\n",
       "      <th>gload_mwh</th>\n",
       "      <th>prev_co2_mef</th>\n",
       "      <th>mef</th>\n",
       "    </tr>\n",
       "  </thead>\n",
       "  <tbody>\n",
       "    <tr>\n",
       "      <th>97</th>\n",
       "      <td>2014</td>\n",
       "      <td>2</td>\n",
       "      <td>3.561988e+10</td>\n",
       "      <td>8.398652e+07</td>\n",
       "      <td>3.472216e+07</td>\n",
       "      <td>5.023754e+06</td>\n",
       "      <td>46326701.94</td>\n",
       "      <td>1194.0</td>\n",
       "      <td>1212.0</td>\n",
       "    </tr>\n",
       "    <tr>\n",
       "      <th>98</th>\n",
       "      <td>2014</td>\n",
       "      <td>3</td>\n",
       "      <td>3.629593e+10</td>\n",
       "      <td>8.307979e+07</td>\n",
       "      <td>3.421347e+07</td>\n",
       "      <td>5.014618e+06</td>\n",
       "      <td>47451238.04</td>\n",
       "      <td>1212.0</td>\n",
       "      <td>1187.0</td>\n",
       "    </tr>\n",
       "    <tr>\n",
       "      <th>99</th>\n",
       "      <td>2014</td>\n",
       "      <td>4</td>\n",
       "      <td>2.838108e+10</td>\n",
       "      <td>6.188533e+07</td>\n",
       "      <td>2.648181e+07</td>\n",
       "      <td>3.863330e+06</td>\n",
       "      <td>36436451.24</td>\n",
       "      <td>1187.0</td>\n",
       "      <td>1088.0</td>\n",
       "    </tr>\n",
       "    <tr>\n",
       "      <th>100</th>\n",
       "      <td>2014</td>\n",
       "      <td>5</td>\n",
       "      <td>2.771748e+10</td>\n",
       "      <td>5.290305e+07</td>\n",
       "      <td>2.433106e+07</td>\n",
       "      <td>3.680962e+06</td>\n",
       "      <td>37329309.76</td>\n",
       "      <td>1088.0</td>\n",
       "      <td>1049.0</td>\n",
       "    </tr>\n",
       "    <tr>\n",
       "      <th>101</th>\n",
       "      <td>2014</td>\n",
       "      <td>6</td>\n",
       "      <td>3.405126e+10</td>\n",
       "      <td>6.677364e+07</td>\n",
       "      <td>2.805294e+07</td>\n",
       "      <td>4.467686e+06</td>\n",
       "      <td>44531938.01</td>\n",
       "      <td>1049.0</td>\n",
       "      <td>1116.0</td>\n",
       "    </tr>\n",
       "  </tbody>\n",
       "</table>\n",
       "</div>"
      ],
      "text/plain": [
       "     year  month        co2_kg        so2_kg        nox_kg       pm25_kg  \\\n",
       "97   2014      2  3.561988e+10  8.398652e+07  3.472216e+07  5.023754e+06   \n",
       "98   2014      3  3.629593e+10  8.307979e+07  3.421347e+07  5.014618e+06   \n",
       "99   2014      4  2.838108e+10  6.188533e+07  2.648181e+07  3.863330e+06   \n",
       "100  2014      5  2.771748e+10  5.290305e+07  2.433106e+07  3.680962e+06   \n",
       "101  2014      6  3.405126e+10  6.677364e+07  2.805294e+07  4.467686e+06   \n",
       "\n",
       "       gload_mwh  prev_co2_mef     mef  \n",
       "97   46326701.94        1194.0  1212.0  \n",
       "98   47451238.04        1212.0  1187.0  \n",
       "99   36436451.24        1187.0  1088.0  \n",
       "100  37329309.76        1088.0  1049.0  \n",
       "101  44531938.01        1049.0  1116.0  "
      ]
     },
     "execution_count": 5,
     "metadata": {},
     "output_type": "execute_result"
    }
   ],
   "source": [
    "# Group by year and month\n",
    "data = isorto_data1.copy()\n",
    "data = data.groupby(['year', 'month']).sum()\n",
    "data = data.reset_index()\n",
    "\n",
    "# Get MEF from PJM then find the MEF from the last hour\n",
    "df = pd.merge(data, calc, how='left', on=['year', 'month'])\n",
    "df['prev_co2_mef'] = df.mef.shift(1)\n",
    "df = df.dropna()\n",
    "df = df.drop_duplicates(subset=['year', 'month'], keep='first')\n",
    "df = df[['year', 'month', 'co2_kg', 'so2_kg', 'nox_kg', 'pm25_kg', 'gload_mwh', 'prev_co2_mef', 'mef']]\n",
    "df['gload_mwh'] = df['gload_mwh'].abs()\n",
    "\n",
    "df.head()"
   ]
  },
  {
   "cell_type": "code",
   "execution_count": 6,
   "metadata": {},
   "outputs": [],
   "source": [
    "# sin / cosine correction for month \n",
    "df['cos_month'] = np.cos((df.month)*(2*np.pi/12))\n",
    "df['sin_month'] = np.sin((df.month)*(2*np.pi/12))"
   ]
  },
  {
   "cell_type": "markdown",
   "metadata": {},
   "source": [
    "### Visualize Data"
   ]
  },
  {
   "cell_type": "code",
   "execution_count": 10,
   "metadata": {},
   "outputs": [
    {
     "data": {
      "text/plain": [
       "<matplotlib.axes._subplots.AxesSubplot at 0x7efead451160>"
      ]
     },
     "execution_count": 10,
     "metadata": {},
     "output_type": "execute_result"
    },
    {
     "data": {
      "image/png": "[encoded data removed]",
      "text/plain": [
       "<Figure size 864x648 with 2 Axes>"
      ]
     },
     "metadata": {
      "needs_background": "light"
     },
     "output_type": "display_data"
    }
   ],
   "source": [
    "corrmat = df.corr()\n",
    "f, ax = plt.subplots(figsize=(12, 9))\n",
    "sns.heatmap(corrmat, vmax=.8, square=True)"
   ]
  },
  {
   "cell_type": "code",
   "execution_count": 28,
   "metadata": {},
   "outputs": [
    {
     "data": {
      "text/plain": [
       "<matplotlib.axes._subplots.AxesSubplot at 0x7fcceb60fc50>"
      ]
     },
     "execution_count": 28,
     "metadata": {},
     "output_type": "execute_result"
    },
    {
     "data": {
      "image/png": "[encoded data removed]",
      "text/plain": [
       "<Figure size 432x288 with 1 Axes>"
      ]
     },
     "metadata": {
      "needs_background": "light"
     },
     "output_type": "display_data"
    }
   ],
   "source": [
    "sns.distplot(df['mef'])"
   ]
  },
  {
   "cell_type": "code",
   "execution_count": 29,
   "metadata": {},
   "outputs": [
    {
     "data": {
      "text/plain": [
       "<matplotlib.axes._subplots.AxesSubplot at 0x7fcceb3da438>"
      ]
     },
     "execution_count": 29,
     "metadata": {},
     "output_type": "execute_result"
    },
    {
     "data": {
      "image/png": "[encoded data removed]",
      "text/plain": [
       "<Figure size 432x288 with 1 Axes>"
      ]
     },
     "metadata": {
      "needs_background": "light"
     },
     "output_type": "display_data"
    }
   ],
   "source": [
    "df_2012 = df.loc[df['year'] == 2014]\n",
    "df_2013 = df.loc[df['year'] == 2015]\n",
    "df_2014 = df.loc[df['year'] == 2016]\n",
    "\n",
    "sns.distplot(df_2012[['mef']], hist=False, rug=True)\n",
    "sns.distplot(df_2013[['mef']], hist=False, rug=True)\n",
    "sns.distplot(df_2014[['mef']], hist=False, rug=True)"
   ]
  },
  {
   "cell_type": "code",
   "execution_count": 21,
   "metadata": {},
   "outputs": [
    {
     "data": {
      "image/png": "[encoded data removed]",
      "text/plain": [
       "<Figure size 432x288 with 1 Axes>"
      ]
     },
     "metadata": {
      "needs_background": "light"
     },
     "output_type": "display_data"
    }
   ],
   "source": [
    "sns.lineplot(x=\"month\", y=\"mef\", hue=\"year\", data=df)\n",
    "\n",
    "plt.title(\"Month vs MEF\")\n",
    "plt.xlabel('Month')\n",
    "plt.ylabel('CO2 MEF')\n",
    "\n",
    "\n",
    "plt.show()"
   ]
  },
  {
   "cell_type": "code",
   "execution_count": 22,
   "metadata": {},
   "outputs": [
    {
     "data": {
      "image/png": "[encoded data removed]",
      "text/plain": [
       "<Figure size 432x288 with 1 Axes>"
      ]
     },
     "metadata": {
      "needs_background": "light"
     },
     "output_type": "display_data"
    }
   ],
   "source": [
    "df.plot(x='gload_mwh', y='mef', style='o')  \n",
    "plt.title('Energy Demand vs MEF')  \n",
    "plt.xlabel('Energy Demand (Mwh)')\n",
    "plt.ylabel('CO2 MEF')\n",
    "\n",
    "plt.show()"
   ]
  },
  {
   "cell_type": "code",
   "execution_count": 25,
   "metadata": {},
   "outputs": [
    {
     "data": {
      "image/png": "[encoded data removed]",
      "text/plain": [
       "<Figure size 432x288 with 1 Axes>"
      ]
     },
     "metadata": {
      "needs_background": "light"
     },
     "output_type": "display_data"
    }
   ],
   "source": [
    "df.plot(x='co2_kg', y='mef', style='o')  \n",
    "plt.title('CO2 Emissions vs MEF')  \n",
    "plt.xlabel('CO2 Emissions (kg)')\n",
    "plt.ylabel('CO2 MEF')\n",
    "\n",
    "plt.show()"
   ]
  },
  {
   "cell_type": "code",
   "execution_count": 26,
   "metadata": {},
   "outputs": [
    {
     "data": {
      "image/png": "[encoded data removed]",
      "text/plain": [
       "<Figure size 432x288 with 1 Axes>"
      ]
     },
     "metadata": {
      "needs_background": "light"
     },
     "output_type": "display_data"
    }
   ],
   "source": [
    "df.plot(x='so2_kg', y='mef', style='o')  \n",
    "plt.title('SO2 Emissions vs MEF')  \n",
    "plt.xlabel('SO2 Emissions (kg)')\n",
    "plt.ylabel('CO2 MEF')\n",
    "\n",
    "plt.show()"
   ]
  },
  {
   "cell_type": "code",
   "execution_count": 27,
   "metadata": {},
   "outputs": [
    {
     "data": {
      "image/png": "[encoded data removed]",
      "text/plain": [
       "<Figure size 432x288 with 1 Axes>"
      ]
     },
     "metadata": {
      "needs_background": "light"
     },
     "output_type": "display_data"
    }
   ],
   "source": [
    "df.plot(x='nox_kg', y='mef', style='o')  \n",
    "plt.title('NOx Emissions vs MEF')  \n",
    "plt.xlabel('NOx Emissions (kg)')\n",
    "plt.ylabel('CO2 MEF')\n",
    "m\n",
    "plt.show()"
   ]
  },
  {
   "cell_type": "code",
   "execution_count": 75,
   "metadata": {},
   "outputs": [
    {
     "data": {
      "image/png": "[encoded data removed]",
      "text/plain": [
       "<Figure size 432x288 with 1 Axes>"
      ]
     },
     "metadata": {
      "needs_background": "light"
     },
     "output_type": "display_data"
    }
   ],
   "source": [
    "df.plot(x='pm25_kg', y='mef', style='o')  \n",
    "plt.title('PM25 Emissions vs MEF')  \n",
    "plt.xlabel('PM25 Emissions (kg)')\n",
    "plt.ylabel('CO2 MEF')\n",
    "\n",
    "plt.show()"
   ]
  },
  {
   "cell_type": "code",
   "execution_count": 77,
   "metadata": {},
   "outputs": [
    {
     "data": {
      "image/png": "[encoded data removed]",
      "text/plain": [
       "<Figure size 432x288 with 1 Axes>"
      ]
     },
     "metadata": {
      "needs_background": "light"
     },
     "output_type": "display_data"
    }
   ],
   "source": [
    "df.plot(x='prev_co2_mef', y='mef', style='o')  \n",
    "plt.title('Previous Month MEF vs Current Month MEF')  \n",
    "plt.xlabel('Previous Month MEF')\n",
    "plt.ylabel('Current Month MEF')\n",
    "\n",
    "plt.show()"
   ]
  },
  {
   "cell_type": "markdown",
   "metadata": {},
   "source": [
    "### Implement Linear Regression"
   ]
  },
  {
   "cell_type": "code",
   "execution_count": 32,
   "metadata": {},
   "outputs": [
    {
     "data": {
      "text/plain": [
       "LinearRegression(copy_X=True, fit_intercept=True, n_jobs=None, normalize=True)"
      ]
     },
     "execution_count": 32,
     "metadata": {},
     "output_type": "execute_result"
    }
   ],
   "source": [
    "# Start with CO2 Calculations\n",
    "x = df[['year', 'month', 'co2_kg', 'so2_kg', 'nox_kg', 'pm25_kg', 'gload_mwh', 'prev_co2_mef']]\n",
    "y = df[['year', 'mef']]\n",
    "\n",
    "X_train = x[(x['year']==2014) | (x['year'] == 2015)]\n",
    "X_test = x.loc[x['year'] == 2016]\n",
    "\n",
    "y_train = y[(y['year']==2014) | (y['year'] == 2015)]\n",
    "y_test = y.loc[y['year'] == 2016]\n",
    "\n",
    "y_train = y_train[['mef']]\n",
    "y_test = y_test[['mef']]\n",
    "\n",
    "lr = LinearRegression(normalize=True)\n",
    "lr.fit(X_train, y_train)"
   ]
  },
  {
   "cell_type": "code",
   "execution_count": 18,
   "metadata": {},
   "outputs": [
    {
     "ename": "ValueError",
     "evalue": "Found array with 0 sample(s) (shape=(0, 9)) while a minimum of 1 is required.",
     "output_type": "error",
     "traceback": [
      "\u001b[0;31m---------------------------------------------------------------------------\u001b[0m",
      "\u001b[0;31mValueError\u001b[0m                                Traceback (most recent call last)",
      "\u001b[0;32m<ipython-input-18-5947dac09488>\u001b[0m in \u001b[0;36m<module>\u001b[0;34m\u001b[0m\n\u001b[1;32m      9\u001b[0m \u001b[0;34m\u001b[0m\u001b[0m\n\u001b[1;32m     10\u001b[0m \u001b[0mlr\u001b[0m \u001b[0;34m=\u001b[0m \u001b[0mLinearRegression\u001b[0m\u001b[0;34m(\u001b[0m\u001b[0mnormalize\u001b[0m\u001b[0;34m=\u001b[0m\u001b[0;32mTrue\u001b[0m\u001b[0;34m)\u001b[0m\u001b[0;34m\u001b[0m\u001b[0;34m\u001b[0m\u001b[0m\n\u001b[0;32m---> 11\u001b[0;31m \u001b[0mlr\u001b[0m\u001b[0;34m.\u001b[0m\u001b[0mfit\u001b[0m\u001b[0;34m(\u001b[0m\u001b[0mX_train\u001b[0m\u001b[0;34m,\u001b[0m \u001b[0my_train\u001b[0m\u001b[0;34m)\u001b[0m\u001b[0;34m\u001b[0m\u001b[0;34m\u001b[0m\u001b[0m\n\u001b[0m",
      "\u001b[0;32m~/.local/lib/python3.6/site-packages/sklearn/linear_model/_base.py\u001b[0m in \u001b[0;36mfit\u001b[0;34m(self, X, y, sample_weight)\u001b[0m\n\u001b[1;32m    490\u001b[0m         \u001b[0mn_jobs_\u001b[0m \u001b[0;34m=\u001b[0m \u001b[0mself\u001b[0m\u001b[0;34m.\u001b[0m\u001b[0mn_jobs\u001b[0m\u001b[0;34m\u001b[0m\u001b[0;34m\u001b[0m\u001b[0m\n\u001b[1;32m    491\u001b[0m         X, y = check_X_y(X, y, accept_sparse=['csr', 'csc', 'coo'],\n\u001b[0;32m--> 492\u001b[0;31m                          y_numeric=True, multi_output=True)\n\u001b[0m\u001b[1;32m    493\u001b[0m \u001b[0;34m\u001b[0m\u001b[0m\n\u001b[1;32m    494\u001b[0m         \u001b[0;32mif\u001b[0m \u001b[0msample_weight\u001b[0m \u001b[0;32mis\u001b[0m \u001b[0;32mnot\u001b[0m \u001b[0;32mNone\u001b[0m\u001b[0;34m:\u001b[0m\u001b[0;34m\u001b[0m\u001b[0;34m\u001b[0m\u001b[0m\n",
      "\u001b[0;32m~/.local/lib/python3.6/site-packages/sklearn/utils/validation.py\u001b[0m in \u001b[0;36mcheck_X_y\u001b[0;34m(X, y, accept_sparse, accept_large_sparse, dtype, order, copy, force_all_finite, ensure_2d, allow_nd, multi_output, ensure_min_samples, ensure_min_features, y_numeric, warn_on_dtype, estimator)\u001b[0m\n\u001b[1;32m    753\u001b[0m                     \u001b[0mensure_min_features\u001b[0m\u001b[0;34m=\u001b[0m\u001b[0mensure_min_features\u001b[0m\u001b[0;34m,\u001b[0m\u001b[0;34m\u001b[0m\u001b[0;34m\u001b[0m\u001b[0m\n\u001b[1;32m    754\u001b[0m                     \u001b[0mwarn_on_dtype\u001b[0m\u001b[0;34m=\u001b[0m\u001b[0mwarn_on_dtype\u001b[0m\u001b[0;34m,\u001b[0m\u001b[0;34m\u001b[0m\u001b[0;34m\u001b[0m\u001b[0m\n\u001b[0;32m--> 755\u001b[0;31m                     estimator=estimator)\n\u001b[0m\u001b[1;32m    756\u001b[0m     \u001b[0;32mif\u001b[0m \u001b[0mmulti_output\u001b[0m\u001b[0;34m:\u001b[0m\u001b[0;34m\u001b[0m\u001b[0;34m\u001b[0m\u001b[0m\n\u001b[1;32m    757\u001b[0m         y = check_array(y, 'csr', force_all_finite=True, ensure_2d=False,\n",
      "\u001b[0;32m~/.local/lib/python3.6/site-packages/sklearn/utils/validation.py\u001b[0m in \u001b[0;36mcheck_array\u001b[0;34m(array, accept_sparse, accept_large_sparse, dtype, order, copy, force_all_finite, ensure_2d, allow_nd, ensure_min_samples, ensure_min_features, warn_on_dtype, estimator)\u001b[0m\n\u001b[1;32m    584\u001b[0m                              \u001b[0;34m\" minimum of %d is required%s.\"\u001b[0m\u001b[0;34m\u001b[0m\u001b[0;34m\u001b[0m\u001b[0m\n\u001b[1;32m    585\u001b[0m                              % (n_samples, array.shape, ensure_min_samples,\n\u001b[0;32m--> 586\u001b[0;31m                                 context))\n\u001b[0m\u001b[1;32m    587\u001b[0m \u001b[0;34m\u001b[0m\u001b[0m\n\u001b[1;32m    588\u001b[0m     \u001b[0;32mif\u001b[0m \u001b[0mensure_min_features\u001b[0m \u001b[0;34m>\u001b[0m \u001b[0;36m0\u001b[0m \u001b[0;32mand\u001b[0m \u001b[0marray\u001b[0m\u001b[0;34m.\u001b[0m\u001b[0mndim\u001b[0m \u001b[0;34m==\u001b[0m \u001b[0;36m2\u001b[0m\u001b[0;34m:\u001b[0m\u001b[0;34m\u001b[0m\u001b[0;34m\u001b[0m\u001b[0m\n",
      "\u001b[0;31mValueError\u001b[0m: Found array with 0 sample(s) (shape=(0, 9)) while a minimum of 1 is required."
     ]
    }
   ],
   "source": [
    "X_train = x[(x['year']==0) | (x['year'] == 0.5)]\n",
    "X_test = x.loc[x['year'] == 1]\n",
    "\n",
    "y_train = y[(y['year']==0) | (y['year'] == 0.5)]\n",
    "y_test = y.loc[y['year'] == 1]\n",
    "\n",
    "y_train = y_train[['mef']]\n",
    "y_test = y_test[['mef']]\n",
    "\n",
    "lr = LinearRegression(normalize=True)\n",
    "lr.fit(X_train, y_train)"
   ]
  },
  {
   "cell_type": "code",
   "execution_count": 9,
   "metadata": {},
   "outputs": [
    {
     "data": {
      "text/plain": [
       "array([[ 1.46551573e-16,  0.00000000e+00, -1.44872701e-15,\n",
       "         1.70654526e-16,  5.54610377e-16,  8.71526237e-16,\n",
       "         1.00392261e-15,  1.33305396e-16,  1.00000000e+00]])"
      ]
     },
     "execution_count": 9,
     "metadata": {},
     "output_type": "execute_result"
    }
   ],
   "source": [
    "lr.coef_"
   ]
  },
  {
   "cell_type": "code",
   "execution_count": 25,
   "metadata": {},
   "outputs": [
    {
     "data": {
      "text/html": [
       "<div>\n",
       "<style scoped>\n",
       "    .dataframe tbody tr th:only-of-type {\n",
       "        vertical-align: middle;\n",
       "    }\n",
       "\n",
       "    .dataframe tbody tr th {\n",
       "        vertical-align: top;\n",
       "    }\n",
       "\n",
       "    .dataframe thead th {\n",
       "        text-align: right;\n",
       "    }\n",
       "</style>\n",
       "<table border=\"1\" class=\"dataframe\">\n",
       "  <thead>\n",
       "    <tr style=\"text-align: right;\">\n",
       "      <th></th>\n",
       "      <th>mef</th>\n",
       "    </tr>\n",
       "  </thead>\n",
       "  <tbody>\n",
       "    <tr>\n",
       "      <th>97</th>\n",
       "      <td>1212.0</td>\n",
       "    </tr>\n",
       "    <tr>\n",
       "      <th>98</th>\n",
       "      <td>1187.0</td>\n",
       "    </tr>\n",
       "    <tr>\n",
       "      <th>99</th>\n",
       "      <td>1088.0</td>\n",
       "    </tr>\n",
       "    <tr>\n",
       "      <th>100</th>\n",
       "      <td>1049.0</td>\n",
       "    </tr>\n",
       "    <tr>\n",
       "      <th>101</th>\n",
       "      <td>1116.0</td>\n",
       "    </tr>\n",
       "    <tr>\n",
       "      <th>102</th>\n",
       "      <td>1121.0</td>\n",
       "    </tr>\n",
       "    <tr>\n",
       "      <th>103</th>\n",
       "      <td>1092.0</td>\n",
       "    </tr>\n",
       "    <tr>\n",
       "      <th>104</th>\n",
       "      <td>1059.0</td>\n",
       "    </tr>\n",
       "    <tr>\n",
       "      <th>105</th>\n",
       "      <td>1017.0</td>\n",
       "    </tr>\n",
       "    <tr>\n",
       "      <th>106</th>\n",
       "      <td>1077.0</td>\n",
       "    </tr>\n",
       "    <tr>\n",
       "      <th>107</th>\n",
       "      <td>1036.0</td>\n",
       "    </tr>\n",
       "    <tr>\n",
       "      <th>108</th>\n",
       "      <td>1096.0</td>\n",
       "    </tr>\n",
       "    <tr>\n",
       "      <th>109</th>\n",
       "      <td>1184.0</td>\n",
       "    </tr>\n",
       "    <tr>\n",
       "      <th>110</th>\n",
       "      <td>1044.0</td>\n",
       "    </tr>\n",
       "    <tr>\n",
       "      <th>111</th>\n",
       "      <td>942.0</td>\n",
       "    </tr>\n",
       "    <tr>\n",
       "      <th>112</th>\n",
       "      <td>997.0</td>\n",
       "    </tr>\n",
       "    <tr>\n",
       "      <th>113</th>\n",
       "      <td>1023.0</td>\n",
       "    </tr>\n",
       "    <tr>\n",
       "      <th>114</th>\n",
       "      <td>1073.0</td>\n",
       "    </tr>\n",
       "    <tr>\n",
       "      <th>115</th>\n",
       "      <td>1057.0</td>\n",
       "    </tr>\n",
       "    <tr>\n",
       "      <th>116</th>\n",
       "      <td>1034.0</td>\n",
       "    </tr>\n",
       "    <tr>\n",
       "      <th>117</th>\n",
       "      <td>898.0</td>\n",
       "    </tr>\n",
       "    <tr>\n",
       "      <th>118</th>\n",
       "      <td>899.0</td>\n",
       "    </tr>\n",
       "    <tr>\n",
       "      <th>119</th>\n",
       "      <td>831.0</td>\n",
       "    </tr>\n",
       "  </tbody>\n",
       "</table>\n",
       "</div>"
      ],
      "text/plain": [
       "        mef\n",
       "97   1212.0\n",
       "98   1187.0\n",
       "99   1088.0\n",
       "100  1049.0\n",
       "101  1116.0\n",
       "102  1121.0\n",
       "103  1092.0\n",
       "104  1059.0\n",
       "105  1017.0\n",
       "106  1077.0\n",
       "107  1036.0\n",
       "108  1096.0\n",
       "109  1184.0\n",
       "110  1044.0\n",
       "111   942.0\n",
       "112   997.0\n",
       "113  1023.0\n",
       "114  1073.0\n",
       "115  1057.0\n",
       "116  1034.0\n",
       "117   898.0\n",
       "118   899.0\n",
       "119   831.0"
      ]
     },
     "execution_count": 25,
     "metadata": {},
     "output_type": "execute_result"
    }
   ],
   "source": [
    "y_train"
   ]
  },
  {
   "cell_type": "code",
   "execution_count": 27,
   "metadata": {},
   "outputs": [
    {
     "data": {
      "text/plain": [
       "1.0"
      ]
     },
     "execution_count": 27,
     "metadata": {},
     "output_type": "execute_result"
    }
   ],
   "source": [
    "lr.score(X_train, y_train)"
   ]
  },
  {
   "cell_type": "code",
   "execution_count": 31,
   "metadata": {},
   "outputs": [
    {
     "data": {
      "text/html": [
       "<div>\n",
       "<style scoped>\n",
       "    .dataframe tbody tr th:only-of-type {\n",
       "        vertical-align: middle;\n",
       "    }\n",
       "\n",
       "    .dataframe tbody tr th {\n",
       "        vertical-align: top;\n",
       "    }\n",
       "\n",
       "    .dataframe thead th {\n",
       "        text-align: right;\n",
       "    }\n",
       "</style>\n",
       "<table border=\"1\" class=\"dataframe\">\n",
       "  <thead>\n",
       "    <tr style=\"text-align: right;\">\n",
       "      <th></th>\n",
       "      <th>year</th>\n",
       "      <th>month</th>\n",
       "      <th>co2_kg</th>\n",
       "      <th>so2_kg</th>\n",
       "      <th>nox_kg</th>\n",
       "      <th>pm25_kg</th>\n",
       "      <th>gload_mwh</th>\n",
       "      <th>prev_co2_mef</th>\n",
       "      <th>mef</th>\n",
       "      <th>cos_month</th>\n",
       "      <th>sin_month</th>\n",
       "    </tr>\n",
       "  </thead>\n",
       "  <tbody>\n",
       "    <tr>\n",
       "      <th>97</th>\n",
       "      <td>2014</td>\n",
       "      <td>2</td>\n",
       "      <td>3.561988e+10</td>\n",
       "      <td>8.398652e+07</td>\n",
       "      <td>3.472216e+07</td>\n",
       "      <td>5.023754e+06</td>\n",
       "      <td>46326701.94</td>\n",
       "      <td>1194.0</td>\n",
       "      <td>1212.0</td>\n",
       "      <td>5.000000e-01</td>\n",
       "      <td>8.660254e-01</td>\n",
       "    </tr>\n",
       "    <tr>\n",
       "      <th>98</th>\n",
       "      <td>2014</td>\n",
       "      <td>3</td>\n",
       "      <td>3.629593e+10</td>\n",
       "      <td>8.307979e+07</td>\n",
       "      <td>3.421347e+07</td>\n",
       "      <td>5.014618e+06</td>\n",
       "      <td>47451238.04</td>\n",
       "      <td>1212.0</td>\n",
       "      <td>1187.0</td>\n",
       "      <td>6.123234e-17</td>\n",
       "      <td>1.000000e+00</td>\n",
       "    </tr>\n",
       "    <tr>\n",
       "      <th>99</th>\n",
       "      <td>2014</td>\n",
       "      <td>4</td>\n",
       "      <td>2.838108e+10</td>\n",
       "      <td>6.188533e+07</td>\n",
       "      <td>2.648181e+07</td>\n",
       "      <td>3.863330e+06</td>\n",
       "      <td>36436451.24</td>\n",
       "      <td>1187.0</td>\n",
       "      <td>1088.0</td>\n",
       "      <td>-5.000000e-01</td>\n",
       "      <td>8.660254e-01</td>\n",
       "    </tr>\n",
       "    <tr>\n",
       "      <th>100</th>\n",
       "      <td>2014</td>\n",
       "      <td>5</td>\n",
       "      <td>2.771748e+10</td>\n",
       "      <td>5.290305e+07</td>\n",
       "      <td>2.433106e+07</td>\n",
       "      <td>3.680962e+06</td>\n",
       "      <td>37329309.76</td>\n",
       "      <td>1088.0</td>\n",
       "      <td>1049.0</td>\n",
       "      <td>-8.660254e-01</td>\n",
       "      <td>5.000000e-01</td>\n",
       "    </tr>\n",
       "    <tr>\n",
       "      <th>101</th>\n",
       "      <td>2014</td>\n",
       "      <td>6</td>\n",
       "      <td>3.405126e+10</td>\n",
       "      <td>6.677364e+07</td>\n",
       "      <td>2.805294e+07</td>\n",
       "      <td>4.467686e+06</td>\n",
       "      <td>44531938.01</td>\n",
       "      <td>1049.0</td>\n",
       "      <td>1116.0</td>\n",
       "      <td>-1.000000e+00</td>\n",
       "      <td>1.224647e-16</td>\n",
       "    </tr>\n",
       "    <tr>\n",
       "      <th>102</th>\n",
       "      <td>2014</td>\n",
       "      <td>7</td>\n",
       "      <td>3.607296e+10</td>\n",
       "      <td>6.626605e+07</td>\n",
       "      <td>2.837105e+07</td>\n",
       "      <td>4.824710e+06</td>\n",
       "      <td>47441385.66</td>\n",
       "      <td>1116.0</td>\n",
       "      <td>1121.0</td>\n",
       "      <td>-8.660254e-01</td>\n",
       "      <td>-5.000000e-01</td>\n",
       "    </tr>\n",
       "    <tr>\n",
       "      <th>103</th>\n",
       "      <td>2014</td>\n",
       "      <td>8</td>\n",
       "      <td>3.460566e+10</td>\n",
       "      <td>6.386327e+07</td>\n",
       "      <td>2.803069e+07</td>\n",
       "      <td>4.580569e+06</td>\n",
       "      <td>45616538.13</td>\n",
       "      <td>1121.0</td>\n",
       "      <td>1092.0</td>\n",
       "      <td>-5.000000e-01</td>\n",
       "      <td>-8.660254e-01</td>\n",
       "    </tr>\n",
       "    <tr>\n",
       "      <th>104</th>\n",
       "      <td>2014</td>\n",
       "      <td>9</td>\n",
       "      <td>2.947112e+10</td>\n",
       "      <td>4.889465e+07</td>\n",
       "      <td>2.420502e+07</td>\n",
       "      <td>3.979012e+06</td>\n",
       "      <td>39549631.32</td>\n",
       "      <td>1092.0</td>\n",
       "      <td>1059.0</td>\n",
       "      <td>-1.836970e-16</td>\n",
       "      <td>-1.000000e+00</td>\n",
       "    </tr>\n",
       "    <tr>\n",
       "      <th>105</th>\n",
       "      <td>2014</td>\n",
       "      <td>10</td>\n",
       "      <td>2.648196e+10</td>\n",
       "      <td>5.134713e+07</td>\n",
       "      <td>2.363227e+07</td>\n",
       "      <td>3.651777e+06</td>\n",
       "      <td>35419041.87</td>\n",
       "      <td>1059.0</td>\n",
       "      <td>1017.0</td>\n",
       "      <td>5.000000e-01</td>\n",
       "      <td>-8.660254e-01</td>\n",
       "    </tr>\n",
       "    <tr>\n",
       "      <th>106</th>\n",
       "      <td>2014</td>\n",
       "      <td>11</td>\n",
       "      <td>2.935621e+10</td>\n",
       "      <td>6.463431e+07</td>\n",
       "      <td>2.735167e+07</td>\n",
       "      <td>4.040927e+06</td>\n",
       "      <td>38609729.78</td>\n",
       "      <td>1017.0</td>\n",
       "      <td>1077.0</td>\n",
       "      <td>8.660254e-01</td>\n",
       "      <td>-5.000000e-01</td>\n",
       "    </tr>\n",
       "    <tr>\n",
       "      <th>107</th>\n",
       "      <td>2014</td>\n",
       "      <td>12</td>\n",
       "      <td>3.101441e+10</td>\n",
       "      <td>6.085404e+07</td>\n",
       "      <td>2.671062e+07</td>\n",
       "      <td>4.121203e+06</td>\n",
       "      <td>41865081.78</td>\n",
       "      <td>1077.0</td>\n",
       "      <td>1036.0</td>\n",
       "      <td>1.000000e+00</td>\n",
       "      <td>-2.449294e-16</td>\n",
       "    </tr>\n",
       "    <tr>\n",
       "      <th>108</th>\n",
       "      <td>2015</td>\n",
       "      <td>1</td>\n",
       "      <td>3.582167e+10</td>\n",
       "      <td>6.804445e+07</td>\n",
       "      <td>3.089354e+07</td>\n",
       "      <td>4.791596e+06</td>\n",
       "      <td>48264898.52</td>\n",
       "      <td>1036.0</td>\n",
       "      <td>1096.0</td>\n",
       "      <td>8.660254e-01</td>\n",
       "      <td>5.000000e-01</td>\n",
       "    </tr>\n",
       "    <tr>\n",
       "      <th>109</th>\n",
       "      <td>2015</td>\n",
       "      <td>2</td>\n",
       "      <td>3.670399e+10</td>\n",
       "      <td>7.474305e+07</td>\n",
       "      <td>3.363859e+07</td>\n",
       "      <td>4.863578e+06</td>\n",
       "      <td>48784723.17</td>\n",
       "      <td>1096.0</td>\n",
       "      <td>1184.0</td>\n",
       "      <td>5.000000e-01</td>\n",
       "      <td>8.660254e-01</td>\n",
       "    </tr>\n",
       "    <tr>\n",
       "      <th>110</th>\n",
       "      <td>2015</td>\n",
       "      <td>3</td>\n",
       "      <td>3.042411e+10</td>\n",
       "      <td>5.705485e+07</td>\n",
       "      <td>2.678160e+07</td>\n",
       "      <td>4.013689e+06</td>\n",
       "      <td>42153237.26</td>\n",
       "      <td>1184.0</td>\n",
       "      <td>1044.0</td>\n",
       "      <td>6.123234e-17</td>\n",
       "      <td>1.000000e+00</td>\n",
       "    </tr>\n",
       "    <tr>\n",
       "      <th>111</th>\n",
       "      <td>2015</td>\n",
       "      <td>4</td>\n",
       "      <td>2.237751e+10</td>\n",
       "      <td>4.410298e+07</td>\n",
       "      <td>1.956574e+07</td>\n",
       "      <td>2.935458e+06</td>\n",
       "      <td>31651681.21</td>\n",
       "      <td>1044.0</td>\n",
       "      <td>942.0</td>\n",
       "      <td>-5.000000e-01</td>\n",
       "      <td>8.660254e-01</td>\n",
       "    </tr>\n",
       "    <tr>\n",
       "      <th>112</th>\n",
       "      <td>2015</td>\n",
       "      <td>5</td>\n",
       "      <td>2.681474e+10</td>\n",
       "      <td>4.396241e+07</td>\n",
       "      <td>2.092424e+07</td>\n",
       "      <td>3.443786e+06</td>\n",
       "      <td>37342899.08</td>\n",
       "      <td>942.0</td>\n",
       "      <td>997.0</td>\n",
       "      <td>-8.660254e-01</td>\n",
       "      <td>5.000000e-01</td>\n",
       "    </tr>\n",
       "    <tr>\n",
       "      <th>113</th>\n",
       "      <td>2015</td>\n",
       "      <td>6</td>\n",
       "      <td>3.046734e+10</td>\n",
       "      <td>4.139274e+07</td>\n",
       "      <td>2.330441e+07</td>\n",
       "      <td>3.983289e+06</td>\n",
       "      <td>42564135.54</td>\n",
       "      <td>997.0</td>\n",
       "      <td>1023.0</td>\n",
       "      <td>-1.000000e+00</td>\n",
       "      <td>1.224647e-16</td>\n",
       "    </tr>\n",
       "    <tr>\n",
       "      <th>114</th>\n",
       "      <td>2015</td>\n",
       "      <td>7</td>\n",
       "      <td>3.525455e+10</td>\n",
       "      <td>4.758367e+07</td>\n",
       "      <td>2.572523e+07</td>\n",
       "      <td>4.542126e+06</td>\n",
       "      <td>49295678.30</td>\n",
       "      <td>1023.0</td>\n",
       "      <td>1073.0</td>\n",
       "      <td>-8.660254e-01</td>\n",
       "      <td>-5.000000e-01</td>\n",
       "    </tr>\n",
       "    <tr>\n",
       "      <th>115</th>\n",
       "      <td>2015</td>\n",
       "      <td>8</td>\n",
       "      <td>3.440550e+10</td>\n",
       "      <td>4.584782e+07</td>\n",
       "      <td>2.501791e+07</td>\n",
       "      <td>4.435983e+06</td>\n",
       "      <td>47679570.14</td>\n",
       "      <td>1073.0</td>\n",
       "      <td>1057.0</td>\n",
       "      <td>-5.000000e-01</td>\n",
       "      <td>-8.660254e-01</td>\n",
       "    </tr>\n",
       "    <tr>\n",
       "      <th>116</th>\n",
       "      <td>2015</td>\n",
       "      <td>9</td>\n",
       "      <td>3.094580e+10</td>\n",
       "      <td>3.961960e+07</td>\n",
       "      <td>2.209379e+07</td>\n",
       "      <td>4.037352e+06</td>\n",
       "      <td>42943543.95</td>\n",
       "      <td>1057.0</td>\n",
       "      <td>1034.0</td>\n",
       "      <td>-1.836970e-16</td>\n",
       "      <td>-1.000000e+00</td>\n",
       "    </tr>\n",
       "    <tr>\n",
       "      <th>117</th>\n",
       "      <td>2015</td>\n",
       "      <td>10</td>\n",
       "      <td>2.381051e+10</td>\n",
       "      <td>2.758622e+07</td>\n",
       "      <td>1.833912e+07</td>\n",
       "      <td>3.109800e+06</td>\n",
       "      <td>33442486.24</td>\n",
       "      <td>1034.0</td>\n",
       "      <td>898.0</td>\n",
       "      <td>5.000000e-01</td>\n",
       "      <td>-8.660254e-01</td>\n",
       "    </tr>\n",
       "    <tr>\n",
       "      <th>118</th>\n",
       "      <td>2015</td>\n",
       "      <td>11</td>\n",
       "      <td>2.317477e+10</td>\n",
       "      <td>2.599586e+07</td>\n",
       "      <td>1.759768e+07</td>\n",
       "      <td>3.197895e+06</td>\n",
       "      <td>33580990.91</td>\n",
       "      <td>898.0</td>\n",
       "      <td>899.0</td>\n",
       "      <td>8.660254e-01</td>\n",
       "      <td>-5.000000e-01</td>\n",
       "    </tr>\n",
       "    <tr>\n",
       "      <th>119</th>\n",
       "      <td>2015</td>\n",
       "      <td>12</td>\n",
       "      <td>2.303043e+10</td>\n",
       "      <td>2.335585e+07</td>\n",
       "      <td>1.620578e+07</td>\n",
       "      <td>2.970398e+06</td>\n",
       "      <td>34366053.83</td>\n",
       "      <td>899.0</td>\n",
       "      <td>831.0</td>\n",
       "      <td>1.000000e+00</td>\n",
       "      <td>-2.449294e-16</td>\n",
       "    </tr>\n",
       "    <tr>\n",
       "      <th>120</th>\n",
       "      <td>2016</td>\n",
       "      <td>1</td>\n",
       "      <td>3.156051e+10</td>\n",
       "      <td>3.597398e+07</td>\n",
       "      <td>2.504610e+07</td>\n",
       "      <td>4.283609e+06</td>\n",
       "      <td>44618331.19</td>\n",
       "      <td>831.0</td>\n",
       "      <td>962.0</td>\n",
       "      <td>8.660254e-01</td>\n",
       "      <td>5.000000e-01</td>\n",
       "    </tr>\n",
       "    <tr>\n",
       "      <th>122</th>\n",
       "      <td>2016</td>\n",
       "      <td>2</td>\n",
       "      <td>2.786327e+10</td>\n",
       "      <td>2.908336e+07</td>\n",
       "      <td>2.207364e+07</td>\n",
       "      <td>3.749797e+06</td>\n",
       "      <td>40039743.62</td>\n",
       "      <td>973.0</td>\n",
       "      <td>947.0</td>\n",
       "      <td>5.000000e-01</td>\n",
       "      <td>8.660254e-01</td>\n",
       "    </tr>\n",
       "    <tr>\n",
       "      <th>124</th>\n",
       "      <td>2016</td>\n",
       "      <td>3</td>\n",
       "      <td>2.194646e+10</td>\n",
       "      <td>2.044962e+07</td>\n",
       "      <td>1.524760e+07</td>\n",
       "      <td>2.748591e+06</td>\n",
       "      <td>33615708.03</td>\n",
       "      <td>920.0</td>\n",
       "      <td>842.0</td>\n",
       "      <td>6.123234e-17</td>\n",
       "      <td>1.000000e+00</td>\n",
       "    </tr>\n",
       "    <tr>\n",
       "      <th>126</th>\n",
       "      <td>2016</td>\n",
       "      <td>4</td>\n",
       "      <td>2.327997e+10</td>\n",
       "      <td>1.839345e+07</td>\n",
       "      <td>1.684568e+07</td>\n",
       "      <td>3.043175e+06</td>\n",
       "      <td>32845636.65</td>\n",
       "      <td>952.0</td>\n",
       "      <td>937.0</td>\n",
       "      <td>-5.000000e-01</td>\n",
       "      <td>8.660254e-01</td>\n",
       "    </tr>\n",
       "    <tr>\n",
       "      <th>128</th>\n",
       "      <td>2016</td>\n",
       "      <td>5</td>\n",
       "      <td>2.237597e+10</td>\n",
       "      <td>1.629321e+07</td>\n",
       "      <td>1.409724e+07</td>\n",
       "      <td>2.846930e+06</td>\n",
       "      <td>32975539.96</td>\n",
       "      <td>873.0</td>\n",
       "      <td>873.0</td>\n",
       "      <td>-8.660254e-01</td>\n",
       "      <td>5.000000e-01</td>\n",
       "    </tr>\n",
       "    <tr>\n",
       "      <th>130</th>\n",
       "      <td>2016</td>\n",
       "      <td>6</td>\n",
       "      <td>3.068407e+10</td>\n",
       "      <td>2.402805e+07</td>\n",
       "      <td>1.911323e+07</td>\n",
       "      <td>3.955849e+06</td>\n",
       "      <td>44305864.70</td>\n",
       "      <td>926.0</td>\n",
       "      <td>1047.0</td>\n",
       "      <td>-1.000000e+00</td>\n",
       "      <td>1.224647e-16</td>\n",
       "    </tr>\n",
       "    <tr>\n",
       "      <th>132</th>\n",
       "      <td>2016</td>\n",
       "      <td>7</td>\n",
       "      <td>3.804991e+10</td>\n",
       "      <td>2.953231e+07</td>\n",
       "      <td>2.460214e+07</td>\n",
       "      <td>4.836293e+06</td>\n",
       "      <td>54555103.46</td>\n",
       "      <td>961.0</td>\n",
       "      <td>1123.0</td>\n",
       "      <td>-8.660254e-01</td>\n",
       "      <td>-5.000000e-01</td>\n",
       "    </tr>\n",
       "    <tr>\n",
       "      <th>134</th>\n",
       "      <td>2016</td>\n",
       "      <td>8</td>\n",
       "      <td>3.906261e+10</td>\n",
       "      <td>3.062309e+07</td>\n",
       "      <td>2.422192e+07</td>\n",
       "      <td>4.880942e+06</td>\n",
       "      <td>56146729.32</td>\n",
       "      <td>1032.0</td>\n",
       "      <td>1109.0</td>\n",
       "      <td>-5.000000e-01</td>\n",
       "      <td>-8.660254e-01</td>\n",
       "    </tr>\n",
       "    <tr>\n",
       "      <th>136</th>\n",
       "      <td>2016</td>\n",
       "      <td>9</td>\n",
       "      <td>2.979899e+10</td>\n",
       "      <td>2.272822e+07</td>\n",
       "      <td>1.700487e+07</td>\n",
       "      <td>3.788004e+06</td>\n",
       "      <td>43423107.00</td>\n",
       "      <td>990.0</td>\n",
       "      <td>1047.0</td>\n",
       "      <td>-1.836970e-16</td>\n",
       "      <td>-1.000000e+00</td>\n",
       "    </tr>\n",
       "    <tr>\n",
       "      <th>138</th>\n",
       "      <td>2016</td>\n",
       "      <td>10</td>\n",
       "      <td>2.452194e+10</td>\n",
       "      <td>1.765569e+07</td>\n",
       "      <td>1.488089e+07</td>\n",
       "      <td>3.176715e+06</td>\n",
       "      <td>36143356.95</td>\n",
       "      <td>945.0</td>\n",
       "      <td>973.0</td>\n",
       "      <td>5.000000e-01</td>\n",
       "      <td>-8.660254e-01</td>\n",
       "    </tr>\n",
       "    <tr>\n",
       "      <th>140</th>\n",
       "      <td>2016</td>\n",
       "      <td>11</td>\n",
       "      <td>2.211343e+10</td>\n",
       "      <td>1.514883e+07</td>\n",
       "      <td>1.408137e+07</td>\n",
       "      <td>2.867905e+06</td>\n",
       "      <td>33451569.49</td>\n",
       "      <td>919.0</td>\n",
       "      <td>895.0</td>\n",
       "      <td>8.660254e-01</td>\n",
       "      <td>-5.000000e-01</td>\n",
       "    </tr>\n",
       "    <tr>\n",
       "      <th>142</th>\n",
       "      <td>2016</td>\n",
       "      <td>12</td>\n",
       "      <td>2.993225e+10</td>\n",
       "      <td>2.472064e+07</td>\n",
       "      <td>2.170350e+07</td>\n",
       "      <td>3.873596e+06</td>\n",
       "      <td>42651133.59</td>\n",
       "      <td>880.0</td>\n",
       "      <td>1031.0</td>\n",
       "      <td>1.000000e+00</td>\n",
       "      <td>-2.449294e-16</td>\n",
       "    </tr>\n",
       "  </tbody>\n",
       "</table>\n",
       "</div>"
      ],
      "text/plain": [
       "     year  month        co2_kg        so2_kg        nox_kg       pm25_kg  \\\n",
       "97   2014      2  3.561988e+10  8.398652e+07  3.472216e+07  5.023754e+06   \n",
       "98   2014      3  3.629593e+10  8.307979e+07  3.421347e+07  5.014618e+06   \n",
       "99   2014      4  2.838108e+10  6.188533e+07  2.648181e+07  3.863330e+06   \n",
       "100  2014      5  2.771748e+10  5.290305e+07  2.433106e+07  3.680962e+06   \n",
       "101  2014      6  3.405126e+10  6.677364e+07  2.805294e+07  4.467686e+06   \n",
       "102  2014      7  3.607296e+10  6.626605e+07  2.837105e+07  4.824710e+06   \n",
       "103  2014      8  3.460566e+10  6.386327e+07  2.803069e+07  4.580569e+06   \n",
       "104  2014      9  2.947112e+10  4.889465e+07  2.420502e+07  3.979012e+06   \n",
       "105  2014     10  2.648196e+10  5.134713e+07  2.363227e+07  3.651777e+06   \n",
       "106  2014     11  2.935621e+10  6.463431e+07  2.735167e+07  4.040927e+06   \n",
       "107  2014     12  3.101441e+10  6.085404e+07  2.671062e+07  4.121203e+06   \n",
       "108  2015      1  3.582167e+10  6.804445e+07  3.089354e+07  4.791596e+06   \n",
       "109  2015      2  3.670399e+10  7.474305e+07  3.363859e+07  4.863578e+06   \n",
       "110  2015      3  3.042411e+10  5.705485e+07  2.678160e+07  4.013689e+06   \n",
       "111  2015      4  2.237751e+10  4.410298e+07  1.956574e+07  2.935458e+06   \n",
       "112  2015      5  2.681474e+10  4.396241e+07  2.092424e+07  3.443786e+06   \n",
       "113  2015      6  3.046734e+10  4.139274e+07  2.330441e+07  3.983289e+06   \n",
       "114  2015      7  3.525455e+10  4.758367e+07  2.572523e+07  4.542126e+06   \n",
       "115  2015      8  3.440550e+10  4.584782e+07  2.501791e+07  4.435983e+06   \n",
       "116  2015      9  3.094580e+10  3.961960e+07  2.209379e+07  4.037352e+06   \n",
       "117  2015     10  2.381051e+10  2.758622e+07  1.833912e+07  3.109800e+06   \n",
       "118  2015     11  2.317477e+10  2.599586e+07  1.759768e+07  3.197895e+06   \n",
       "119  2015     12  2.303043e+10  2.335585e+07  1.620578e+07  2.970398e+06   \n",
       "120  2016      1  3.156051e+10  3.597398e+07  2.504610e+07  4.283609e+06   \n",
       "122  2016      2  2.786327e+10  2.908336e+07  2.207364e+07  3.749797e+06   \n",
       "124  2016      3  2.194646e+10  2.044962e+07  1.524760e+07  2.748591e+06   \n",
       "126  2016      4  2.327997e+10  1.839345e+07  1.684568e+07  3.043175e+06   \n",
       "128  2016      5  2.237597e+10  1.629321e+07  1.409724e+07  2.846930e+06   \n",
       "130  2016      6  3.068407e+10  2.402805e+07  1.911323e+07  3.955849e+06   \n",
       "132  2016      7  3.804991e+10  2.953231e+07  2.460214e+07  4.836293e+06   \n",
       "134  2016      8  3.906261e+10  3.062309e+07  2.422192e+07  4.880942e+06   \n",
       "136  2016      9  2.979899e+10  2.272822e+07  1.700487e+07  3.788004e+06   \n",
       "138  2016     10  2.452194e+10  1.765569e+07  1.488089e+07  3.176715e+06   \n",
       "140  2016     11  2.211343e+10  1.514883e+07  1.408137e+07  2.867905e+06   \n",
       "142  2016     12  2.993225e+10  2.472064e+07  2.170350e+07  3.873596e+06   \n",
       "\n",
       "       gload_mwh  prev_co2_mef     mef     cos_month     sin_month  \n",
       "97   46326701.94        1194.0  1212.0  5.000000e-01  8.660254e-01  \n",
       "98   47451238.04        1212.0  1187.0  6.123234e-17  1.000000e+00  \n",
       "99   36436451.24        1187.0  1088.0 -5.000000e-01  8.660254e-01  \n",
       "100  37329309.76        1088.0  1049.0 -8.660254e-01  5.000000e-01  \n",
       "101  44531938.01        1049.0  1116.0 -1.000000e+00  1.224647e-16  \n",
       "102  47441385.66        1116.0  1121.0 -8.660254e-01 -5.000000e-01  \n",
       "103  45616538.13        1121.0  1092.0 -5.000000e-01 -8.660254e-01  \n",
       "104  39549631.32        1092.0  1059.0 -1.836970e-16 -1.000000e+00  \n",
       "105  35419041.87        1059.0  1017.0  5.000000e-01 -8.660254e-01  \n",
       "106  38609729.78        1017.0  1077.0  8.660254e-01 -5.000000e-01  \n",
       "107  41865081.78        1077.0  1036.0  1.000000e+00 -2.449294e-16  \n",
       "108  48264898.52        1036.0  1096.0  8.660254e-01  5.000000e-01  \n",
       "109  48784723.17        1096.0  1184.0  5.000000e-01  8.660254e-01  \n",
       "110  42153237.26        1184.0  1044.0  6.123234e-17  1.000000e+00  \n",
       "111  31651681.21        1044.0   942.0 -5.000000e-01  8.660254e-01  \n",
       "112  37342899.08         942.0   997.0 -8.660254e-01  5.000000e-01  \n",
       "113  42564135.54         997.0  1023.0 -1.000000e+00  1.224647e-16  \n",
       "114  49295678.30        1023.0  1073.0 -8.660254e-01 -5.000000e-01  \n",
       "115  47679570.14        1073.0  1057.0 -5.000000e-01 -8.660254e-01  \n",
       "116  42943543.95        1057.0  1034.0 -1.836970e-16 -1.000000e+00  \n",
       "117  33442486.24        1034.0   898.0  5.000000e-01 -8.660254e-01  \n",
       "118  33580990.91         898.0   899.0  8.660254e-01 -5.000000e-01  \n",
       "119  34366053.83         899.0   831.0  1.000000e+00 -2.449294e-16  \n",
       "120  44618331.19         831.0   962.0  8.660254e-01  5.000000e-01  \n",
       "122  40039743.62         973.0   947.0  5.000000e-01  8.660254e-01  \n",
       "124  33615708.03         920.0   842.0  6.123234e-17  1.000000e+00  \n",
       "126  32845636.65         952.0   937.0 -5.000000e-01  8.660254e-01  \n",
       "128  32975539.96         873.0   873.0 -8.660254e-01  5.000000e-01  \n",
       "130  44305864.70         926.0  1047.0 -1.000000e+00  1.224647e-16  \n",
       "132  54555103.46         961.0  1123.0 -8.660254e-01 -5.000000e-01  \n",
       "134  56146729.32        1032.0  1109.0 -5.000000e-01 -8.660254e-01  \n",
       "136  43423107.00         990.0  1047.0 -1.836970e-16 -1.000000e+00  \n",
       "138  36143356.95         945.0   973.0  5.000000e-01 -8.660254e-01  \n",
       "140  33451569.49         919.0   895.0  8.660254e-01 -5.000000e-01  \n",
       "142  42651133.59         880.0  1031.0  1.000000e+00 -2.449294e-16  "
      ]
     },
     "execution_count": 31,
     "metadata": {},
     "output_type": "execute_result"
    }
   ],
   "source": []
  },
  {
   "cell_type": "code",
   "execution_count": 33,
   "metadata": {},
   "outputs": [
    {
     "data": {
      "text/html": [
       "<div>\n",
       "<style scoped>\n",
       "    .dataframe tbody tr th:only-of-type {\n",
       "        vertical-align: middle;\n",
       "    }\n",
       "\n",
       "    .dataframe tbody tr th {\n",
       "        vertical-align: top;\n",
       "    }\n",
       "\n",
       "    .dataframe thead th {\n",
       "        text-align: right;\n",
       "    }\n",
       "</style>\n",
       "<table border=\"1\" class=\"dataframe\">\n",
       "  <thead>\n",
       "    <tr style=\"text-align: right;\">\n",
       "      <th></th>\n",
       "      <th>mef</th>\n",
       "    </tr>\n",
       "  </thead>\n",
       "  <tbody>\n",
       "    <tr>\n",
       "      <th>120</th>\n",
       "      <td>962.0</td>\n",
       "    </tr>\n",
       "    <tr>\n",
       "      <th>122</th>\n",
       "      <td>947.0</td>\n",
       "    </tr>\n",
       "    <tr>\n",
       "      <th>124</th>\n",
       "      <td>842.0</td>\n",
       "    </tr>\n",
       "    <tr>\n",
       "      <th>126</th>\n",
       "      <td>937.0</td>\n",
       "    </tr>\n",
       "    <tr>\n",
       "      <th>128</th>\n",
       "      <td>873.0</td>\n",
       "    </tr>\n",
       "    <tr>\n",
       "      <th>130</th>\n",
       "      <td>1047.0</td>\n",
       "    </tr>\n",
       "    <tr>\n",
       "      <th>132</th>\n",
       "      <td>1123.0</td>\n",
       "    </tr>\n",
       "    <tr>\n",
       "      <th>134</th>\n",
       "      <td>1109.0</td>\n",
       "    </tr>\n",
       "    <tr>\n",
       "      <th>136</th>\n",
       "      <td>1047.0</td>\n",
       "    </tr>\n",
       "    <tr>\n",
       "      <th>138</th>\n",
       "      <td>973.0</td>\n",
       "    </tr>\n",
       "    <tr>\n",
       "      <th>140</th>\n",
       "      <td>895.0</td>\n",
       "    </tr>\n",
       "    <tr>\n",
       "      <th>142</th>\n",
       "      <td>1031.0</td>\n",
       "    </tr>\n",
       "  </tbody>\n",
       "</table>\n",
       "</div>"
      ],
      "text/plain": [
       "        mef\n",
       "120   962.0\n",
       "122   947.0\n",
       "124   842.0\n",
       "126   937.0\n",
       "128   873.0\n",
       "130  1047.0\n",
       "132  1123.0\n",
       "134  1109.0\n",
       "136  1047.0\n",
       "138   973.0\n",
       "140   895.0\n",
       "142  1031.0"
      ]
     },
     "execution_count": 33,
     "metadata": {},
     "output_type": "execute_result"
    }
   ],
   "source": [
    "y_test"
   ]
  },
  {
   "cell_type": "code",
   "execution_count": 35,
   "metadata": {},
   "outputs": [
    {
     "name": "stdout",
     "output_type": "stream",
     "text": [
      "Test error: 0.06186119339107801\n"
     ]
    }
   ],
   "source": [
    "# Make predictions using the testing set\n",
    "results = pd.DataFrame(index = X_test.index)\n",
    "results['mef_predicted'] = lr.predict(X_test)\n",
    "results['mef_actual'] = y_test['mef']\n",
    "results.index = range(12)\n",
    "\n",
    "# Calculate error: sum of (y - y(hat)) / y(hat)^2 \n",
    "temp = pd.DataFrame()\n",
    "temp['diff'] = abs(results['mef_actual'] - results['mef_predicted'])\n",
    "temp['error'] = temp['diff'] / (results['mef_actual'])\n",
    "print(\"Test error: \" + str(temp['error'].mean()))"
   ]
  },
  {
   "cell_type": "code",
   "execution_count": 34,
   "metadata": {},
   "outputs": [
    {
     "data": {
      "text/plain": [
       "array([[1039.54342381],\n",
       "       [ 985.49901762],\n",
       "       [ 859.37401101],\n",
       "       [ 928.49983508],\n",
       "       [ 871.5001401 ],\n",
       "       [ 959.81874705],\n",
       "       [1040.19771331],\n",
       "       [1035.21823845],\n",
       "       [ 920.749083  ],\n",
       "       [ 869.36409079],\n",
       "       [ 832.94015822],\n",
       "       [ 959.15617108]])"
      ]
     },
     "execution_count": 34,
     "metadata": {},
     "output_type": "execute_result"
    }
   ],
   "source": [
    "lr.predict(X_test)"
   ]
  },
  {
   "cell_type": "code",
   "execution_count": 21,
   "metadata": {},
   "outputs": [
    {
     "data": {
      "text/html": [
       "<div>\n",
       "<style scoped>\n",
       "    .dataframe tbody tr th:only-of-type {\n",
       "        vertical-align: middle;\n",
       "    }\n",
       "\n",
       "    .dataframe tbody tr th {\n",
       "        vertical-align: top;\n",
       "    }\n",
       "\n",
       "    .dataframe thead th {\n",
       "        text-align: right;\n",
       "    }\n",
       "</style>\n",
       "<table border=\"1\" class=\"dataframe\">\n",
       "  <thead>\n",
       "    <tr style=\"text-align: right;\">\n",
       "      <th></th>\n",
       "      <th>mef_predicted</th>\n",
       "      <th>mef_actual</th>\n",
       "    </tr>\n",
       "  </thead>\n",
       "  <tbody>\n",
       "    <tr>\n",
       "      <th>0</th>\n",
       "      <td>962.0</td>\n",
       "      <td>962.0</td>\n",
       "    </tr>\n",
       "    <tr>\n",
       "      <th>1</th>\n",
       "      <td>947.0</td>\n",
       "      <td>947.0</td>\n",
       "    </tr>\n",
       "    <tr>\n",
       "      <th>2</th>\n",
       "      <td>842.0</td>\n",
       "      <td>842.0</td>\n",
       "    </tr>\n",
       "    <tr>\n",
       "      <th>3</th>\n",
       "      <td>937.0</td>\n",
       "      <td>937.0</td>\n",
       "    </tr>\n",
       "    <tr>\n",
       "      <th>4</th>\n",
       "      <td>873.0</td>\n",
       "      <td>873.0</td>\n",
       "    </tr>\n",
       "    <tr>\n",
       "      <th>5</th>\n",
       "      <td>1047.0</td>\n",
       "      <td>1047.0</td>\n",
       "    </tr>\n",
       "    <tr>\n",
       "      <th>6</th>\n",
       "      <td>1123.0</td>\n",
       "      <td>1123.0</td>\n",
       "    </tr>\n",
       "    <tr>\n",
       "      <th>7</th>\n",
       "      <td>1109.0</td>\n",
       "      <td>1109.0</td>\n",
       "    </tr>\n",
       "    <tr>\n",
       "      <th>8</th>\n",
       "      <td>1047.0</td>\n",
       "      <td>1047.0</td>\n",
       "    </tr>\n",
       "    <tr>\n",
       "      <th>9</th>\n",
       "      <td>973.0</td>\n",
       "      <td>973.0</td>\n",
       "    </tr>\n",
       "    <tr>\n",
       "      <th>10</th>\n",
       "      <td>895.0</td>\n",
       "      <td>895.0</td>\n",
       "    </tr>\n",
       "    <tr>\n",
       "      <th>11</th>\n",
       "      <td>1031.0</td>\n",
       "      <td>1031.0</td>\n",
       "    </tr>\n",
       "  </tbody>\n",
       "</table>\n",
       "</div>"
      ],
      "text/plain": [
       "    mef_predicted  mef_actual\n",
       "0           962.0       962.0\n",
       "1           947.0       947.0\n",
       "2           842.0       842.0\n",
       "3           937.0       937.0\n",
       "4           873.0       873.0\n",
       "5          1047.0      1047.0\n",
       "6          1123.0      1123.0\n",
       "7          1109.0      1109.0\n",
       "8          1047.0      1047.0\n",
       "9           973.0       973.0\n",
       "10          895.0       895.0\n",
       "11         1031.0      1031.0"
      ]
     },
     "execution_count": 21,
     "metadata": {},
     "output_type": "execute_result"
    }
   ],
   "source": [
    "results"
   ]
  },
  {
   "cell_type": "code",
   "execution_count": 36,
   "metadata": {},
   "outputs": [
    {
     "name": "stdout",
     "output_type": "stream",
     "text": [
      "Training error: 0.014514647303015483\n"
     ]
    }
   ],
   "source": [
    "# Training error \n",
    "train = pd.DataFrame(index = X_train.index)\n",
    "train['mef_predicted'] = lr.predict(X_train)\n",
    "train['mef_actual'] = y_train['mef']\n",
    "train['diff'] = abs(train['mef_actual'] - train['mef_predicted'])\n",
    "train['error'] = train['diff'] / (train['mef_actual'])\n",
    "print(\"Training error: \" + str(train['error'].mean()))"
   ]
  },
  {
   "cell_type": "markdown",
   "metadata": {},
   "source": [
    "### Univariate Regression\n",
    "Results of this paper: https://pubs.acs.org/doi/10.1021/acs.est.8b06586"
   ]
  },
  {
   "cell_type": "code",
   "execution_count": 19,
   "metadata": {},
   "outputs": [
    {
     "data": {
      "text/plain": [
       "LinearRegression(copy_X=True, fit_intercept=True, n_jobs=None, normalize=True)"
      ]
     },
     "execution_count": 19,
     "metadata": {},
     "output_type": "execute_result"
    }
   ],
   "source": [
    "# Start with CO2 Calculations\n",
    "x_uni = df[['year', 'co2_kg','sin_month', 'so2_kg', 'pm25_kg', 'gload_mwh']]\n",
    "y_uni = df[['year', 'mef']]\n",
    "\n",
    "X_uni_train = x_uni[(x_uni['year']==2014) | (x_uni['year'] == 2015)]\n",
    "X_uni_test = x_uni.loc[x_uni['year'] == 2016]\n",
    "\n",
    "y_uni_train = y_uni[(y_uni['year']==2014) | (y_uni['year'] == 2015)]\n",
    "y_uni_test = y_uni.loc[y_uni['year'] == 2016]\n",
    "\n",
    "y_uni_train = y_uni_train[['mef']]\n",
    "y_uni_test = y_uni_test[['mef']]\n",
    "X_uni_train = X_uni_train[['year','sin_month', 'so2_kg']]\n",
    "X_uni_test = X_uni_test[['year','sin_month', 'so2_kg']]\n",
    "\n",
    "lr = LinearRegression(normalize=True)\n",
    "lr.fit(X_uni_train, y_uni_train)"
   ]
  },
  {
   "cell_type": "code",
   "execution_count": 20,
   "metadata": {},
   "outputs": [
    {
     "name": "stdout",
     "output_type": "stream",
     "text": [
      "Test error: 0.07827155089459241\n"
     ]
    }
   ],
   "source": [
    "# Make predictions using the testing set\n",
    "results['mef_univariate'] = lr.predict(X_uni_test)\n",
    "results.index = range(12)\n",
    "\n",
    "# Calculate error: sum of (y - y(hat)) / y(hat)^2 \n",
    "temp = pd.DataFrame()\n",
    "temp['diff'] = abs(results['mef_actual'] - results['mef_univariate'])\n",
    "temp['error'] = temp['diff'] / (results['mef_actual'])\n",
    "print(\"Test error: \" + str(temp['error'].mean()))"
   ]
  },
  {
   "cell_type": "code",
   "execution_count": 21,
   "metadata": {},
   "outputs": [
    {
     "name": "stdout",
     "output_type": "stream",
     "text": [
      "Training error: 0.02320202901966953\n"
     ]
    }
   ],
   "source": [
    "# Training error \n",
    "train = pd.DataFrame(index = X_uni_train.index)\n",
    "train['mef_predicted'] = lr.predict(X_uni_train)\n",
    "train['mef_actual'] = y_train['mef']\n",
    "train['diff'] = abs(train['mef_actual'] - train['mef_predicted'])\n",
    "train['error'] = train['diff'] / (train['mef_actual'])\n",
    "print(\"Training error: \" + str(train['error'].mean()))"
   ]
  },
  {
   "cell_type": "markdown",
   "metadata": {},
   "source": [
    "### Lasso"
   ]
  },
  {
   "cell_type": "code",
   "execution_count": 79,
   "metadata": {},
   "outputs": [],
   "source": [
    "x = df[['year', 'month', 'co2_kg', 'so2_kg', 'nox_kg', 'pm25_kg', 'gload_mwh', 'prev_co2_mef']]\n",
    "y = df[['year', 'mef']]\n",
    "\n"
   ]
  },
  {
   "cell_type": "code",
   "execution_count": 78,
   "metadata": {},
   "outputs": [
    {
     "data": {
      "text/html": [
       "<div>\n",
       "<style scoped>\n",
       "    .dataframe tbody tr th:only-of-type {\n",
       "        vertical-align: middle;\n",
       "    }\n",
       "\n",
       "    .dataframe tbody tr th {\n",
       "        vertical-align: top;\n",
       "    }\n",
       "\n",
       "    .dataframe thead th {\n",
       "        text-align: right;\n",
       "    }\n",
       "</style>\n",
       "<table border=\"1\" class=\"dataframe\">\n",
       "  <thead>\n",
       "    <tr style=\"text-align: right;\">\n",
       "      <th></th>\n",
       "      <th>year</th>\n",
       "      <th>month</th>\n",
       "      <th>co2_kg</th>\n",
       "      <th>so2_kg</th>\n",
       "      <th>nox_kg</th>\n",
       "      <th>pm25_kg</th>\n",
       "      <th>gload_mwh</th>\n",
       "      <th>prev_co2_mef</th>\n",
       "    </tr>\n",
       "  </thead>\n",
       "  <tbody>\n",
       "  </tbody>\n",
       "</table>\n",
       "</div>"
      ],
      "text/plain": [
       "Empty DataFrame\n",
       "Columns: [year, month, co2_kg, so2_kg, nox_kg, pm25_kg, gload_mwh, prev_co2_mef]\n",
       "Index: []"
      ]
     },
     "execution_count": 78,
     "metadata": {},
     "output_type": "execute_result"
    }
   ],
   "source": [
    "X_train"
   ]
  },
  {
   "cell_type": "code",
   "execution_count": 80,
   "metadata": {},
   "outputs": [],
   "source": [
    "X_train = x[(x['year']==2014) | (x['year'] == 2015)]\n",
    "X_test = x.loc[x['year'] == 2016]\n",
    "\n",
    "y_train = y[(y['year']==2014) | (y['year'] == 2015)]\n",
    "y_test = y.loc[y['year'] == 2016]\n",
    "\n",
    "y_train = y_train[['mef']]\n",
    "y_test = y_test[['mef']]\n",
    "\n",
    "X_train = (X_train-X_train.min())/(X_train.max()-X_train.min())\n",
    "y_train = (y_train-y_train.min())/(y_train.max()-y_train.min())"
   ]
  },
  {
   "cell_type": "code",
   "execution_count": 100,
   "metadata": {},
   "outputs": [
    {
     "name": "stdout",
     "output_type": "stream",
     "text": [
      "test 4.038215837979669e+20\n",
      "train 0.002371191353182269\n"
     ]
    }
   ],
   "source": [
    "from sklearn.metrics import mean_squared_error\n",
    "\n",
    "# final one\n",
    "reg = Lasso(alpha=0.0001, max_iter=10e5)\n",
    "reg.fit(X_train,y_train)\n",
    "\n",
    "#test = pd.DataFrame(index = X_train.index)\n",
    "#test['mef_predicted'] = lr.predict(X_test)\n",
    "\n",
    "print(\"test \" + str(mean_squared_error(y_test,reg.predict(X_test))))\n",
    "print(\"train \" + str(mean_squared_error(y_train,reg.predict(X_train))))"
   ]
  },
  {
   "cell_type": "code",
   "execution_count": 42,
   "metadata": {},
   "outputs": [
    {
     "name": "stdout",
     "output_type": "stream",
     "text": [
      "test 4731.377244072949\n",
      "train 337.16117062391413\n"
     ]
    }
   ],
   "source": []
  },
  {
   "cell_type": "code",
   "execution_count": 19,
   "metadata": {},
   "outputs": [
    {
     "data": {
      "text/plain": [
       "array([-0.,  0., -0.,  0.,  0.,  0.])"
      ]
     },
     "execution_count": 19,
     "metadata": {},
     "output_type": "execute_result"
    }
   ],
   "source": [
    "reg.coef_"
   ]
  },
  {
   "cell_type": "code",
   "execution_count": 31,
   "metadata": {},
   "outputs": [
    {
     "data": {
      "text/plain": [
       "array([1007.34392808,  970.90529439,  857.71876849,  952.23737699,\n",
       "        891.70647941,  978.30089935, 1046.21693949, 1049.14474184,\n",
       "        944.87224932,  887.15357503,  845.44833176,  977.80146619])"
      ]
     },
     "execution_count": 31,
     "metadata": {},
     "output_type": "execute_result"
    }
   ],
   "source": [
    "reg.predict(X_test)"
   ]
  },
  {
   "cell_type": "code",
   "execution_count": 53,
   "metadata": {},
   "outputs": [],
   "source": [
    "# Make predictions using the testing set\n",
    "results['mef_lasso'] = reg.predict(X_test)\n",
    "#results.index = range(12)"
   ]
  },
  {
   "cell_type": "code",
   "execution_count": 54,
   "metadata": {},
   "outputs": [
    {
     "data": {
      "text/html": [
       "<div>\n",
       "<style scoped>\n",
       "    .dataframe tbody tr th:only-of-type {\n",
       "        vertical-align: middle;\n",
       "    }\n",
       "\n",
       "    .dataframe tbody tr th {\n",
       "        vertical-align: top;\n",
       "    }\n",
       "\n",
       "    .dataframe thead th {\n",
       "        text-align: right;\n",
       "    }\n",
       "</style>\n",
       "<table border=\"1\" class=\"dataframe\">\n",
       "  <thead>\n",
       "    <tr style=\"text-align: right;\">\n",
       "      <th></th>\n",
       "      <th>mef_predicted</th>\n",
       "      <th>mef_actual</th>\n",
       "      <th>mef_univariate</th>\n",
       "      <th>mef_lasso</th>\n",
       "    </tr>\n",
       "  </thead>\n",
       "  <tbody>\n",
       "    <tr>\n",
       "      <th>0</th>\n",
       "      <td>1007.444051</td>\n",
       "      <td>962.0</td>\n",
       "      <td>968.594385</td>\n",
       "      <td>1004.696100</td>\n",
       "    </tr>\n",
       "    <tr>\n",
       "      <th>1</th>\n",
       "      <td>971.003911</td>\n",
       "      <td>947.0</td>\n",
       "      <td>913.929397</td>\n",
       "      <td>948.057533</td>\n",
       "    </tr>\n",
       "    <tr>\n",
       "      <th>2</th>\n",
       "      <td>857.782497</td>\n",
       "      <td>842.0</td>\n",
       "      <td>854.918396</td>\n",
       "      <td>829.206970</td>\n",
       "    </tr>\n",
       "    <tr>\n",
       "      <th>3</th>\n",
       "      <td>952.437035</td>\n",
       "      <td>937.0</td>\n",
       "      <td>845.709879</td>\n",
       "      <td>925.264163</td>\n",
       "    </tr>\n",
       "    <tr>\n",
       "      <th>4</th>\n",
       "      <td>891.854263</td>\n",
       "      <td>873.0</td>\n",
       "      <td>842.998082</td>\n",
       "      <td>872.393808</td>\n",
       "    </tr>\n",
       "    <tr>\n",
       "      <th>5</th>\n",
       "      <td>978.398563</td>\n",
       "      <td>1047.0</td>\n",
       "      <td>906.963847</td>\n",
       "      <td>967.130045</td>\n",
       "    </tr>\n",
       "    <tr>\n",
       "      <th>6</th>\n",
       "      <td>1046.254558</td>\n",
       "      <td>1123.0</td>\n",
       "      <td>956.694784</td>\n",
       "      <td>1044.752581</td>\n",
       "    </tr>\n",
       "    <tr>\n",
       "      <th>7</th>\n",
       "      <td>1049.153361</td>\n",
       "      <td>1109.0</td>\n",
       "      <td>974.347057</td>\n",
       "      <td>1049.724600</td>\n",
       "    </tr>\n",
       "    <tr>\n",
       "      <th>8</th>\n",
       "      <td>944.933357</td>\n",
       "      <td>1047.0</td>\n",
       "      <td>927.877813</td>\n",
       "      <td>946.909111</td>\n",
       "    </tr>\n",
       "    <tr>\n",
       "      <th>9</th>\n",
       "      <td>887.242219</td>\n",
       "      <td>973.0</td>\n",
       "      <td>891.593290</td>\n",
       "      <td>889.330129</td>\n",
       "    </tr>\n",
       "    <tr>\n",
       "      <th>10</th>\n",
       "      <td>845.513582</td>\n",
       "      <td>895.0</td>\n",
       "      <td>864.904086</td>\n",
       "      <td>843.349857</td>\n",
       "    </tr>\n",
       "    <tr>\n",
       "      <th>11</th>\n",
       "      <td>977.893249</td>\n",
       "      <td>1031.0</td>\n",
       "      <td>911.383706</td>\n",
       "      <td>978.215809</td>\n",
       "    </tr>\n",
       "  </tbody>\n",
       "</table>\n",
       "</div>"
      ],
      "text/plain": [
       "    mef_predicted  mef_actual  mef_univariate    mef_lasso\n",
       "0     1007.444051       962.0      968.594385  1004.696100\n",
       "1      971.003911       947.0      913.929397   948.057533\n",
       "2      857.782497       842.0      854.918396   829.206970\n",
       "3      952.437035       937.0      845.709879   925.264163\n",
       "4      891.854263       873.0      842.998082   872.393808\n",
       "5      978.398563      1047.0      906.963847   967.130045\n",
       "6     1046.254558      1123.0      956.694784  1044.752581\n",
       "7     1049.153361      1109.0      974.347057  1049.724600\n",
       "8      944.933357      1047.0      927.877813   946.909111\n",
       "9      887.242219       973.0      891.593290   889.330129\n",
       "10     845.513582       895.0      864.904086   843.349857\n",
       "11     977.893249      1031.0      911.383706   978.215809"
      ]
     },
     "execution_count": 54,
     "metadata": {},
     "output_type": "execute_result"
    }
   ],
   "source": [
    "results"
   ]
  },
  {
   "cell_type": "code",
   "execution_count": 55,
   "metadata": {},
   "outputs": [
    {
     "name": "stdout",
     "output_type": "stream",
     "text": [
      "Test error: 0.04698496413113592\n"
     ]
    }
   ],
   "source": [
    "# Calculate error: sum of (y - y(hat)) / y(hat)^2 \n",
    "temp = pd.DataFrame()\n",
    "temp['diff'] = abs(results['mef_actual'] - results['mef_lasso'])\n",
    "temp['error'] = temp['diff'] / (results['mef_actual'])\n",
    "print(\"Test error: \" + str(temp['error'].mean()))"
   ]
  },
  {
   "cell_type": "code",
   "execution_count": 56,
   "metadata": {},
   "outputs": [
    {
     "name": "stdout",
     "output_type": "stream",
     "text": [
      "Training error: 0.01988071418166161\n"
     ]
    }
   ],
   "source": [
    "# Training error \n",
    "train = pd.DataFrame(index = X_train.index)\n",
    "train['mef_predicted'] = reg.predict(X_train)\n",
    "train['mef_actual'] = y_train['mef']\n",
    "train['diff'] = abs(train['mef_actual'] - train['mef_predicted'])\n",
    "train['error'] = train['diff'] / (train['mef_actual'])\n",
    "print(\"Training error: \" + str(train['error'].mean()))"
   ]
  },
  {
   "cell_type": "code",
   "execution_count": 257,
   "metadata": {},
   "outputs": [
    {
     "data": {
      "text/plain": [
       "array([ 0.00000000e+00,  0.00000000e+00, -0.00000000e+00,  5.39970353e-08,\n",
       "       -3.12326736e-05,  0.00000000e+00])"
      ]
     },
     "execution_count": 257,
     "metadata": {},
     "output_type": "execute_result"
    }
   ],
   "source": [
    "lasso.coef_"
   ]
  },
  {
   "cell_type": "code",
   "execution_count": 258,
   "metadata": {},
   "outputs": [
    {
     "data": {
      "text/plain": [
       "cos_month      -0.125686\n",
       "sin_month      -0.040899\n",
       "year           -0.020776\n",
       "co2_kg          0.000000\n",
       "so2_kg          0.000000\n",
       "gload_mwh       0.000000\n",
       "prev_co2_mef    0.000829\n",
       "pm25_kg         0.015301\n",
       "nox_kg          0.826848\n",
       "dtype: float64"
      ]
     },
     "execution_count": 258,
     "metadata": {},
     "output_type": "execute_result"
    }
   ],
   "source": [
    "coef"
   ]
  },
  {
   "cell_type": "code",
   "execution_count": 259,
   "metadata": {},
   "outputs": [
    {
     "data": {
      "text/plain": [
       "Text(0.5, 1.0, 'Coefficients in the Model')"
      ]
     },
     "execution_count": 259,
     "metadata": {},
     "output_type": "execute_result"
    },
    {
     "data": {
      "image/png": "[encoded data removed]",
      "text/plain": [
       "<Figure size 432x288 with 1 Axes>"
      ]
     },
     "metadata": {
      "needs_background": "light"
     },
     "output_type": "display_data"
    }
   ],
   "source": [
    "imp_coef = pd.DataFrame()\n",
    "coef = pd.Series(lasso.coef_, index = X_train.columns).sort_values()\n",
    "imp_coef = pd.concat([coef.head(10)])\n",
    "imp_coef.plot(kind = \"barh\")\n",
    "plt.title(\"Coefficients in the Model\")"
   ]
  },
  {
   "cell_type": "code",
   "execution_count": 261,
   "metadata": {},
   "outputs": [
    {
     "ename": "IndexError",
     "evalue": "only integers, slices (`:`), ellipsis (`...`), numpy.newaxis (`None`) and integer or boolean arrays are valid indices",
     "output_type": "error",
     "traceback": [
      "\u001b[0;31m---------------------------------------------------------------------------\u001b[0m",
      "\u001b[0;31mIndexError\u001b[0m                                Traceback (most recent call last)",
      "\u001b[0;32m<ipython-input-261-2b1e84b11a46>\u001b[0m in \u001b[0;36m<module>\u001b[0;34m\u001b[0m\n\u001b[1;32m      2\u001b[0m \u001b[0mresults_lasso\u001b[0m \u001b[0;34m=\u001b[0m \u001b[0mpd\u001b[0m\u001b[0;34m.\u001b[0m\u001b[0mDataFrame\u001b[0m\u001b[0;34m(\u001b[0m\u001b[0mindex\u001b[0m \u001b[0;34m=\u001b[0m \u001b[0mX_test\u001b[0m\u001b[0;34m.\u001b[0m\u001b[0mindex\u001b[0m\u001b[0;34m)\u001b[0m\u001b[0;34m\u001b[0m\u001b[0;34m\u001b[0m\u001b[0m\n\u001b[1;32m      3\u001b[0m \u001b[0mresults_lasso\u001b[0m\u001b[0;34m[\u001b[0m\u001b[0;34m'mef_predicted'\u001b[0m\u001b[0;34m]\u001b[0m \u001b[0;34m=\u001b[0m \u001b[0mlasso\u001b[0m\u001b[0;34m.\u001b[0m\u001b[0mpredict\u001b[0m\u001b[0;34m(\u001b[0m\u001b[0mX_test\u001b[0m\u001b[0;34m)\u001b[0m\u001b[0;34m\u001b[0m\u001b[0;34m\u001b[0m\u001b[0m\n\u001b[0;32m----> 4\u001b[0;31m \u001b[0mresults_lasso\u001b[0m\u001b[0;34m[\u001b[0m\u001b[0;34m'mef_actual'\u001b[0m\u001b[0;34m]\u001b[0m \u001b[0;34m=\u001b[0m \u001b[0my\u001b[0m\u001b[0;34m[\u001b[0m\u001b[0;34m'mef'\u001b[0m\u001b[0;34m]\u001b[0m\u001b[0;34m\u001b[0m\u001b[0;34m\u001b[0m\u001b[0m\n\u001b[0m",
      "\u001b[0;31mIndexError\u001b[0m: only integers, slices (`:`), ellipsis (`...`), numpy.newaxis (`None`) and integer or boolean arrays are valid indices"
     ]
    }
   ],
   "source": [
    "# Make predictions using the testing set\n",
    "results_lasso = pd.DataFrame(index = X_test.index)\n",
    "results_lasso['mef_predicted'] = lasso.predict(X_test)\n",
    "results_lasso['mef_actual'] = y['mef']"
   ]
  },
  {
   "cell_type": "code",
   "execution_count": 98,
   "metadata": {},
   "outputs": [
    {
     "name": "stdout",
     "output_type": "stream",
     "text": [
      "Test error: 0.06173776413465069\n"
     ]
    }
   ],
   "source": [
    "# Calculate error: sum of (y - y(hat)) / y(hat) \n",
    "# Test data \n",
    "results_lasso['diff'] = abs(results_lasso['mef_actual'] - results_lasso['mef_predicted'])\n",
    "results_lasso['error'] = results_lasso['diff'] / (results_lasso['mef_actual'])\n",
    "print(\"Test error: \" + str(results_lasso['error'].mean()))"
   ]
  },
  {
   "cell_type": "code",
   "execution_count": null,
   "metadata": {},
   "outputs": [],
   "source": [
    "# Training data \n",
    "train = pd.DataFrame(index = X_train.index)\n",
    "train['mef_predicted'] = lr.predict(X_train)\n",
    "train['mef_actual'] = y_train['mef']\n",
    "train['diff'] = abs(train['mef_actual'] - train['mef_predicted'])\n",
    "train['error'] = train['diff'] / (train['mef_actual'])\n",
    "print(\"Training error: \" + str(train['error'].mean()))"
   ]
  },
  {
   "cell_type": "code",
   "execution_count": 58,
   "metadata": {},
   "outputs": [],
   "source": [
    "df_compare = pd.read_csv(\"mef-regression.csv\", index_col=0)\n",
    "df_compare = df_compare.loc[df_compare['pollutant'] == 'co2']\n",
    "\n",
    "df_compare = df_compare[['year', 'month']]\n",
    "df_compare = df_compare[df_compare['year'].isin(['2016'])]\n",
    "\n",
    "df_compare.columns = ['year', 'month']\n",
    "df_compare.index = range(12)"
   ]
  },
  {
   "cell_type": "code",
   "execution_count": 59,
   "metadata": {
    "scrolled": true
   },
   "outputs": [
    {
     "data": {
      "text/html": [
       "<div>\n",
       "<style scoped>\n",
       "    .dataframe tbody tr th:only-of-type {\n",
       "        vertical-align: middle;\n",
       "    }\n",
       "\n",
       "    .dataframe tbody tr th {\n",
       "        vertical-align: top;\n",
       "    }\n",
       "\n",
       "    .dataframe thead th {\n",
       "        text-align: right;\n",
       "    }\n",
       "</style>\n",
       "<table border=\"1\" class=\"dataframe\">\n",
       "  <thead>\n",
       "    <tr style=\"text-align: right;\">\n",
       "      <th></th>\n",
       "      <th>year</th>\n",
       "      <th>month</th>\n",
       "      <th>mef_predicted</th>\n",
       "      <th>mef_actual</th>\n",
       "      <th>mef_univariate</th>\n",
       "      <th>mef_lasso</th>\n",
       "    </tr>\n",
       "  </thead>\n",
       "  <tbody>\n",
       "    <tr>\n",
       "      <th>0</th>\n",
       "      <td>2016</td>\n",
       "      <td>1</td>\n",
       "      <td>1007.444051</td>\n",
       "      <td>962.0</td>\n",
       "      <td>968.594385</td>\n",
       "      <td>1004.696100</td>\n",
       "    </tr>\n",
       "    <tr>\n",
       "      <th>1</th>\n",
       "      <td>2016</td>\n",
       "      <td>2</td>\n",
       "      <td>971.003911</td>\n",
       "      <td>947.0</td>\n",
       "      <td>913.929397</td>\n",
       "      <td>948.057533</td>\n",
       "    </tr>\n",
       "    <tr>\n",
       "      <th>2</th>\n",
       "      <td>2016</td>\n",
       "      <td>3</td>\n",
       "      <td>857.782497</td>\n",
       "      <td>842.0</td>\n",
       "      <td>854.918396</td>\n",
       "      <td>829.206970</td>\n",
       "    </tr>\n",
       "    <tr>\n",
       "      <th>3</th>\n",
       "      <td>2016</td>\n",
       "      <td>4</td>\n",
       "      <td>952.437035</td>\n",
       "      <td>937.0</td>\n",
       "      <td>845.709879</td>\n",
       "      <td>925.264163</td>\n",
       "    </tr>\n",
       "    <tr>\n",
       "      <th>4</th>\n",
       "      <td>2016</td>\n",
       "      <td>5</td>\n",
       "      <td>891.854263</td>\n",
       "      <td>873.0</td>\n",
       "      <td>842.998082</td>\n",
       "      <td>872.393808</td>\n",
       "    </tr>\n",
       "    <tr>\n",
       "      <th>5</th>\n",
       "      <td>2016</td>\n",
       "      <td>6</td>\n",
       "      <td>978.398563</td>\n",
       "      <td>1047.0</td>\n",
       "      <td>906.963847</td>\n",
       "      <td>967.130045</td>\n",
       "    </tr>\n",
       "    <tr>\n",
       "      <th>6</th>\n",
       "      <td>2016</td>\n",
       "      <td>7</td>\n",
       "      <td>1046.254558</td>\n",
       "      <td>1123.0</td>\n",
       "      <td>956.694784</td>\n",
       "      <td>1044.752581</td>\n",
       "    </tr>\n",
       "    <tr>\n",
       "      <th>7</th>\n",
       "      <td>2016</td>\n",
       "      <td>8</td>\n",
       "      <td>1049.153361</td>\n",
       "      <td>1109.0</td>\n",
       "      <td>974.347057</td>\n",
       "      <td>1049.724600</td>\n",
       "    </tr>\n",
       "    <tr>\n",
       "      <th>8</th>\n",
       "      <td>2016</td>\n",
       "      <td>9</td>\n",
       "      <td>944.933357</td>\n",
       "      <td>1047.0</td>\n",
       "      <td>927.877813</td>\n",
       "      <td>946.909111</td>\n",
       "    </tr>\n",
       "    <tr>\n",
       "      <th>9</th>\n",
       "      <td>2016</td>\n",
       "      <td>10</td>\n",
       "      <td>887.242219</td>\n",
       "      <td>973.0</td>\n",
       "      <td>891.593290</td>\n",
       "      <td>889.330129</td>\n",
       "    </tr>\n",
       "    <tr>\n",
       "      <th>10</th>\n",
       "      <td>2016</td>\n",
       "      <td>11</td>\n",
       "      <td>845.513582</td>\n",
       "      <td>895.0</td>\n",
       "      <td>864.904086</td>\n",
       "      <td>843.349857</td>\n",
       "    </tr>\n",
       "    <tr>\n",
       "      <th>11</th>\n",
       "      <td>2016</td>\n",
       "      <td>12</td>\n",
       "      <td>977.893249</td>\n",
       "      <td>1031.0</td>\n",
       "      <td>911.383706</td>\n",
       "      <td>978.215809</td>\n",
       "    </tr>\n",
       "  </tbody>\n",
       "</table>\n",
       "</div>"
      ],
      "text/plain": [
       "    year  month  mef_predicted  mef_actual  mef_univariate    mef_lasso\n",
       "0   2016      1    1007.444051       962.0      968.594385  1004.696100\n",
       "1   2016      2     971.003911       947.0      913.929397   948.057533\n",
       "2   2016      3     857.782497       842.0      854.918396   829.206970\n",
       "3   2016      4     952.437035       937.0      845.709879   925.264163\n",
       "4   2016      5     891.854263       873.0      842.998082   872.393808\n",
       "5   2016      6     978.398563      1047.0      906.963847   967.130045\n",
       "6   2016      7    1046.254558      1123.0      956.694784  1044.752581\n",
       "7   2016      8    1049.153361      1109.0      974.347057  1049.724600\n",
       "8   2016      9     944.933357      1047.0      927.877813   946.909111\n",
       "9   2016     10     887.242219       973.0      891.593290   889.330129\n",
       "10  2016     11     845.513582       895.0      864.904086   843.349857\n",
       "11  2016     12     977.893249      1031.0      911.383706   978.215809"
      ]
     },
     "execution_count": 59,
     "metadata": {},
     "output_type": "execute_result"
    }
   ],
   "source": [
    "df_compare = df_compare.join(results)\n",
    "df_compare"
   ]
  },
  {
   "cell_type": "code",
   "execution_count": 60,
   "metadata": {},
   "outputs": [],
   "source": [
    "df_graph = df_compare.melt(id_vars=[\"year\", \"month\"], \n",
    "        var_name=\"Type\", \n",
    "        value_name=\"mef\")\n",
    "\n",
    "df_graph['date'] = df_graph[\"year\"].astype(str) + \"-\" + df_graph[\"month\"].astype(str)\n",
    "df_graph['date'] = pd.to_datetime(df_graph['date'])"
   ]
  },
  {
   "cell_type": "code",
   "execution_count": 63,
   "metadata": {},
   "outputs": [
    {
     "data": {
      "image/png": "[encoded data removed]",
      "text/plain": [
       "<Figure size 432x288 with 1 Axes>"
      ]
     },
     "metadata": {
      "needs_background": "light"
     },
     "output_type": "display_data"
    }
   ],
   "source": [
    "sns.lineplot(x='date', y=\"mef\", hue=\"Type\", data=df_graph)\n",
    "\n",
    "plt.title(\"Comparison of Regression Models - Test\")\n",
    "plt.xlabel('Date')\n",
    "plt.ylabel('CO2 MEF')\n",
    "_=plt.xticks(rotation=90)  \n",
    "plt.show()"
   ]
  },
  {
   "cell_type": "markdown",
   "metadata": {},
   "source": [
    "# Archive"
   ]
  },
  {
   "cell_type": "code",
   "execution_count": 31,
   "metadata": {},
   "outputs": [],
   "source": [
    "from sklearn.metrics import make_scorer, mean_squared_error\n",
    "\n",
    "def rmse_cv(model, X, y):\n",
    "     return (cross_val_score(model, X, y, scoring=scorer)).mean()\n",
    "\n",
    "    # scorer = make_scorer(rmsle, False)\n",
    "scorer = make_scorer(mean_squared_error, False)"
   ]
  },
  {
   "cell_type": "code",
   "execution_count": 59,
   "metadata": {},
   "outputs": [
    {
     "name": "stdout",
     "output_type": "stream",
     "text": [
      "Fitting 5 folds for each of 7 candidates, totalling 35 fits\n"
     ]
    },
    {
     "name": "stderr",
     "output_type": "stream",
     "text": [
      "[Parallel(n_jobs=-1)]: Using backend LokyBackend with 2 concurrent workers.\n"
     ]
    },
    {
     "name": "stdout",
     "output_type": "stream",
     "text": [
      "Best Score:  0.9999981059266305\n",
      "Best Params:  {'alpha': 0.001}\n"
     ]
    },
    {
     "name": "stderr",
     "output_type": "stream",
     "text": [
      "[Parallel(n_jobs=-1)]: Done  35 out of  35 | elapsed:    1.6s finished\n"
     ]
    }
   ],
   "source": [
    "from sklearn.model_selection import GridSearchCV\n",
    "\n",
    "# find optimal alpha with grid search\n",
    "alpha = [0.001, 0.01, 0.1, 1, 10, 100, 1000]\n",
    "param_grid = dict(alpha=alpha)\n",
    "grid = GridSearchCV(estimator=reg, param_grid=param_grid, scoring='r2', verbose=1, n_jobs=-1)\n",
    "grid_result = grid.fit(X_train, y_train)\n",
    "print('Best Score: ', grid_result.best_score_)\n",
    "print('Best Params: ', grid_result.best_params_)"
   ]
  },
  {
   "cell_type": "code",
   "execution_count": 276,
   "metadata": {},
   "outputs": [],
   "source": [
    "from sklearn.metrics import mean_squared_error\n",
    "\n",
    "lambdas = (0.001, 0.01, 0.1, 0.5, 1, 2, 10, 100)\n",
    "l_num = 8\n",
    "pred_num = X.shape[1]\n",
    "\n",
    "# prepare data for enumerate\n",
    "coeff_a = np.zeros((l_num, pred_num))\n",
    "mse_train = np.zeros(l_num)\n",
    "mse_test = np.zeros(l_num)"
   ]
  },
  {
   "cell_type": "code",
   "execution_count": 277,
   "metadata": {},
   "outputs": [],
   "source": [
    "# enumerate through lambdas with index and i\n",
    "for ind, i in enumerate(lambdas):    \n",
    "    reg = Lasso(alpha = i)\n",
    "    reg.fit(X_train, y_train)\n",
    "\n",
    "    coeff_a[ind,:] = reg.coef_\n",
    "    train_r_squared[ind] = mean_squared_error(mef, y_train)\n",
    "    test_r_squared[ind] = reg.score(X_test, y_test)"
   ]
  },
  {
   "cell_type": "code",
   "execution_count": 278,
   "metadata": {},
   "outputs": [
    {
     "data": {
      "image/png": "[encoded data removed]",
      "text/plain": [
       "<Figure size 1296x576 with 1 Axes>"
      ]
     },
     "metadata": {
      "needs_background": "light"
     },
     "output_type": "display_data"
    }
   ],
   "source": [
    "# Plotting\n",
    "plt.figure(figsize=(18, 8))\n",
    "plt.plot(train_r_squared, 'bo-', label=r'$R^2$ Training set', color=\"darkblue\", alpha=0.6, linewidth=3)\n",
    "plt.plot(test_r_squared, 'bo-', label=r'$R^2$ Test set', color=\"darkred\", alpha=0.6, linewidth=3)\n",
    "plt.xlabel('Lamda index'); plt.ylabel(r'$R^2$')\n",
    "plt.xlim(0, 6)\n",
    "plt.title(r'Evaluate lasso regression with lamdas: 0 = 0.001, 1= 0.01, 2 = 0.1, 3 = 0.5, 4= 1, 5= 2, 6 = 10')\n",
    "plt.legend(loc='best')\n",
    "plt.grid()"
   ]
  }
 ],
 "metadata": {
  "kernelspec": {
   "display_name": "Python 3",
   "language": "python",
   "name": "python3"
  },
  "language_info": {
   "codemirror_mode": {
    "name": "ipython",
    "version": 3
   },
   "file_extension": ".py",
   "mimetype": "text/x-python",
   "name": "python",
   "nbconvert_exporter": "python",
   "pygments_lexer": "ipython3",
   "version": "3.6.9"
  }
 },
 "nbformat": 4,
 "nbformat_minor": 2
}
